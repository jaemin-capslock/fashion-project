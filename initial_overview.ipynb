{
 "cells": [
  {
   "cell_type": "markdown",
   "source": [
    "# Fashion Project!\n",
    "\n",
    "This notebook is to explore the Fashion Product Images Dataset."
   ],
   "metadata": {
    "collapsed": false,
    "pycharm": {
     "name": "#%% md\n"
    }
   }
  },
  {
   "cell_type": "code",
   "execution_count": 1,
   "metadata": {
    "collapsed": true,
    "pycharm": {
     "name": "#%%\n"
    }
   },
   "outputs": [],
   "source": [
    "import os\n",
    "import numpy as np\n",
    "import pandas as pd\n"
   ]
  },
  {
   "cell_type": "code",
   "execution_count": 2,
   "outputs": [
    {
     "name": "stdout",
     "output_type": "stream",
     "text": [
      "/Users/jaeminko\n"
     ]
    }
   ],
   "source": [
    "d = os.path.dirname(os.path.dirname(os.path.abspath('')))\n",
    "print(d)"
   ],
   "metadata": {
    "collapsed": false,
    "pycharm": {
     "name": "#%%\n"
    }
   }
  },
  {
   "cell_type": "code",
   "execution_count": 3,
   "outputs": [
    {
     "data": {
      "text/plain": "      id gender masterCategory subCategory  articleType baseColour  season  \\\n0  15970    Men        Apparel     Topwear       Shirts  Navy Blue    Fall   \n1  39386    Men        Apparel  Bottomwear        Jeans       Blue  Summer   \n2  59263  Women    Accessories     Watches      Watches     Silver  Winter   \n3  21379    Men        Apparel  Bottomwear  Track Pants      Black    Fall   \n4  53759    Men        Apparel     Topwear      Tshirts       Grey  Summer   \n\n     year   usage                             productDisplayName  \n0  2011.0  Casual               Turtle Check Men Navy Blue Shirt  \n1  2012.0  Casual             Peter England Men Party Blue Jeans  \n2  2016.0  Casual                       Titan Women Silver Watch  \n3  2011.0  Casual  Manchester United Men Solid Black Track Pants  \n4  2012.0  Casual                          Puma Men Grey T-shirt  ",
      "text/html": "<div>\n<style scoped>\n    .dataframe tbody tr th:only-of-type {\n        vertical-align: middle;\n    }\n\n    .dataframe tbody tr th {\n        vertical-align: top;\n    }\n\n    .dataframe thead th {\n        text-align: right;\n    }\n</style>\n<table border=\"1\" class=\"dataframe\">\n  <thead>\n    <tr style=\"text-align: right;\">\n      <th></th>\n      <th>id</th>\n      <th>gender</th>\n      <th>masterCategory</th>\n      <th>subCategory</th>\n      <th>articleType</th>\n      <th>baseColour</th>\n      <th>season</th>\n      <th>year</th>\n      <th>usage</th>\n      <th>productDisplayName</th>\n    </tr>\n  </thead>\n  <tbody>\n    <tr>\n      <th>0</th>\n      <td>15970</td>\n      <td>Men</td>\n      <td>Apparel</td>\n      <td>Topwear</td>\n      <td>Shirts</td>\n      <td>Navy Blue</td>\n      <td>Fall</td>\n      <td>2011.0</td>\n      <td>Casual</td>\n      <td>Turtle Check Men Navy Blue Shirt</td>\n    </tr>\n    <tr>\n      <th>1</th>\n      <td>39386</td>\n      <td>Men</td>\n      <td>Apparel</td>\n      <td>Bottomwear</td>\n      <td>Jeans</td>\n      <td>Blue</td>\n      <td>Summer</td>\n      <td>2012.0</td>\n      <td>Casual</td>\n      <td>Peter England Men Party Blue Jeans</td>\n    </tr>\n    <tr>\n      <th>2</th>\n      <td>59263</td>\n      <td>Women</td>\n      <td>Accessories</td>\n      <td>Watches</td>\n      <td>Watches</td>\n      <td>Silver</td>\n      <td>Winter</td>\n      <td>2016.0</td>\n      <td>Casual</td>\n      <td>Titan Women Silver Watch</td>\n    </tr>\n    <tr>\n      <th>3</th>\n      <td>21379</td>\n      <td>Men</td>\n      <td>Apparel</td>\n      <td>Bottomwear</td>\n      <td>Track Pants</td>\n      <td>Black</td>\n      <td>Fall</td>\n      <td>2011.0</td>\n      <td>Casual</td>\n      <td>Manchester United Men Solid Black Track Pants</td>\n    </tr>\n    <tr>\n      <th>4</th>\n      <td>53759</td>\n      <td>Men</td>\n      <td>Apparel</td>\n      <td>Topwear</td>\n      <td>Tshirts</td>\n      <td>Grey</td>\n      <td>Summer</td>\n      <td>2012.0</td>\n      <td>Casual</td>\n      <td>Puma Men Grey T-shirt</td>\n    </tr>\n  </tbody>\n</table>\n</div>"
     },
     "execution_count": 3,
     "metadata": {},
     "output_type": "execute_result"
    }
   ],
   "source": [
    "styles_df = pd.read_csv(d + '/Downloads/fashion-dataset/styles.csv', on_bad_lines='skip')\n",
    "styles_df.head()"
   ],
   "metadata": {
    "collapsed": false,
    "pycharm": {
     "name": "#%%\n"
    }
   }
  },
  {
   "cell_type": "code",
   "execution_count": 4,
   "outputs": [
    {
     "data": {
      "text/plain": "Casual          16769\nSports           2954\nFormal           2235\nEthnic            107\nSmart Casual       54\nParty               2\nTravel              2\nName: usage, dtype: int64"
     },
     "execution_count": 4,
     "metadata": {},
     "output_type": "execute_result"
    }
   ],
   "source": [
    "styles_df[styles_df['gender'] == 'Men']['usage'].value_counts()"
   ],
   "metadata": {
    "collapsed": false,
    "pycharm": {
     "name": "#%%\n"
    }
   }
  },
  {
   "cell_type": "code",
   "execution_count": 5,
   "outputs": [],
   "source": [
    "N_PICS = 200\n",
    "\n",
    "#N_CLASSES = np.sum((styles_df['baseColour'].value_counts().to_numpy() > N_PICS ) &\n",
    "                  # (styles_df['articleType'].value_counts().to_numpy() > N_PICS))\n",
    "\n",
    "#styles_df['baseColour'].value_counts()"
   ],
   "metadata": {
    "collapsed": false,
    "pycharm": {
     "name": "#%%\n"
    }
   }
  },
  {
   "cell_type": "code",
   "execution_count": 6,
   "outputs": [],
   "source": [
    "color_count = styles_df['baseColour'].value_counts()\n",
    "article_count = styles_df['articleType'].value_counts()"
   ],
   "metadata": {
    "collapsed": false,
    "pycharm": {
     "name": "#%%\n"
    }
   }
  },
  {
   "cell_type": "code",
   "execution_count": 7,
   "outputs": [
    {
     "data": {
      "text/plain": "Tshirts                  6870\nShirts                   3160\nCasual Shoes             2753\nWatches                  2504\nSports Shoes             2030\nKurtas                   1714\nHandbags                 1658\nTops                     1600\nHeels                    1243\nSunglasses               1008\nFlip Flops                904\nWallets                   896\nSandals                   861\nBelts                     787\nBriefs                    763\nBackpacks                 720\nSocks                     682\nFormal Shoes              620\nJeans                     606\nPerfume and Body Mist     595\nShorts                    529\nTrousers                  496\nFlats                     473\nDresses                   433\nEarrings                  410\nBra                       400\nSarees                    389\nDeodorant                 340\nTrack Pants               295\nCaps                      281\nSweatshirts               279\nLipstick                  277\nNail Polish               273\nSweaters                  270\nClutches                  266\nJackets                   252\nTies                      251\nInnerwear Vests           227\nKurtis                    218\nTunics                    213\nName: articleType, dtype: int64"
     },
     "execution_count": 7,
     "metadata": {},
     "output_type": "execute_result"
    }
   ],
   "source": [
    "to_remove_color = color_count[color_count <= 200].index\n",
    "to_remove_article = article_count[article_count <= 200].index\n",
    "\n",
    "filtered_df = styles_df[(~styles_df['baseColour'].isin(to_remove_color)) & (~styles_df['articleType'].isin(to_remove_article))]\n",
    "filtered_df['articleType'].value_counts()"
   ],
   "metadata": {
    "collapsed": false,
    "pycharm": {
     "name": "#%%\n"
    }
   }
  },
  {
   "cell_type": "code",
   "execution_count": 8,
   "outputs": [],
   "source": [
    "# TODO: Zip label like (Gender, baseColour, articleType) for each data.\n",
    "\n",
    "# Then convert into data - label pair."
   ],
   "metadata": {
    "collapsed": false,
    "pycharm": {
     "name": "#%%\n"
    }
   }
  },
  {
   "cell_type": "code",
   "execution_count": 9,
   "outputs": [
    {
     "name": "stderr",
     "output_type": "stream",
     "text": [
      "/var/folders/dx/2k7pj8y12fbg573svnby_g4h0000gn/T/ipykernel_56828/1164843692.py:1: SettingWithCopyWarning: \n",
      "A value is trying to be set on a copy of a slice from a DataFrame.\n",
      "Try using .loc[row_indexer,col_indexer] = value instead\n",
      "\n",
      "See the caveats in the documentation: https://pandas.pydata.org/pandas-docs/stable/user_guide/indexing.html#returning-a-view-versus-a-copy\n",
      "  filtered_df['image'] = filtered_df.apply(lambda row: str(row['id']) + \".jpg\", axis=1)\n"
     ]
    },
    {
     "data": {
      "text/plain": "          id gender masterCategory subCategory            articleType  \\\n0      15970    Men        Apparel     Topwear                 Shirts   \n1      39386    Men        Apparel  Bottomwear                  Jeans   \n2      59263  Women    Accessories     Watches                Watches   \n3      21379    Men        Apparel  Bottomwear            Track Pants   \n4      53759    Men        Apparel     Topwear                Tshirts   \n...      ...    ...            ...         ...                    ...   \n44419  17036    Men       Footwear       Shoes           Casual Shoes   \n44420   6461    Men       Footwear  Flip Flops             Flip Flops   \n44421  18842    Men        Apparel     Topwear                Tshirts   \n44422  46694  Women  Personal Care   Fragrance  Perfume and Body Mist   \n44423  51623  Women    Accessories     Watches                Watches   \n\n      baseColour  season    year   usage  \\\n0      Navy Blue    Fall  2011.0  Casual   \n1           Blue  Summer  2012.0  Casual   \n2         Silver  Winter  2016.0  Casual   \n3          Black    Fall  2011.0  Casual   \n4           Grey  Summer  2012.0  Casual   \n...          ...     ...     ...     ...   \n44419      White  Summer  2013.0  Casual   \n44420        Red  Summer  2011.0  Casual   \n44421       Blue    Fall  2011.0  Casual   \n44422       Blue  Spring  2017.0  Casual   \n44423       Pink  Winter  2016.0  Casual   \n\n                                    productDisplayName      image  \n0                     Turtle Check Men Navy Blue Shirt  15970.jpg  \n1                   Peter England Men Party Blue Jeans  39386.jpg  \n2                             Titan Women Silver Watch  59263.jpg  \n3        Manchester United Men Solid Black Track Pants  21379.jpg  \n4                                Puma Men Grey T-shirt  53759.jpg  \n...                                                ...        ...  \n44419                        Gas Men Caddy Casual Shoe  17036.jpg  \n44420               Lotto Men's Soccer Track Flip Flop   6461.jpg  \n44421             Puma Men Graphic Stellar Blue Tshirt  18842.jpg  \n44422                   Rasasi Women Blue Lady Perfume  46694.jpg  \n44423  Fossil Women Pink Dial Chronograph Watch ES3050  51623.jpg  \n\n[38546 rows x 11 columns]",
      "text/html": "<div>\n<style scoped>\n    .dataframe tbody tr th:only-of-type {\n        vertical-align: middle;\n    }\n\n    .dataframe tbody tr th {\n        vertical-align: top;\n    }\n\n    .dataframe thead th {\n        text-align: right;\n    }\n</style>\n<table border=\"1\" class=\"dataframe\">\n  <thead>\n    <tr style=\"text-align: right;\">\n      <th></th>\n      <th>id</th>\n      <th>gender</th>\n      <th>masterCategory</th>\n      <th>subCategory</th>\n      <th>articleType</th>\n      <th>baseColour</th>\n      <th>season</th>\n      <th>year</th>\n      <th>usage</th>\n      <th>productDisplayName</th>\n      <th>image</th>\n    </tr>\n  </thead>\n  <tbody>\n    <tr>\n      <th>0</th>\n      <td>15970</td>\n      <td>Men</td>\n      <td>Apparel</td>\n      <td>Topwear</td>\n      <td>Shirts</td>\n      <td>Navy Blue</td>\n      <td>Fall</td>\n      <td>2011.0</td>\n      <td>Casual</td>\n      <td>Turtle Check Men Navy Blue Shirt</td>\n      <td>15970.jpg</td>\n    </tr>\n    <tr>\n      <th>1</th>\n      <td>39386</td>\n      <td>Men</td>\n      <td>Apparel</td>\n      <td>Bottomwear</td>\n      <td>Jeans</td>\n      <td>Blue</td>\n      <td>Summer</td>\n      <td>2012.0</td>\n      <td>Casual</td>\n      <td>Peter England Men Party Blue Jeans</td>\n      <td>39386.jpg</td>\n    </tr>\n    <tr>\n      <th>2</th>\n      <td>59263</td>\n      <td>Women</td>\n      <td>Accessories</td>\n      <td>Watches</td>\n      <td>Watches</td>\n      <td>Silver</td>\n      <td>Winter</td>\n      <td>2016.0</td>\n      <td>Casual</td>\n      <td>Titan Women Silver Watch</td>\n      <td>59263.jpg</td>\n    </tr>\n    <tr>\n      <th>3</th>\n      <td>21379</td>\n      <td>Men</td>\n      <td>Apparel</td>\n      <td>Bottomwear</td>\n      <td>Track Pants</td>\n      <td>Black</td>\n      <td>Fall</td>\n      <td>2011.0</td>\n      <td>Casual</td>\n      <td>Manchester United Men Solid Black Track Pants</td>\n      <td>21379.jpg</td>\n    </tr>\n    <tr>\n      <th>4</th>\n      <td>53759</td>\n      <td>Men</td>\n      <td>Apparel</td>\n      <td>Topwear</td>\n      <td>Tshirts</td>\n      <td>Grey</td>\n      <td>Summer</td>\n      <td>2012.0</td>\n      <td>Casual</td>\n      <td>Puma Men Grey T-shirt</td>\n      <td>53759.jpg</td>\n    </tr>\n    <tr>\n      <th>...</th>\n      <td>...</td>\n      <td>...</td>\n      <td>...</td>\n      <td>...</td>\n      <td>...</td>\n      <td>...</td>\n      <td>...</td>\n      <td>...</td>\n      <td>...</td>\n      <td>...</td>\n      <td>...</td>\n    </tr>\n    <tr>\n      <th>44419</th>\n      <td>17036</td>\n      <td>Men</td>\n      <td>Footwear</td>\n      <td>Shoes</td>\n      <td>Casual Shoes</td>\n      <td>White</td>\n      <td>Summer</td>\n      <td>2013.0</td>\n      <td>Casual</td>\n      <td>Gas Men Caddy Casual Shoe</td>\n      <td>17036.jpg</td>\n    </tr>\n    <tr>\n      <th>44420</th>\n      <td>6461</td>\n      <td>Men</td>\n      <td>Footwear</td>\n      <td>Flip Flops</td>\n      <td>Flip Flops</td>\n      <td>Red</td>\n      <td>Summer</td>\n      <td>2011.0</td>\n      <td>Casual</td>\n      <td>Lotto Men's Soccer Track Flip Flop</td>\n      <td>6461.jpg</td>\n    </tr>\n    <tr>\n      <th>44421</th>\n      <td>18842</td>\n      <td>Men</td>\n      <td>Apparel</td>\n      <td>Topwear</td>\n      <td>Tshirts</td>\n      <td>Blue</td>\n      <td>Fall</td>\n      <td>2011.0</td>\n      <td>Casual</td>\n      <td>Puma Men Graphic Stellar Blue Tshirt</td>\n      <td>18842.jpg</td>\n    </tr>\n    <tr>\n      <th>44422</th>\n      <td>46694</td>\n      <td>Women</td>\n      <td>Personal Care</td>\n      <td>Fragrance</td>\n      <td>Perfume and Body Mist</td>\n      <td>Blue</td>\n      <td>Spring</td>\n      <td>2017.0</td>\n      <td>Casual</td>\n      <td>Rasasi Women Blue Lady Perfume</td>\n      <td>46694.jpg</td>\n    </tr>\n    <tr>\n      <th>44423</th>\n      <td>51623</td>\n      <td>Women</td>\n      <td>Accessories</td>\n      <td>Watches</td>\n      <td>Watches</td>\n      <td>Pink</td>\n      <td>Winter</td>\n      <td>2016.0</td>\n      <td>Casual</td>\n      <td>Fossil Women Pink Dial Chronograph Watch ES3050</td>\n      <td>51623.jpg</td>\n    </tr>\n  </tbody>\n</table>\n<p>38546 rows × 11 columns</p>\n</div>"
     },
     "execution_count": 9,
     "metadata": {},
     "output_type": "execute_result"
    }
   ],
   "source": [
    "filtered_df['image'] = filtered_df.apply(lambda row: str(row['id']) + \".jpg\", axis=1)\n",
    "filtered_df"
   ],
   "metadata": {
    "collapsed": false,
    "pycharm": {
     "name": "#%%\n"
    }
   }
  },
  {
   "cell_type": "code",
   "execution_count": 10,
   "outputs": [],
   "source": [
    "new_df = filtered_df[['gender', 'articleType', 'baseColour', 'image']]\n",
    "new_df = new_df.dropna()"
   ],
   "metadata": {
    "collapsed": false,
    "pycharm": {
     "name": "#%%\n"
    }
   }
  },
  {
   "cell_type": "code",
   "execution_count": 11,
   "outputs": [
    {
     "data": {
      "text/plain": "      gender            articleType baseColour      image\n0        Men                 Shirts  Navy Blue  15970.jpg\n1        Men                  Jeans       Blue  39386.jpg\n2      Women                Watches     Silver  59263.jpg\n3        Men            Track Pants      Black  21379.jpg\n4        Men                Tshirts       Grey  53759.jpg\n...      ...                    ...        ...        ...\n44419    Men           Casual Shoes      White  17036.jpg\n44420    Men             Flip Flops        Red   6461.jpg\n44421    Men                Tshirts       Blue  18842.jpg\n44422  Women  Perfume and Body Mist       Blue  46694.jpg\n44423  Women                Watches       Pink  51623.jpg\n\n[38532 rows x 4 columns]",
      "text/html": "<div>\n<style scoped>\n    .dataframe tbody tr th:only-of-type {\n        vertical-align: middle;\n    }\n\n    .dataframe tbody tr th {\n        vertical-align: top;\n    }\n\n    .dataframe thead th {\n        text-align: right;\n    }\n</style>\n<table border=\"1\" class=\"dataframe\">\n  <thead>\n    <tr style=\"text-align: right;\">\n      <th></th>\n      <th>gender</th>\n      <th>articleType</th>\n      <th>baseColour</th>\n      <th>image</th>\n    </tr>\n  </thead>\n  <tbody>\n    <tr>\n      <th>0</th>\n      <td>Men</td>\n      <td>Shirts</td>\n      <td>Navy Blue</td>\n      <td>15970.jpg</td>\n    </tr>\n    <tr>\n      <th>1</th>\n      <td>Men</td>\n      <td>Jeans</td>\n      <td>Blue</td>\n      <td>39386.jpg</td>\n    </tr>\n    <tr>\n      <th>2</th>\n      <td>Women</td>\n      <td>Watches</td>\n      <td>Silver</td>\n      <td>59263.jpg</td>\n    </tr>\n    <tr>\n      <th>3</th>\n      <td>Men</td>\n      <td>Track Pants</td>\n      <td>Black</td>\n      <td>21379.jpg</td>\n    </tr>\n    <tr>\n      <th>4</th>\n      <td>Men</td>\n      <td>Tshirts</td>\n      <td>Grey</td>\n      <td>53759.jpg</td>\n    </tr>\n    <tr>\n      <th>...</th>\n      <td>...</td>\n      <td>...</td>\n      <td>...</td>\n      <td>...</td>\n    </tr>\n    <tr>\n      <th>44419</th>\n      <td>Men</td>\n      <td>Casual Shoes</td>\n      <td>White</td>\n      <td>17036.jpg</td>\n    </tr>\n    <tr>\n      <th>44420</th>\n      <td>Men</td>\n      <td>Flip Flops</td>\n      <td>Red</td>\n      <td>6461.jpg</td>\n    </tr>\n    <tr>\n      <th>44421</th>\n      <td>Men</td>\n      <td>Tshirts</td>\n      <td>Blue</td>\n      <td>18842.jpg</td>\n    </tr>\n    <tr>\n      <th>44422</th>\n      <td>Women</td>\n      <td>Perfume and Body Mist</td>\n      <td>Blue</td>\n      <td>46694.jpg</td>\n    </tr>\n    <tr>\n      <th>44423</th>\n      <td>Women</td>\n      <td>Watches</td>\n      <td>Pink</td>\n      <td>51623.jpg</td>\n    </tr>\n  </tbody>\n</table>\n<p>38532 rows × 4 columns</p>\n</div>"
     },
     "execution_count": 11,
     "metadata": {},
     "output_type": "execute_result"
    }
   ],
   "source": [
    "new_df"
   ],
   "metadata": {
    "collapsed": false,
    "pycharm": {
     "name": "#%%\n"
    }
   }
  },
  {
   "cell_type": "code",
   "execution_count": 56,
   "outputs": [
    {
     "data": {
      "text/plain": "Black        9015\nWhite        5219\nBlue         4494\nBrown        3254\nGrey         2558\nRed          2259\nGreen        1939\nNavy Blue    1647\nPink         1594\nPurple       1489\nSilver        819\nYellow        710\nBeige         678\nMaroon        513\nOrange        471\nGold          458\nOlive         367\nMulti         337\nCream         322\nCharcoal      198\nSteel         191\nName: baseColour, dtype: int64"
     },
     "execution_count": 56,
     "metadata": {},
     "output_type": "execute_result"
    }
   ],
   "source": [
    "new_df['baseColour'].value_counts()"
   ],
   "metadata": {
    "collapsed": false,
    "pycharm": {
     "name": "#%%\n"
    }
   }
  },
  {
   "cell_type": "code",
   "execution_count": 12,
   "outputs": [
    {
     "data": {
      "text/plain": "{'15970.jpg': ('Men', 'Shirts', 'Navy Blue'),\n '39386.jpg': ('Men', 'Jeans', 'Blue'),\n '59263.jpg': ('Women', 'Watches', 'Silver'),\n '21379.jpg': ('Men', 'Track Pants', 'Black'),\n '53759.jpg': ('Men', 'Tshirts', 'Grey'),\n '1855.jpg': ('Men', 'Tshirts', 'Grey'),\n '30805.jpg': ('Men', 'Shirts', 'Green'),\n '26960.jpg': ('Women', 'Shirts', 'Purple'),\n '29114.jpg': ('Men', 'Socks', 'Navy Blue'),\n '30039.jpg': ('Men', 'Watches', 'Black'),\n '9204.jpg': ('Men', 'Casual Shoes', 'Black'),\n '48123.jpg': ('Women', 'Belts', 'Black'),\n '18653.jpg': ('Men', 'Flip Flops', 'Black'),\n '47957.jpg': ('Women', 'Handbags', 'Blue'),\n '46885.jpg': ('Boys', 'Flip Flops', 'Navy Blue'),\n '12369.jpg': ('Men', 'Shirts', 'Purple'),\n '29928.jpg': ('Men', 'Watches', 'Black'),\n '42419.jpg': ('Girls', 'Tops', 'White'),\n '51832.jpg': ('Women', 'Bra', 'Beige'),\n '47359.jpg': ('Women', 'Handbags', 'Brown'),\n '17429.jpg': ('Men', 'Watches', 'Black'),\n '12967.jpg': ('Men', 'Sandals', 'Black'),\n '13089.jpg': ('Men', 'Sweatshirts', 'Grey'),\n '18461.jpg': ('Men', 'Deodorant', 'White'),\n '9036.jpg': ('Men', 'Formal Shoes', 'Black'),\n '7990.jpg': ('Men', 'Tshirts', 'Navy Blue'),\n '56019.jpg': ('Women', 'Lipstick', 'Brown'),\n '21977.jpg': ('Women', 'Handbags', 'Brown'),\n '37812.jpg': ('Men', 'Shirts', 'Navy Blue'),\n '4729.jpg': ('Boys', 'Tshirts', 'Green'),\n '56825.jpg': ('Men', 'Shirts', 'Brown'),\n '39988.jpg': ('Men', 'Casual Shoes', 'White'),\n '59051.jpg': ('Women', 'Flats', 'Black'),\n '20099.jpg': ('Women', 'Kurtas', 'Green'),\n '58183.jpg': ('Women', 'Handbags', 'White'),\n '3954.jpg': ('Women', 'Tshirts', 'Pink'),\n '18839.jpg': ('Men', 'Belts', 'Black'),\n '2886.jpg': ('Women', 'Flats', 'Brown'),\n '28690.jpg': ('Women', 'Kurtas', 'Beige'),\n '3168.jpg': ('Men', 'Sports Shoes', 'White'),\n '18005.jpg': ('Men', 'Shorts', 'Black'),\n '17871.jpg': ('Men', 'Briefs', 'Maroon'),\n '9452.jpg': ('Men', 'Shirts', 'Red'),\n '38402.jpg': ('Women', 'Belts', 'Black'),\n '44984.jpg': ('Women', 'Watches', 'White'),\n '10268.jpg': ('Men', 'Formal Shoes', 'Black'),\n '45856.jpg': ('Women', 'Kurtas', 'Brown'),\n '32138.jpg': ('Men', 'Briefs', 'Blue'),\n '59435.jpg': ('Men', 'Formal Shoes', 'Black'),\n '5891.jpg': ('Men', 'Tshirts', 'Black'),\n '38630.jpg': ('Women', 'Tshirts', 'Purple'),\n '4943.jpg': ('Men', 'Shirts', 'White'),\n '11188.jpg': ('Men', 'Watches', 'Silver'),\n '10866.jpg': ('Men', 'Tshirts', 'Red'),\n '59607.jpg': ('Women', 'Sarees', 'Grey'),\n '15528.jpg': ('Men', 'Tshirts', 'Black'),\n '45258.jpg': ('Men', 'Watches', 'Black'),\n '42841.jpg': ('Women', 'Handbags', 'Beige'),\n '22198.jpg': ('Men', 'Casual Shoes', 'Black'),\n '29570.jpg': ('Men', 'Casual Shoes', 'Purple'),\n '43993.jpg': ('Women', 'Perfume and Body Mist', 'Pink'),\n '6628.jpg': ('Men', 'Sports Shoes', 'White'),\n '54924.jpg': ('Men', 'Shorts', 'Blue'),\n '26538.jpg': ('Men', 'Casual Shoes', 'Red'),\n '35913.jpg': ('Women', 'Handbags', 'Black'),\n '9660.jpg': ('Men', 'Shirts', 'Pink'),\n '2288.jpg': ('Women', 'Tshirts', 'Black'),\n '23876.jpg': ('Men', 'Sweatshirts', 'Blue'),\n '18237.jpg': ('Men', 'Tshirts', 'Red'),\n '54118.jpg': ('Women', 'Heels', 'Black'),\n '2872.jpg': ('Women', 'Heels', 'Brown'),\n '49653.jpg': ('Women', 'Tops', 'Green'),\n '8574.jpg': ('Women', 'Sandals', 'Pink'),\n '16957.jpg': ('Men', 'Sunglasses', 'Black'),\n '19123.jpg': ('Men', 'Flip Flops', 'Silver'),\n '13419.jpg': ('Men', 'Tshirts', 'Pink'),\n '17885.jpg': ('Men', 'Innerwear Vests', 'Grey'),\n '43369.jpg': ('Men', 'Flip Flops', 'Black'),\n '44970.jpg': ('Men', 'Watches', 'White'),\n '33822.jpg': ('Men', 'Sports Shoes', 'White'),\n '5865.jpg': ('Men', 'Tshirts', 'Black'),\n '39716.jpg': ('Women', 'Dresses', 'Blue'),\n '25349.jpg': ('Men', 'Briefs', 'Red'),\n '11940.jpg': ('Men', 'Sandals', 'Black'),\n '29584.jpg': ('Men', 'Tshirts', 'Black'),\n '43967.jpg': ('Women', 'Perfume and Body Mist', 'Red'),\n '34009.jpg': ('Girls', 'Tops', 'Black'),\n '19311.jpg': ('Men', 'Casual Shoes', 'White'),\n '42089.jpg': ('Men', 'Sports Shoes', 'White'),\n '22950.jpg': ('Unisex', 'Watches', 'Black'),\n '49461.jpg': ('Men', 'Casual Shoes', 'Blue'),\n '8746.jpg': ('Unisex', 'Flip Flops', 'Navy Blue'),\n '9694.jpg': ('Men', 'Tshirts', 'White'),\n '23882.jpg': ('Men', 'Sports Shoes', 'Grey'),\n '34835.jpg': ('Men', 'Sports Shoes', 'Blue'),\n '15984.jpg': ('Men', 'Shirts', 'Yellow'),\n '41268.jpg': ('Men', 'Wallets', 'Black'),\n '11518.jpg': ('Women', 'Heels', 'Grey'),\n '14856.jpg': ('Women', 'Wallets', 'Beige'),\n '33648.jpg': ('Men', 'Sandals', 'Brown'),\n '59297.jpg': ('Men', 'Shirts', 'White'),\n '28032.jpg': ('Men', 'Briefs', 'White'),\n '26994.jpg': ('Women', 'Jeans', 'Black'),\n '49839.jpg': ('Women', 'Flip Flops', 'Red'),\n '31923.jpg': ('Women', 'Handbags', 'Blue'),\n '2618.jpg': ('Women', 'Flats', 'Silver'),\n '54588.jpg': ('Women', 'Kurtas', 'Green'),\n '8322.jpg': ('Boys', 'Tshirts', 'Blue'),\n '13841.jpg': ('Unisex', 'Watches', 'White'),\n '12993.jpg': ('Unisex', 'Sports Shoes', 'Black'),\n '7158.jpg': ('Men', 'Shirts', 'Green'),\n '18495.jpg': ('Men', 'Sandals', 'White'),\n '8110.jpg': ('Men', 'Watches', 'Black'),\n '19547.jpg': ('Men', 'Sweatshirts', 'Blue'),\n '7964.jpg': ('Men', 'Tshirts', 'Black'),\n '36934.jpg': ('Women', 'Perfume and Body Mist', 'Gold'),\n '20851.jpg': ('Women', 'Clutches', 'Red'),\n '41866.jpg': ('Men', 'Sandals', 'Beige'),\n '58177.jpg': ('Women', 'Handbags', 'Brown'),\n '44528.jpg': ('Men', 'Sandals', 'Black'),\n '16392.jpg': ('Men', 'Shirts', 'Red'),\n '50587.jpg': ('Men', 'Briefs', 'Grey'),\n '17240.jpg': ('Men', 'Tshirts', 'Black'),\n '6617.jpg': ('Men', 'Shirts', 'Black'),\n '12732.jpg': ('Unisex', 'Backpacks', 'Black'),\n '3365.jpg': ('Men', 'Tshirts', 'Black'),\n '42042.jpg': ('Men', 'Sports Shoes', 'White'),\n '23849.jpg': ('Men', 'Casual Shoes', 'Black'),\n '43190.jpg': ('Women', 'Watches', 'White'),\n '30462.jpg': ('Women', 'Bra', 'Black'),\n '18208.jpg': ('Men', 'Caps', 'White'),\n '54127.jpg': ('Women', 'Heels', 'Black'),\n '10065.jpg': ('Men', 'Tshirts', 'Yellow'),\n '24250.jpg': ('Men', 'Casual Shoes', 'White'),\n '32335.jpg': ('Men', 'Watches', 'Silver'),\n '25382.jpg': ('Men', 'Innerwear Vests', 'White'),\n '56670.jpg': ('Men', 'Watches', 'Black'),\n '5092.jpg': ('Men', 'Tshirts', 'Purple'),\n '10859.jpg': ('Men', 'Tshirts', 'Navy Blue'),\n '59638.jpg': ('Women', 'Sarees', 'Green'),\n '15517.jpg': ('Men', 'Casual Shoes', 'Red'),\n '4140.jpg': ('Women', 'Casual Shoes', 'Green'),\n '36795.jpg': ('Men', 'Watches', 'Silver'),\n '40527.jpg': ('Men', 'Watches', 'Gold'),\n '10257.jpg': ('Men', 'Trousers', 'Black'),\n '24062.jpg': ('Men', 'Tshirts', 'Navy Blue'),\n '45869.jpg': ('Men', 'Watches', 'Brown'),\n '11385.jpg': ('Women', 'Sweatshirts', 'Black'),\n '53130.jpg': ('Women', 'Flats', 'Brown'),\n '44187.jpg': ('Women', 'Perfume and Body Mist', 'White'),\n '21510.jpg': ('Women', 'Handbags', 'White'),\n '51667.jpg': ('Men', 'Sunglasses', 'Grey'),\n '22395.jpg': ('Men', 'Shirts', 'Blue'),\n '35322.jpg': ('Women', 'Earrings', 'Silver'),\n '6425.jpg': ('Unisex', 'Casual Shoes', 'Black'),\n '23247.jpg': ('Men', 'Formal Shoes', 'Black'),\n '17072.jpg': ('Women', 'Belts', 'Grey'),\n '31782.jpg': ('Women', 'Tops', 'Blue'),\n '42270.jpg': ('Unisex', 'Casual Shoes', 'Black'),\n '12500.jpg': ('Men', 'Shirts', 'Black'),\n '26735.jpg': ('Men', 'Deodorant', 'Black'),\n '30650.jpg': ('Men', 'Tshirts', 'Black'),\n '56026.jpg': ('Women', 'Lipstick', 'Brown'),\n '21948.jpg': ('Women', 'Handbags', 'Brown'),\n '32563.jpg': ('Women', 'Trousers', 'Blue'),\n '58980.jpg': ('Women', 'Deodorant', 'Pink'),\n '40143.jpg': ('Girls', 'Tops', 'Blue'),\n '10633.jpg': ('Men', 'Formal Shoes', 'Brown'),\n '24406.jpg': ('Women', 'Kurtas', 'Red'),\n '4716.jpg': ('Unisex', 'Watches', 'Black'),\n '21174.jpg': ('Women', 'Tops', 'Beige'),\n '15341.jpg': ('Women', 'Shorts', 'Pink'),\n '14293.jpg': ('Men', 'Tshirts', 'Blue'),\n '47366.jpg': ('Women', 'Handbags', 'Blue'),\n '6041.jpg': ('Men', 'Tshirts', 'Navy Blue'),\n '23623.jpg': ('Girls', 'Tops', 'Pink'),\n '17416.jpg': ('Men', 'Sports Shoes', 'Black'),\n '9835.jpg': ('Women', 'Tshirts', 'Grey'),\n '29319.jpg': ('Unisex', 'Backpacks', 'Red'),\n '7193.jpg': ('Women', 'Jeans', 'Black'),\n '12958.jpg': ('Men', 'Sports Shoes', 'Black'),\n '30234.jpg': ('Men', 'Flip Flops', 'Black'),\n '9009.jpg': ('Women', 'Handbags', 'Brown'),\n '3533.jpg': ('Men', 'Tshirts', 'Navy Blue'),\n '26351.jpg': ('Women', 'Watches', 'White'),\n '17624.jpg': ('Men', 'Track Pants', 'Navy Blue'),\n '35574.jpg': ('Men', 'Flip Flops', 'Red'),\n '51031.jpg': ('Women', 'Bra', 'White'),\n '13284.jpg': ('Men', 'Shorts', 'Black'),\n '54543.jpg': ('Men', 'Sports Shoes', 'White'),\n '26163.jpg': ('Men', 'Trousers', 'Grey'),\n '3701.jpg': ('Women', 'Tshirts', 'Black'),\n '29917.jpg': ('Men', 'Watches', 'White'),\n '32751.jpg': ('Men', 'Casual Shoes', 'Black'),\n '56214.jpg': ('Women', 'Earrings', 'Gold'),\n '10401.jpg': ('Women', 'Tops', 'Purple'),\n '40371.jpg': ('Women', 'Jeans', 'Navy Blue'),\n '21346.jpg': ('Men', 'Sunglasses', 'Gold'),\n '45603.jpg': ('Men', 'Formal Shoes', 'Black'),\n '4524.jpg': ('Men', 'Sports Shoes', 'Black'),\n '37223.jpg': ('Women', 'Tops', 'Blue'),\n '53766.jpg': ('Men', 'Tshirts', 'White'),\n '25520.jpg': ('Girls', 'Tops', 'White'),\n '32597.jpg': ('Women', 'Tops', 'Black'),\n '58974.jpg': ('Men', 'Deodorant', 'Gold'),\n '33445.jpg': ('Women', 'Wallets', 'Black'),\n '57100.jpg': ('Women', 'Tops', 'Pink'),\n '36137.jpg': ('Women', 'Sports Shoes', 'Pink'),\n '41859.jpg': ('Men', 'Sandals', 'Black'),\n '21180.jpg': ('Men', 'Flip Flops', 'Black'),\n '39943.jpg': ('Men', 'Casual Shoes', 'Brown'),\n '58148.jpg': ('Unisex', 'Caps', 'White'),\n '5630.jpg': ('Women', 'Flip Flops', 'Blue'),\n '44517.jpg': ('Men', 'Flip Flops', 'Brown'),\n '47392.jpg': ('Women', 'Handbags', 'Beige'),\n '50325.jpg': ('Women', 'Kurtas', 'Navy Blue'),\n '8913.jpg': ('Men', 'Sports Shoes', 'White'),\n '16530.jpg': ('Men', 'Shirts', 'Red'),\n '22705.jpg': ('Men', 'Casual Shoes', 'White'),\n '7167.jpg': ('Men', 'Shirts', 'Purple'),\n '46240.jpg': ('Women', 'Tunics', 'White'),\n '27277.jpg': ('Women', 'Kurtas', 'Green'),\n '13042.jpg': ('Women', 'Flats', 'Brown'),\n '6889.jpg': ('Women', 'Jackets', 'Cream'),\n '12190.jpg': ('Men', 'Shirts', 'Blue'),\n '55657.jpg': ('Women', 'Heels', 'Gold'),\n '19578.jpg': ('Women', 'Tops', 'Purple'),\n '27879.jpg': ('Women', 'Tops', 'Blue'),\n '6287.jpg': ('Men', 'Tshirts', 'Yellow'),\n '7355.jpg': ('Men', 'Tshirts', 'Navy Blue'),\n '46072.jpg': ('Men', 'Belts', 'Black'),\n '28831.jpg': ('Women', 'Briefs', 'Brown'),\n '43500.jpg': ('Men', 'Tshirts', 'White'),\n '2627.jpg': ('Women', 'Flats', 'Silver'),\n '13270.jpg': ('Women', 'Tops', 'White'),\n '18698.jpg': ('Men', 'Briefs', 'Grey'),\n '55465.jpg': ('Women', 'Lipstick', 'Red'),\n '26197.jpg': ('Men', 'Perfume and Body Mist', 'Green'),\n '31120.jpg': ('Girls', 'Tops', 'Pink'),\n '25712.jpg': ('Unisex', 'Caps', 'Blue'),\n '11527.jpg': ('Men', 'Tshirts', 'Olive'),\n '14869.jpg': ('Men', 'Wallets', 'Black'),\n '40385.jpg': ('Women', 'Tops', 'Yellow'),\n '15187.jpg': ('Men', 'Tshirts', 'White'),\n '5402.jpg': ('Women', 'Sports Shoes', 'Purple'),\n '44725.jpg': ('Women', 'Flip Flops', 'Orange'),\n '14055.jpg': ('Men', 'Shirts', 'Green'),\n '20260.jpg': ('Men', 'Tshirts', 'Navy Blue'),\n '7731.jpg': ('Men', 'Flip Flops', 'Grey'),\n '22153.jpg': ('Men', 'Sandals', 'Brown'),\n '43958.jpg': ('Men', 'Sandals', 'Olive'),\n '28469.jpg': ('Women', 'Tshirts', 'Pink'),\n '34036.jpg': ('Boys', 'Shirts', 'Blue'),\n '55001.jpg': ('Women', 'Lipstick', 'Pink'),\n '8779.jpg': ('Men', 'Shirts', 'Navy Blue'),\n '3391.jpg': ('Women', 'Handbags', 'White'),\n '43164.jpg': ('Men', 'Watches', 'Black'),\n '2243.jpg': ('Men', 'Tshirts', 'White'),\n '30496.jpg': ('Women', 'Bra', 'Purple'),\n '39729.jpg': ('Women', 'Tops', 'Olive'),\n '25376.jpg': ('Men', 'Innerwear Vests', 'Grey'),\n '11143.jpg': ('Men', 'Shirts', 'Black'),\n '56684.jpg': ('Women', 'Sarees', 'Beige'),\n '4988.jpg': ('Women', 'Dresses', 'White'),\n '44341.jpg': ('Men', 'Tshirts', 'Blue'),\n '14431.jpg': ('Women', 'Heels', 'Black'),\n '20604.jpg': ('Women', 'Handbags', 'Brown'),\n '45293.jpg': ('Women', 'Watches', 'Red'),\n '36761.jpg': ('Men', 'Watches', 'Black'),\n '33021.jpg': ('Women', 'Kurtas', 'Cream'),\n '25144.jpg': ('Women', 'Handbags', 'Orange'),\n '11371.jpg': ('Men', 'Shirts', 'Black'),\n '41401.jpg': ('Women', 'Tops', 'White'),\n '14603.jpg': ('Men', 'Socks', 'Grey'),\n '37481.jpg': ('Women', 'Watches', 'White'),\n '44173.jpg': ('Women', 'Perfume and Body Mist', 'Pink'),\n '25978.jpg': ('Women', 'Perfume and Body Mist', 'Pink'),\n '4386.jpg': ('Men', 'Tshirts', 'Grey'),\n '51693.jpg': ('Unisex', 'Sunglasses', 'Brown'),\n '16154.jpg': ('Men', 'Formal Shoes', 'Black'),\n '29789.jpg': ('Men', 'Tshirts', 'Pink'),\n '19920.jpg': ('Unisex', 'Backpacks', 'Black'),\n '7503.jpg': ('Men', 'Tshirts', 'Blue'),\n '46624.jpg': ('Men', 'Deodorant', 'Grey'),\n '34204.jpg': ('Men', 'Track Pants', 'Navy Blue'),\n '17086.jpg': ('Women', 'Wallets', 'Orange'),\n '50741.jpg': ('Men', 'Casual Shoes', 'Black'),\n '13426.jpg': ('Men', 'Tshirts', 'Red'),\n '43356.jpg': ('Women', 'Sports Shoes', 'Charcoal'),\n '28207.jpg': ('Men', 'Sunglasses', 'Black'),\n '13846.jpg': ('Men', 'Shirts', 'Blue'),\n '12994.jpg': ('Boys', 'Sports Shoes', 'Black'),\n '46278.jpg': ('Women', 'Tunics', 'Red'),\n '16508.jpg': ('Men', 'Jeans', 'Blue'),\n '18492.jpg': ('Men', 'Flip Flops', 'Blue'),\n '19540.jpg': ('Men', 'Sweaters', 'Blue'),\n '7963.jpg': ('Men', 'Tshirts', 'White'),\n '8117.jpg': ('Men', 'Watches', 'Black'),\n '49230.jpg': ('Men', 'Socks', 'Black'),\n '36933.jpg': ('Women', 'Perfume and Body Mist', 'Purple'),\n '57138.jpg': ('Women', 'Trousers', 'Brown'),\n '20856.jpg': ('Men', 'Casual Shoes', 'Black'),\n '41861.jpg': ('Men', 'Sandals', 'Black'),\n '5608.jpg': ('Men', 'Sandals', 'Black'),\n '58170.jpg': ('Women', 'Clutches', 'Red'),\n '39375.jpg': ('Women', 'Watches', 'Silver'),\n '59290.jpg': ('Men', 'Watches', 'Black'),\n '52678.jpg': ('Men', 'Watches', 'Black'),\n '20258.jpg': ('Men', 'Tshirts', 'Brown'),\n '47198.jpg': ('Men', 'Sandals', 'Brown'),\n '27841.jpg': ('Men', 'Belts', 'White'),\n '31924.jpg': ('Women', 'Handbags', 'Black'),\n '26993.jpg': ('Women', 'Jeans', 'Blue'),\n '13248.jpg': ('Men', 'Trousers', 'Brown'),\n '43538.jpg': ('Women', 'Tops', 'Blue'),\n '8325.jpg': ('Boys', 'Tshirts', 'Yellow'),\n '31118.jpg': ('Girls', 'Tops', 'Red'),\n '19772.jpg': ('Men', 'Casual Shoes', 'Blue'),\n '46876.jpg': ('Men', 'Socks', 'Grey'),\n '5862.jpg': ('Men', 'Tshirts', 'Black'),\n '39711.jpg': ('Men', 'Watches', 'Black'),\n '14409.jpg': ('Women', 'Heels', 'White'),\n '58726.jpg': ('Men', 'Tshirts', 'Grey'),\n '44379.jpg': ('Men', 'Perfume and Body Mist', 'Black'),\n '11947.jpg': ('Men', 'Sandals', 'Olive'),\n '36759.jpg': ('Men', 'Watches', 'White'),\n '51499.jpg': ('Women', 'Jeans', 'Blue'),\n '29583.jpg': ('Women', 'Flats', 'Silver'),\n '7709.jpg': ('Women', 'Jeans', 'Black'),\n '28451.jpg': ('Women', 'Track Pants', 'Black'),\n '43960.jpg': ('Men', 'Shirts', 'Grey'),\n '8741.jpg': ('Men', 'Shirts', 'Navy Blue'),\n '55039.jpg': ('Women', 'Lipstick', 'Brown'),\n '19316.jpg': ('Unisex', 'Backpacks', 'Grey'),\n '34832.jpg': ('Men', 'Sports Shoes', 'White'),\n '23885.jpg': ('Men', 'Sports Shoes', 'Grey'),\n '19918.jpg': ('Unisex', 'Backpacks', 'Black'),\n '22359.jpg': ('Men', 'Shirts', 'Blue'),\n '19124.jpg': ('Women', 'Flip Flops', 'Pink'),\n '16950.jpg': ('Men', 'Sunglasses', 'Brown'),\n '2049.jpg': ('Men', 'Tshirts', 'White'),\n '17882.jpg': ('Men', 'Innerwear Vests', 'White'),\n '44977.jpg': ('Men', 'Watches', 'Silver'),\n '33019.jpg': ('Women', 'Kurtas', 'Yellow'),\n '41439.jpg': ('Men', 'Sports Shoes', 'Black'),\n '52812.jpg': ('Men', 'Wallets', 'Black'),\n '11349.jpg': ('Men', 'Jeans', 'Blue'),\n '24892.jpg': ('Men', 'Tshirts', 'Black'),\n '58514.jpg': ('Women', 'Tops', 'Grey'),\n '33825.jpg': ('Women', 'Sports Shoes', 'Silver'),\n '38637.jpg': ('Men', 'Tshirts', 'Red'),\n '5896.jpg': ('Men', 'Casual Shoes', 'Black'),\n '4944.jpg': ('Men', 'Shirts', 'White'),\n '10861.jpg': ('Men', 'Tshirts', 'White'),\n '42846.jpg': ('Women', 'Handbags', 'Multi'),\n '47508.jpg': ('Men', 'Briefs', 'Black'),\n '43994.jpg': ('Women', 'Deodorant', 'Pink'),\n '17278.jpg': ('Men', 'Tshirts', 'Grey'),\n '31588.jpg': ('Men', 'Tshirts', 'Maroon'),\n '49492.jpg': ('Men', 'Casual Shoes', 'Maroon'),\n '18230.jpg': ('Men', 'Tshirts', 'White'),\n '23871.jpg': ('Men', 'Tshirts', 'Grey'),\n '9667.jpg': ('Men', 'Shirts', 'Purple'),\n '3953.jpg': ('Women', 'Tshirts', 'Red'),\n '29745.jpg': ('Men', 'Watches', 'Black'),\n '28697.jpg': ('Women', 'Kurtas', 'Black'),\n '12538.jpg': ('Men', 'Track Pants', 'Blue'),\n '8587.jpg': ('Men', 'Shirts', 'Red'),\n '42248.jpg': ('Women', 'Tops', 'Pink'),\n '17876.jpg': ('Men', 'Innerwear Vests', 'Grey'),\n '30668.jpg': ('Men', 'Sunglasses', 'Black'),\n '9455.jpg': ('Men', 'Shirts', 'Red'),\n '44983.jpg': ('Women', 'Watches', 'Silver'),\n '38405.jpg': ('Women', 'Belts', 'White'),\n '53934.jpg': ('Women', 'Handbags', 'Brown'),\n '25188.jpg': ('Women', 'Handbags', 'Brown'),\n '24866.jpg': ('Men', 'Belts', 'Black'),\n '53108.jpg': ('Women', 'Earrings', 'Silver'),\n '59432.jpg': ('Women', 'Handbags', 'Black'),\n '32903.jpg': ('Women', 'Shorts', 'Red'),\n '6079.jpg': ('Men', 'Tshirts', 'Grey'),\n '12960.jpg': ('Men', 'Sports Shoes', 'White'),\n '29321.jpg': ('Men', 'Tshirts', 'Black'),\n '18466.jpg': ('Women', 'Perfume and Body Mist', 'White'),\n '26369.jpg': ('Women', 'Shirts', 'Blue'),\n '33489.jpg': ('Men', 'Shirts', 'Green'),\n '59056.jpg': ('Women', 'Casual Shoes', 'Blue'),\n '15379.jpg': ('Men', 'Casual Shoes', 'Black'),\n '45409.jpg': ('Women', 'Flats', 'Black'),\n '56822.jpg': ('Men', 'Trousers', 'Beige'),\n '58184.jpg': ('Women', 'Handbags', 'Beige'),\n '40947.jpg': ('Boys', 'Tshirts', 'Red'),\n '39381.jpg': ('Men', 'Jeans', 'Black'),\n '15977.jpg': ('Men', 'Shirts', 'Red'),\n '32769.jpg': ('Men', 'Tshirts', 'Blue'),\n '10439.jpg': ('Men', 'Tshirts', 'Brown'),\n '59264.jpg': ('Women', 'Watches', 'White'),\n '14099.jpg': ('Women', 'Tops', 'Pink'),\n '1852.jpg': ('Men', 'Tshirts', 'Blue'),\n '30802.jpg': ('Men', 'Shirts', 'Blue'),\n '29113.jpg': ('Women', 'Socks', 'White'),\n '7399.jpg': ('Men', 'Formal Shoes', 'Black'),\n '26967.jpg': ('Women', 'Tops', 'Navy Blue'),\n '27089.jpg': ('Women', 'Kurtas', 'Brown'),\n '48124.jpg': ('Women', 'Belts', 'Brown'),\n '9203.jpg': ('Men', 'Sports Shoes', 'Black'),\n '51835.jpg': ('Women', 'Briefs', 'Red'),\n '3739.jpg': ('Men', 'Caps', 'Blue'),\n '19786.jpg': ('Men', 'Tshirts', 'Navy Blue'),\n '44948.jpg': ('Men', 'Sports Shoes', 'Black'),\n '24091.jpg': ('Men', 'Tshirts', 'Navy Blue'),\n '57563.jpg': ('Women', 'Lipstick', 'Brown'),\n '33026.jpg': ('Women', 'Kurtas', 'Pink'),\n '41406.jpg': ('Women', 'Tshirts', 'Pink'),\n '11376.jpg': ('Women', 'Tops', 'Grey'),\n '25143.jpg': ('Women', 'Clutches', 'Silver'),\n '20431.jpg': ('Women', 'Wallets', 'Brown'),\n '14604.jpg': ('Men', 'Socks', 'Green'),\n '4381.jpg': ('Men', 'Tshirts', 'Blue'),\n '46623.jpg': ('Unisex', 'Backpacks', 'Black'),\n '19927.jpg': ('Men', 'Sandals', 'Grey'),\n '7504.jpg': ('Women', 'Tshirts', 'Pink'),\n '22366.jpg': ('Men', 'Tshirts', 'White'),\n '3998.jpg': ('Men', 'Flip Flops', 'Black'),\n '51694.jpg': ('Unisex', 'Sunglasses', 'Brown'),\n '16153.jpg': ('Men', 'Formal Shoes', 'Black'),\n '17081.jpg': ('Women', 'Wallets', 'Blue'),\n '50746.jpg': ('Men', 'Formal Shoes', 'Black'),\n '34203.jpg': ('Men', 'Track Pants', 'Charcoal'),\n '13421.jpg': ('Men', 'Tshirts', 'Black'),\n '27614.jpg': ('Men', 'Trousers', 'Beige'),\n '22154.jpg': ('Men', 'Formal Shoes', 'Black'),\n '16361.jpg': ('Men', 'Shirts', 'Maroon'),\n '46411.jpg': ('Men', 'Sweatshirts', 'Black'),\n '7736.jpg': ('Men', 'Caps', 'Red'),\n '34031.jpg': ('Boys', 'Shirts', 'Blue'),\n '22968.jpg': ('Unisex', 'Backpacks', 'Black'),\n '3396.jpg': ('Women', 'Handbags', 'Blue'),\n '31543.jpg': ('Men', 'Tshirts', 'Navy Blue'),\n '19329.jpg': ('Men', 'Casual Shoes', 'Brown'),\n '13613.jpg': ('Men', 'Innerwear Vests', 'Red'),\n '2244.jpg': ('Women', 'Tshirts', 'Black'),\n '43163.jpg': ('Men', 'Watches', 'White'),\n '33214.jpg': ('Women', 'Tunics', 'Black'),\n '10096.jpg': ('Women', 'Sports Shoes', 'Blue'),\n '11144.jpg': ('Men', 'Shirts', 'Black'),\n '25371.jpg': ('Men', 'Innerwear Vests', 'Maroon'),\n '20603.jpg': ('Women', 'Handbags', 'Black'),\n '11978.jpg': ('Men', 'Sandals', 'Navy Blue'),\n '36766.jpg': ('Men', 'Watches', 'Black'),\n '45294.jpg': ('Women', 'Watches', 'Black'),\n '34455.jpg': ('Women', 'Heels', 'Black'),\n '6280.jpg': ('Men', 'Tshirts', 'Pink'),\n '46075.jpg': ('Men', 'Belts', 'Black'),\n '35587.jpg': ('Men', 'Sandals', 'Brown'),\n '7352.jpg': ('Men', 'Tshirts', 'Purple'),\n '27042.jpg': ('Women', 'Clutches', 'Black'),\n '2620.jpg': ('Men', 'Tshirts', 'Blue'),\n '43507.jpg': ('Men', 'Tshirts', 'Maroon'),\n '28836.jpg': ('Women', 'Kurtas', 'Multi'),\n '31127.jpg': ('Girls', 'Dresses', 'Black'),\n '26190.jpg': ('Men', 'Perfume and Body Mist', 'Blue'),\n '55462.jpg': ('Women', 'Lipstick', 'Purple'),\n '11520.jpg': ('Women', 'Jeans', 'Black'),\n '25715.jpg': ('Unisex', 'Caps', 'Blue'),\n '41250.jpg': ('Men', 'Belts', 'Brown'),\n '40382.jpg': ('Women', 'Tops', 'Pink'),\n '38298.jpg': ('Men', 'Wallets', 'Brown'),\n '57335.jpg': ('Women', 'Bra', 'White'),\n '52647.jpg': ('Women', 'Handbags', 'Black'),\n '20267.jpg': ('Women', 'Heels', 'Black'),\n '14052.jpg': ('Men', 'Shirts', 'White'),\n '53795.jpg': ('Men', 'Tshirts', 'Black'),\n '44722.jpg': ('Women', 'Flip Flops', 'Orange'),\n '5405.jpg': ('Men', 'Sports Shoes', 'White'),\n '39178.jpg': ('Women', 'Kurtas', 'Blue'),\n '32590.jpg': ('Women', 'Shorts', 'Brown'),\n '11712.jpg': ('Men', 'Shirts', 'Blue'),\n '25527.jpg': ('Women', 'Shirts', 'Green'),\n '57107.jpg': ('Women', 'Tops', 'Olive'),\n '20869.jpg': ('Men', 'Sandals', 'Brown'),\n '58973.jpg': ('Women', 'Perfume and Body Mist', 'Pink'),\n '39944.jpg': ('Men', 'Casual Shoes', 'Grey'),\n '21187.jpg': ('Men', 'Flip Flops', 'Yellow'),\n '36130.jpg': ('Men', 'Casual Shoes', 'Grey'),\n '44510.jpg': ('Unisex', 'Casual Shoes', 'Black'),\n '50322.jpg': ('Women', 'Kurtas', 'Black'),\n '28238.jpg': ('Men', 'Deodorant', 'Black'),\n '13879.jpg': ('Men', 'Shirts', 'Red'),\n '47395.jpg': ('Women', 'Handbags', 'Green'),\n '46247.jpg': ('Women', 'Tunics', 'Pink'),\n '7160.jpg': ('Women', 'Tunics', 'Purple'),\n '22702.jpg': ('Women', 'Casual Shoes', 'Beige'),\n '8914.jpg': ('Men', 'Sports Shoes', 'White'),\n '16537.jpg': ('Men', 'Caps', 'Blue'),\n '13045.jpg': ('Women', 'Flats', 'Maroon'),\n '27270.jpg': ('Women', 'Kurtas', 'Maroon'),\n '12197.jpg': ('Men', 'Tshirts', 'Orange'),\n '55650.jpg': ('Women', 'Heels', 'Multi'),\n '31315.jpg': ('Women', 'Kurtas', 'Brown'),\n '6274.jpg': ('Women', 'Tshirts', 'Green'),\n '17623.jpg': ('Men', 'Track Pants', 'Grey'),\n '46081.jpg': ('Men', 'Sandals', 'Navy Blue'),\n '35573.jpg': ('Men', 'Flip Flops', 'Blue'),\n '13283.jpg': ('Men', 'Shirts', 'Blue'),\n '54544.jpg': ('Men', 'Sports Shoes', 'Black'),\n '30001.jpg': ('Women', 'Watches', 'White'),\n '29910.jpg': ('Men', 'Watches', 'Black'),\n '3706.jpg': ('Men', 'Tshirts', 'Grey'),\n '26164.jpg': ('Men', 'Trousers', 'Grey'),\n '56213.jpg': ('Women', 'Earrings', 'Gold'),\n '40376.jpg': ('Women', 'Tops', 'Yellow'),\n '24633.jpg': ('Women', 'Flip Flops', 'Pink'),\n '10406.jpg': ('Women', 'Dresses', 'Grey'),\n '4523.jpg': ('Men', 'Sports Shoes', 'Blue'),\n '45604.jpg': ('Men', 'Formal Shoes', 'Brown'),\n '15174.jpg': ('Men', 'Tshirts', 'Yellow'),\n '21341.jpg': ('Men', 'Sunglasses', 'Steel'),\n '53761.jpg': ('Men', 'Tshirts', 'Green'),\n '37224.jpg': ('Women', 'Shirts', 'Purple'),\n '32564.jpg': ('Women', 'Trousers', 'Orange'),\n '24401.jpg': ('Women', 'Kurtas', 'Brown'),\n '10634.jpg': ('Men', 'Formal Shoes', 'Black'),\n '40144.jpg': ('Girls', 'Tops', 'Pink'),\n '59069.jpg': ('Women', 'Bra', 'White'),\n '15346.jpg': ('Men', 'Tshirts', 'Black'),\n '21173.jpg': ('Women', 'Shirts', 'Grey'),\n '4711.jpg': ('Unisex', 'Watches', 'Black'),\n '40978.jpg': ('Boys', 'Tshirts', 'Red'),\n '14294.jpg': ('Men', 'Tshirts', 'Black'),\n '17411.jpg': ('Men', 'Sports Shoes', 'White'),\n '9832.jpg': ('Women', 'Tshirts', 'Orange'),\n '23624.jpg': ('Girls', 'Tops', 'White'),\n '6046.jpg': ('Men', 'Shirts', 'Green'),\n '34693.jpg': ('Girls', 'Shorts', 'Pink'),\n '47361.jpg': ('Women', 'Handbags', 'Black'),\n '7194.jpg': ('Women', 'Tops', 'White'),\n '30233.jpg': ('Men', 'Casual Shoes', 'White'),\n '48329.jpg': ('Women', 'Handbags', 'Purple'),\n '18459.jpg': ('Men', 'Deodorant', 'White'),\n '27284.jpg': ('Women', 'Kurtas', 'Brown'),\n '3534.jpg': ('Women', 'Tshirts', 'Black'),\n '24065.jpg': ('Men', 'Shirts', 'Green'),\n '10250.jpg': ('Women', 'Handbags', 'Brown'),\n '57597.jpg': ('Women', 'Lipstick', 'Pink'),\n '40520.jpg': ('Men', 'Watches', 'Cream'),\n '1607.jpg': ('Men', 'Track Pants', 'Blue'),\n '11382.jpg': ('Women', 'Tshirts', 'Grey'),\n '44180.jpg': ('Women', 'Perfume and Body Mist', 'White'),\n '37472.jpg': ('Men', 'Watches', 'Grey'),\n '53137.jpg': ('Women', 'Flats', 'Brown'),\n '15722.jpg': ('Men', 'Sports Shoes', 'Grey'),\n '4375.jpg': ('Men', 'Tshirts', 'Navy Blue'),\n '35325.jpg': ('Women', 'Earrings', 'Silver'),\n '22392.jpg': ('Women', 'Tops', 'White'),\n '51660.jpg': ('Men', 'Watches', 'Black'),\n '17075.jpg': ('Women', 'Belts', 'Navy Blue'),\n '23240.jpg': ('Women', 'Kurtas', 'Blue'),\n '6422.jpg': ('Unisex', 'Casual Shoes', 'Black'),\n '18801.jpg': ('Men', 'Belts', 'Brown'),\n '26732.jpg': ('Women', 'Deodorant', 'Purple'),\n '12507.jpg': ('Men', 'Casual Shoes', 'Black'),\n '31785.jpg': ('Women', 'Tops', 'Navy Blue'),\n '3150.jpg': ('Men', 'Sports Shoes', 'Black'),\n '17849.jpg': ('Women', 'Tshirts', 'Grey'),\n '29548.jpg': ('Men', 'Tshirts', 'Navy Blue'),\n '42879.jpg': ('Women', 'Clutches', 'Black'),\n '16395.jpg': ('Men', 'Shirts', 'Black'),\n '51452.jpg': ('Women', 'Tops', 'White'),\n '6610.jpg': ('Men', 'Tshirts', 'White'),\n '47537.jpg': ('Women', 'Flats', 'Brown'),\n '17247.jpg': ('Men', 'Tshirts', 'Blue'),\n '23072.jpg': ('Men', 'Trousers', 'Navy Blue'),\n '42045.jpg': ('Men', 'Casual Shoes', 'Yellow'),\n '3362.jpg': ('Men', 'Tshirts', 'Black'),\n '12735.jpg': ('Unisex', 'Caps', 'Black'),\n '54120.jpg': ('Women', 'Flats', 'Beige'),\n '30465.jpg': ('Women', 'Bra', 'Black'),\n '9658.jpg': ('Men', 'Shirts', 'Maroon'),\n '43197.jpg': ('Women', 'Watches', 'Grey'),\n '38608.jpg': ('Men', 'Tshirts', 'Grey'),\n '24257.jpg': ('Men', 'Casual Shoes', 'Navy Blue'),\n '10062.jpg': ('Men', 'Tshirts', 'Grey'),\n '56677.jpg': ('Men', 'Watches', 'White'),\n '25385.jpg': ('Men', 'Briefs', 'Navy Blue'),\n '32332.jpg': ('Men', 'Watches', 'Steel'),\n '5095.jpg': ('Men', 'Tshirts', 'Blue'),\n '37640.jpg': ('Women', 'Clutches', 'Red'),\n '4147.jpg': ('Women', 'Sports Shoes', 'White'),\n '36792.jpg': ('Men', 'Watches', 'Black'),\n '45260.jpg': ('Men', 'Watches', 'Black'),\n '15510.jpg': ('Men', 'Casual Shoes', 'Charcoal'),\n '21725.jpg': ('Men', 'Sweatshirts', 'Navy Blue'),\n '34038.jpg': ('Boys', 'Shirts', 'Red'),\n '16368.jpg': ('Men', 'Trousers', 'Charcoal'),\n '42884.jpg': ('Women', 'Clutches', 'Beige'),\n '46418.jpg': ('Men', 'Watches', 'Olive'),\n '30498.jpg': ('Women', 'Bra', 'Brown'),\n '8777.jpg': ('Men', 'Shirts', 'Blue'),\n '19320.jpg': ('Unisex', 'Backpacks', 'Pink'),\n '25378.jpg': ('Men', 'Innerwear Vests', 'Beige'),\n '4986.jpg': ('Men', 'Tshirts', 'Red'),\n '39727.jpg': ('Women', 'Shirts', 'Blue'),\n '5854.jpg': ('Women', 'Handbags', 'Pink'),\n '11971.jpg': ('Men', 'Sports Shoes', 'White'),\n '5068.jpg': ('Men', 'Watches', 'Blue'),\n '45893.jpg': ('Men', 'Watches', 'Black'),\n '44941.jpg': ('Men', 'Formal Shoes', 'Black'),\n '24098.jpg': ('Men', 'Sandals', 'Black'),\n '4388.jpg': ('Men', 'Tshirts', 'Green'),\n '28655.jpg': ('Men', 'Sports Shoes', 'White'),\n '2843.jpg': ('Men', 'Tshirts', 'Pink'),\n '17088.jpg': ('Women', 'Wallets', 'Brown'),\n '3991.jpg': ('Men', 'Tshirts', 'White'),\n '29787.jpg': ('Men', 'Tshirts', 'White'),\n '9497.jpg': ('Men', 'Sandals', 'Black'),\n '13428.jpg': ('Men', 'Tshirts', 'White'),\n '19112.jpg': ('Men', 'Tshirts', 'Grey'),\n '16966.jpg': ('Men', 'Sports Shoes', 'Black'),\n '49662.jpg': ('Women', 'Sunglasses', 'Black'),\n '20860.jpg': ('Women', 'Sunglasses', 'Black'),\n '32599.jpg': ('Women', 'Tops', 'Black'),\n '39171.jpg': ('Women', 'Kurtas', 'Pink'),\n '36905.jpg': ('Men', 'Watches', 'Black'),\n '57932.jpg': ('Men', 'Tshirts', 'White'),\n '58146.jpg': ('Unisex', 'Backpacks', 'Black'),\n '40985.jpg': ('Boys', 'Tshirts', 'White'),\n '41857.jpg': ('Men', 'Sandals', 'Olive'),\n '59094.jpg': ('Women', 'Bra', 'Black'),\n '36139.jpg': ('Men', 'Sports Shoes', 'Black'),\n '7169.jpg': ('Men', 'Shirts', 'Blue'),\n '28231.jpg': ('Men', 'Deodorant', 'Black'),\n '13870.jpg': ('Men', 'Shirts', 'Beige'),\n '19576.jpg': ('Women', 'Tops', 'White'),\n '7955.jpg': ('Men', 'Tshirts', 'Grey'),\n '8121.jpg': ('Men', 'Belts', 'Brown'),\n '27279.jpg': ('Women', 'Kurtas', 'Blue'),\n '6887.jpg': ('Women', 'Jackets', 'Blue'),\n '31912.jpg': ('Women', 'Handbags', 'Green'),\n '49808.jpg': ('Women', 'Flip Flops', 'Blue'),\n '22539.jpg': ('Women', 'Heels', 'Brown'),\n '27877.jpg': ('Women', 'Shirts', 'Navy Blue'),\n '6289.jpg': ('Men', 'Tshirts', 'Brown'),\n '28003.jpg': ('Men', 'Briefs', 'White'),\n '8313.jpg': ('Women', 'Handbags', 'Black'),\n '19744.jpg': ('Men', 'Jackets', 'Green'),\n '26199.jpg': ('Men', 'Perfume and Body Mist', 'Black'),\n '47992.jpg': ('Women', 'Watches', 'Black'),\n '18696.jpg': ('Men', 'Briefs', 'Black'),\n '2629.jpg': ('Women', 'Flats', 'Black'),\n '14867.jpg': ('Men', 'Wallets', 'Black'),\n '38291.jpg': ('Men', 'Wallets', 'Black'),\n '11529.jpg': ('Men', 'Sweaters', 'Grey'),\n '41259.jpg': ('Men', 'Wallets', 'Brown'),\n '1890.jpg': ('Men', 'Tshirts', 'Red'),\n '15189.jpg': ('Men', 'Tshirts', 'Green'),\n '24408.jpg': ('Men', 'Sports Shoes', 'Black'),\n '20894.jpg': ('Men', 'Casual Shoes', 'Red'),\n '21946.jpg': ('Women', 'Handbags', 'Black'),\n '56028.jpg': ('Women', 'Lipstick', 'Maroon'),\n '40971.jpg': ('Men', 'Casual Shoes', 'Brown'),\n '59060.jpg': ('Women', 'Kurtas', 'Red'),\n '4718.jpg': ('Girls', 'Tshirts', 'Yellow'),\n '56814.jpg': ('Women', 'Kurtis', 'Multi'),\n '12956.jpg': ('Men', 'Sports Shoes', 'Blue'),\n '29317.jpg': ('Unisex', 'Backpacks', 'Blue'),\n '17418.jpg': ('Men', 'Watches', 'Black'),\n '47368.jpg': ('Women', 'Handbags', 'Brown'),\n '13884.jpg': ('Men', 'Shirts', 'Black'),\n '19582.jpg': ('Men', 'Tshirts', 'Grey'),\n '9007.jpg': ('Women', 'Handbags', 'Silver'),\n '6873.jpg': ('Women', 'Dresses', 'Black'),\n '18450.jpg': ('Women', 'Perfume and Body Mist', 'White'),\n '29125.jpg': ('Women', 'Sunglasses', 'White'),\n '27883.jpg': ('Women', 'Tshirts', 'Pink'),\n '30834.jpg': ('Women', 'Kurtas', 'Blue'),\n '29919.jpg': ('Men', 'Watches', 'Black'),\n '42428.jpg': ('Women', 'Kurtas', 'Brown'),\n '12358.jpg': ('Men', 'Shirts', 'Cream'),\n '48112.jpg': ('Women', 'Belts', 'Brown'),\n '9235.jpg': ('Men', 'Shirts', 'Blue'),\n '15941.jpg': ('Men', 'Belts', 'Black'),\n '53768.jpg': ('Men', 'Tshirts', 'Blue'),\n '21348.jpg': ('Men', 'Sunglasses', 'Silver'),\n '59252.jpg': ('Men', 'Watches', 'White'),\n '6619.jpg': ('Men', 'Sports Shoes', 'White'),\n '54915.jpg': ('Men', 'Tshirts', 'Cream'),\n '50589.jpg': ('Men', 'Briefs', 'Navy Blue'),\n '42870.jpg': ('Women', 'Handbags', 'Purple'),\n '18206.jpg': ('Men', 'Caps', 'Black'),\n '54129.jpg': ('Women', 'Heels', 'Beige'),\n '23847.jpg': ('Men', 'Sports Shoes', 'White'),\n '9651.jpg': ('Men', 'Shirts', 'Green'),\n '8783.jpg': ('Men', 'Shirts', 'Red'),\n '4972.jpg': ('Men', 'Shirts', 'Green'),\n '38601.jpg': ('Men', 'Tshirts', 'Red'),\n '45269.jpg': ('Men', 'Watches', 'Black'),\n '11985.jpg': ('Men', 'Sports Shoes', 'Black'),\n '15519.jpg': ('Men', 'Flip Flops', 'Brown'),\n '10857.jpg': ('Men', 'Tshirts', 'White'),\n '10259.jpg': ('Men', 'Trousers', 'Black'),\n '53902.jpg': ('Women', 'Handbags', 'Brown'),\n '40529.jpg': ('Women', 'Watches', 'White'),\n '59404.jpg': ('Women', 'Tops', 'Blue'),\n '25982.jpg': ('Women', 'Perfume and Body Mist', 'White'),\n '44189.jpg': ('Women', 'Flip Flops', 'Pink'),\n '24850.jpg': ('Men', 'Belts', 'Brown'),\n '23249.jpg': ('Men', 'Formal Shoes', 'Black'),\n '18808.jpg': ('Men', 'Belts', 'Navy Blue'),\n '51669.jpg': ('Men', 'Sunglasses', 'Silver'),\n '3965.jpg': ('Women', 'Tops', 'White'),\n '29773.jpg': ('Men', 'Shirts', 'Green'),\n '17840.jpg': ('Men', 'Sports Shoes', 'Red'),\n '9463.jpg': ('Men', 'Shirts', 'White'),\n '18034.jpg': ('Women', 'Handbags', 'Beige'),\n '16992.jpg': ('Women', 'Belts', 'Black'),\n '3159.jpg': ('Men', 'Sports Shoes', 'White'),\n '49696.jpg': ('Men', 'Ties', 'Blue'),\n '14858.jpg': ('Women', 'Wallets', 'Red'),\n '33646.jpg': ('Men', 'Sandals', 'Black'),\n '57303.jpg': ('Women', 'Heels', 'Brown'),\n '11516.jpg': ('Women', 'Heels', 'Black'),\n '41266.jpg': ('Men', 'Wallets', 'Brown'),\n '20251.jpg': ('Men', 'Tshirts', 'Grey'),\n '14064.jpg': ('Men', 'Tshirts', 'Red'),\n '44714.jpg': ('Men', 'Flip Flops', 'Maroon'),\n '5433.jpg': ('Men', 'Tshirts', 'Red'),\n '52671.jpg': ('Men', 'Watches', 'Navy Blue'),\n '59299.jpg': ('Men', 'Shirts', 'Blue'),\n '49837.jpg': ('Women', 'Flip Flops', 'Blue'),\n '16733.jpg': ('Men', 'Flip Flops', 'Black'),\n '7364.jpg': ('Men', 'Casual Shoes', 'Brown'),\n '34463.jpg': ('Unisex', 'Backpacks', 'Black'),\n '47191.jpg': ('Men', 'Formal Shoes', 'Black'),\n '27848.jpg': ('Women', 'Tshirts', 'Navy Blue'),\n '31111.jpg': ('Boys', 'Jeans', 'Black'),\n '12393.jpg': ('Men', 'Socks', 'Black'),\n '13241.jpg': ('Men', 'Jackets', 'White'),\n '54586.jpg': ('Women', 'Kurtas', 'Green'),\n '27074.jpg': ('Women', 'Flats', 'Blue'),\n '2616.jpg': ('Women', 'Flats', 'Gold'),\n '46271.jpg': ('Women', 'Dresses', 'Blue'),\n '7156.jpg': ('Men', 'Shirts', 'Black'),\n '22734.jpg': ('Women', 'Sports Shoes', 'Grey'),\n '8922.jpg': ('Men', 'Belts', 'White'),\n '16501.jpg': ('Men', 'Tshirts', 'Brown'),\n '50314.jpg': ('Men', 'Ties', 'Brown'),\n '34651.jpg': ('Women', 'Sports Shoes', 'Black'),\n '6084.jpg': ('Men', 'Tshirts', 'White'),\n '19549.jpg': ('Men', 'Sweatshirts', 'Grey'),\n '49239.jpg': ('Men', 'Caps', 'White'),\n '31323.jpg': ('Women', 'Kurtas', 'White'),\n '13073.jpg': ('Men', 'Casual Shoes', 'White'),\n '40186.jpg': ('Women', 'Kurtis', 'Black'),\n '58945.jpg': ('Women', 'Perfume and Body Mist', 'White'),\n '33474.jpg': ('Women', 'Belts', 'Blue'),\n '59897.jpg': ('Women', 'Dresses', 'Yellow'),\n '11724.jpg': ('Women', 'Shirts', 'Red'),\n '5601.jpg': ('Men', 'Flip Flops', 'Brown'),\n '58179.jpg': ('Women', 'Handbags', 'Blue'),\n '39972.jpg': ('Men', 'Casual Shoes', 'Grey'),\n '15384.jpg': ('Men', 'Flip Flops', 'Black'),\n '36106.jpg': ('Men', 'Wallets', 'Black'),\n '34235.jpg': ('Men', 'Tshirts', 'Cream'),\n '46615.jpg': ('Women', 'Heels', 'Red'),\n '7532.jpg': ('Men', 'Tshirts', 'Blue'),\n '22350.jpg': ('Men', 'Shirts', 'Blue'),\n '2040.jpg': ('Men', 'Tshirts', 'White'),\n '43367.jpg': ('Women', 'Flats', 'Black'),\n '13417.jpg': ('Men', 'Shirts', 'Blue'),\n '27622.jpg': ('Men', 'Trousers', 'Grey'),\n '3192.jpg': ('Men', 'Tshirts', 'Black'),\n '16959.jpg': ('Women', 'Sunglasses', 'Brown'),\n '11340.jpg': ('Men', 'Jeans', 'Blue'),\n '25175.jpg': ('Women', 'Handbags', 'Red'),\n '10292.jpg': ('Women', 'Heels', 'Brown'),\n '57555.jpg': ('Women', 'Lipstick', 'Pink'),\n '36562.jpg': ('Men', 'Tshirts', 'White'),\n '44142.jpg': ('Men', 'Perfume and Body Mist', 'Green'),\n '11172.jpg': ('Men', 'Sweaters', 'Red'),\n '25347.jpg': ('Men', 'Briefs', 'White'),\n '39718.jpg': ('Women', 'Tops', 'Beige'),\n '41602.jpg': ('Men', 'Shirts', 'Navy Blue'),\n '33222.jpg': ('Women', 'Tunics', 'Brown'),\n '24295.jpg': ('Men', 'Socks', 'Black'),\n '36750.jpg': ('Girls', 'Dresses', 'Navy Blue'),\n '37682.jpg': ('Unisex', 'Backpacks', 'Black'),\n '34007.jpg': ('Girls', 'Tops', 'Pink'),\n '50542.jpg': ('Men', 'Briefs', 'Red'),\n '17285.jpg': ('Men', 'Tshirts', 'Black'),\n '43969.jpg': ('Women', 'Perfume and Body Mist', 'Black'),\n '22162.jpg': ('Men', 'Casual Shoes', 'Black'),\n '16357.jpg': ('Men', 'Shirts', 'Blue'),\n '46427.jpg': ('Men', 'Watches', 'Black'),\n '7700.jpg': ('Women', 'Tops', 'Pink'),\n '2272.jpg': ('Men', 'Tshirts', 'Blue'),\n '43155.jpg': ('Women', 'Watches', 'Black'),\n '42087.jpg': ('Men', 'Sports Shoes', 'White'),\n '8748.jpg': ('Men', 'Shirts', 'Orange'),\n '55030.jpg': ('Women', 'Lipstick', 'Red'),\n '17043.jpg': ('Men', 'Casual Shoes', 'Black'),\n '50784.jpg': ('Women', 'Heels', 'Cream'),\n '2888.jpg': ('Women', 'Heels', 'Brown'),\n '23276.jpg': ('Men', 'Watches', 'Black'),\n '6414.jpg': ('Men', 'Flip Flops', 'Grey'),\n '18837.jpg': ('Men', 'Belts', 'Brown'),\n '35313.jpg': ('Women', 'Earrings', 'Silver'),\n '51656.jpg': ('Men', 'Watches', 'Black'),\n '16191.jpg': ('Men', 'Tshirts', 'White'),\n '30661.jpg': ('Men', 'Sunglasses', 'Black'),\n '43393.jpg': ('Men', 'Wallets', 'Brown'),\n '26704.jpg': ('Men', 'Sports Shoes', 'White'),\n '12531.jpg': ('Women', 'Sweatshirts', 'Pink'),\n '42241.jpg': ('Women', 'Tops', 'Purple'),\n '56473.jpg': ('Women', 'Nail Polish', 'Purple'),\n '25181.jpg': ('Women', 'Handbags', 'Brown'),\n '24053.jpg': ('Men', 'Tshirts', 'Charcoal'),\n '10266.jpg': ('Men', 'Casual Shoes', 'Brown'),\n '40516.jpg': ('Men', 'Watches', 'White'),\n '15714.jpg': ('Men', 'Sports Shoes', 'Black'),\n '21521.jpg': ('Women', 'Handbags', 'Pink'),\n '4343.jpg': ('Men', 'Casual Shoes', 'Red'),\n '5291.jpg': ('Men', 'Formal Shoes', 'Black'),\n '53101.jpg': ('Women', 'Earrings', 'Silver'),\n '32304.jpg': ('Women', 'Watches', 'White'),\n '10054.jpg': ('Boys', 'Tshirts', 'Blue'),\n '4171.jpg': ('Men', 'Sports Shoes', 'White'),\n '45256.jpg': ('Men', 'Watches', 'Black'),\n '15526.jpg': ('Women', 'Heels', 'Brown'),\n '21713.jpg': ('Men', 'Watches', 'Blue'),\n '44384.jpg': ('Women', 'Deodorant', 'White'),\n '37676.jpg': ('Unisex', 'Backpacks', 'Black'),\n '6626.jpg': ('Men', 'Sports Shoes', 'Blue'),\n '47501.jpg': ('Unisex', 'Casual Shoes', 'Red'),\n '17271.jpg': ('Men', 'Tshirts', 'Grey'),\n '22196.jpg': ('Men', 'Casual Shoes', 'Black'),\n '51464.jpg': ('Women', 'Tops', 'Olive'),\n '54116.jpg': ('Women', 'Heels', 'Maroon'),\n '30453.jpg': ('Men', 'Jeans', 'White'),\n '2286.jpg': ('Men', 'Sweatshirts', 'Black'),\n '23878.jpg': ('Women', 'Casual Shoes', 'Green'),\n '48549.jpg': ('Women', 'Belts', 'Black'),\n '42073.jpg': ('Men', 'Wallets', 'Black'),\n '31581.jpg': ('Men', 'Tshirts', 'Blue'),\n '3354.jpg': ('Men', 'Tshirts', 'White'),\n '26536.jpg': ('Men', 'Casual Shoes', 'White'),\n '12703.jpg': ('Women', 'Sports Shoes', 'White'),\n '10430.jpg': ('Men', 'Shirts', 'Blue'),\n '39388.jpg': ('Men', 'Jeans', 'Black'),\n '14090.jpg': ('Men', 'Tshirts', 'Blue'),\n '53757.jpg': ('Women', 'Sports Shoes', 'White'),\n '37212.jpg': ('Men', 'Shirts', 'Pink'),\n '4515.jpg': ('Men', 'Sports Shoes', 'White'),\n '51000.jpg': ('Women', 'Bra', 'Maroon'),\n '7390.jpg': ('Men', 'Formal Shoes', 'Brown'),\n '35545.jpg': ('Girls', 'Sandals', 'Brown'),\n '6242.jpg': ('Women', 'Tshirts', 'Purple'),\n '47165.jpg': ('Men', 'Belts', 'Black'),\n '17615.jpg': ('Boys', 'Tshirts', 'White'),\n '29926.jpg': ('Men', 'Watches', 'Black'),\n '3730.jpg': ('Men', 'Tshirts', 'Yellow'),\n '26152.jpg': ('Men', 'Trousers', 'Grey'),\n '12367.jpg': ('Men', 'Shirts', 'White'),\n '54572.jpg': ('Women', 'Kurtas', 'Pink'),\n '27080.jpg': ('Women', 'Heels', 'Silver'),\n '30037.jpg': ('Men', 'Watches', 'Silver'),\n '46285.jpg': ('Women', 'Dresses', 'Multi'),\n '12969.jpg': ('Men', 'Sports Shoes', 'Blue'),\n '35777.jpg': ('Men', 'Sports Shoes', 'Black'),\n '51232.jpg': ('Women', 'Kurtas', 'Green'),\n '17427.jpg': ('Men', 'Watches', 'White'),\n '9804.jpg': ('Men', 'Shirts', 'Black'),\n '23612.jpg': ('Women', 'Perfume and Body Mist', 'Pink'),\n '6070.jpg': ('Women', 'Tshirts', 'Blue'),\n '26360.jpg': ('Women', 'Tshirts', 'Grey'),\n '42625.jpg': ('Women', 'Earrings', 'Silver'),\n '3502.jpg': ('Women', 'Tshirts', 'Black'),\n '30205.jpg': ('Women', 'Handbags', 'Pink'),\n '9038.jpg': ('Men', 'Formal Shoes', 'Brown'),\n '54740.jpg': ('Men', 'Casual Shoes', 'Black'),\n '13087.jpg': ('Unisex', 'Casual Shoes', 'Brown'),\n '10602.jpg': ('Men', 'Tshirts', 'Red'),\n '40172.jpg': ('Men', 'Sunglasses', 'Black'),\n '33480.jpg': ('Women', 'Belts', 'Purple'),\n '32552.jpg': ('Men', 'Casual Shoes', 'Black'),\n '21979.jpg': ('Women', 'Clutches', 'Black'),\n '56017.jpg': ('Women', 'Lipstick', 'Brown'),\n '20097.jpg': ('Women', 'Kurtas', 'White'),\n '53565.jpg': ('Men', 'Watches', 'Black'),\n '15370.jpg': ('Women', 'Sweatshirts', 'Pink'),\n '39986.jpg': ('Men', 'Casual Shoes', 'Navy Blue'),\n '21145.jpg': ('Women', 'Shirts', 'Black'),\n '4727.jpg': ('Boys', 'Tshirts', 'Blue'),\n '45400.jpg': ('Women', 'Flats', 'Maroon'),\n '38434.jpg': ('Women', 'Handbags', 'Blue'),\n '53905.jpg': ('Women', 'Handbags', 'Beige'),\n '1609.jpg': ('Women', 'Sweatshirts', 'Pink'),\n '59403.jpg': ('Women', 'Tshirts', 'White'),\n '21519.jpg': ('Women', 'Handbags', 'White'),\n '53139.jpg': ('Women', 'Heels', 'Blue'),\n '29774.jpg': ('Men', 'Shirts', 'Purple'),\n '3962.jpg': ('Women', 'Tops', 'Black'),\n '18033.jpg': ('Women', 'Handbags', 'Brown'),\n '17847.jpg': ('Men', 'Sports Shoes', 'White'),\n '9464.jpg': ('Men', 'Shirts', 'White'),\n '12509.jpg': ('Men', 'Casual Shoes', 'Brown'),\n '17249.jpg': ('Men', 'Tshirts', 'Blue'),\n '47539.jpg': ('Women', 'Flats', 'White'),\n '29546.jpg': ('Men', 'Tshirts', 'Black'),\n '42877.jpg': ('Women', 'Wallets', 'Maroon'),\n '9656.jpg': ('Men', 'Shirts', 'Maroon'),\n '23840.jpg': ('Men', 'Casual Shoes', 'Brown'),\n '18201.jpg': ('Men', 'Jackets', 'Olive'),\n '35925.jpg': ('Women', 'Clutches', 'Yellow'),\n '8784.jpg': ('Unisex', 'Sunglasses', 'Brown'),\n '4975.jpg': ('Men', 'Tshirts', 'Red'),\n '56679.jpg': ('Women', 'Heels', 'Brown'),\n '24259.jpg': ('Men', 'Casual Shoes', 'Navy Blue'),\n '38606.jpg': ('Men', 'Tshirts', 'White'),\n '59631.jpg': ('Women', 'Sarees', 'Red'),\n '4149.jpg': ('Women', 'Sports Shoes', 'White'),\n '10850.jpg': ('Men', 'Tshirts', 'Blue'),\n '26956.jpg': ('Women', 'Tops', 'Black'),\n '29122.jpg': ('Unisex', 'Caps', 'Black'),\n '30833.jpg': ('Women', 'Kurtas', 'Beige'),\n '27884.jpg': ('Women', 'Shirts', 'Blue'),\n '3708.jpg': ('Men', 'Tshirts', 'Navy Blue'),\n '48115.jpg': ('Women', 'Belts', 'Black'),\n '18665.jpg': ('Men', 'Casual Shoes', 'White'),\n '47961.jpg': ('Women', 'Clutches', 'Grey'),\n '10408.jpg': ('Women', 'Tops', 'Black'),\n '15946.jpg': ('Men', 'Ties', 'Black'),\n '1863.jpg': ('Men', 'Tshirts', 'Black'),\n '59255.jpg': ('Men', 'Watches', 'Black'),\n '20893.jpg': ('Men', 'Casual Shoes', 'Black'),\n '58989.jpg': ('Men', 'Deodorant', 'White'),\n '38050.jpg': ('Men', 'Watches', 'Black'),\n '41098.jpg': ('Women', 'Tops', 'Cream'),\n '21941.jpg': ('Women', 'Handbags', 'Black'),\n '56813.jpg': ('Women', 'Kurtis', 'Multi'),\n '59067.jpg': ('Women', 'Bra', 'Black'),\n '15348.jpg': ('Men', 'Tshirts', 'Black'),\n '12951.jpg': ('Men', 'Shirts', 'Blue'),\n '6048.jpg': ('Men', 'Shirts', 'Black'),\n '13883.jpg': ('Men', 'Shirts', 'Purple'),\n '19585.jpg': ('Women', 'Tops', 'Blue'),\n '6874.jpg': ('Women', 'Dresses', 'Pink'),\n '18457.jpg': ('Men', 'Perfume and Body Mist', 'White'),\n '9000.jpg': ('Men', 'Casual Shoes', 'Brown'),\n '48327.jpg': ('Women', 'Handbags', 'Green'),\n '35589.jpg': ('Men', 'Sandals', 'Olive'),\n '31915.jpg': ('Women', 'Clutches', 'Green'),\n '27870.jpg': ('Women', 'Shirts', 'White'),\n '19743.jpg': ('Women', 'Caps', 'Blue'),\n '8314.jpg': ('Men', 'Shirts', 'Blue'),\n '47995.jpg': ('Men', 'Watches', 'Black'),\n '38296.jpg': ('Men', 'Wallets', 'Brown'),\n '14860.jpg': ('Women', 'Wallets', 'Charcoal'),\n '39344.jpg': ('Men', 'Tshirts', 'Green'),\n '1897.jpg': ('Men', 'Tshirts', 'Blue'),\n '52649.jpg': ('Women', 'Handbags', 'Orange'),\n '57109.jpg': ('Women', 'Tunics', 'Blue'),\n '36902.jpg': ('Men', 'Watches', 'Silver'),\n '25529.jpg': ('Men', 'Shirts', 'White'),\n '39176.jpg': ('Women', 'Kurtas', 'Purple'),\n '40982.jpg': ('Boys', 'Tshirts', 'White'),\n '58141.jpg': ('Women', 'Earrings', 'Silver'),\n '57935.jpg': ('Men', 'Sandals', 'Black'),\n '59093.jpg': ('Women', 'Bra', 'White'),\n '41850.jpg': ('Men', 'Socks', 'Black'),\n '21189.jpg': ('Unisex', 'Backpacks', 'Blue'),\n '16539.jpg': ('Men', 'Shirts', 'White'),\n '46249.jpg': ('Women', 'Tunics', 'Pink'),\n '13877.jpg': ('Men', 'Shirts', 'Maroon'),\n '28236.jpg': ('Women', 'Deodorant', 'Pink'),\n '8126.jpg': ('Men', 'Belts', 'Brown'),\n '19571.jpg': ('Men', 'Tshirts', 'Black'),\n '12199.jpg': ('Men', 'Tshirts', 'Blue'),\n '7952.jpg': ('Men', 'Tshirts', 'Black'),\n '6880.jpg': ('Women', 'Jackets', 'Black'),\n '11378.jpg': ('Men', 'Shirts', 'White'),\n '39512.jpg': ('Unisex', 'Backpacks', 'Black'),\n '52823.jpg': ('Women', 'Earrings', 'Green'),\n '41408.jpg': ('Women', 'Tops', 'Red'),\n '33028.jpg': ('Women', 'Kurtas', 'Blue'),\n '25971.jpg': ('Women', 'Dresses', 'Black'),\n '37488.jpg': ('Women', 'Watches', 'Silver'),\n '2844.jpg': ('Men', 'Tshirts', 'Navy Blue'),\n '50748.jpg': ('Men', 'Casual Shoes', 'Brown'),\n '28652.jpg': ('Men', 'Sports Shoes', 'Black'),\n '29780.jpg': ('Men', 'Trousers', 'Black'),\n '3996.jpg': ('Men', 'Flip Flops', 'Black'),\n '2078.jpg': ('Women', 'Tshirts', 'Black'),\n '9490.jpg': ('Unisex', 'Backpacks', 'Black'),\n '49665.jpg': ('Men', 'Sunglasses', 'Black'),\n '8542.jpg': ('Women', 'Flip Flops', 'Black'),\n '16961.jpg': ('Men', 'Sunglasses', 'Black'),\n '19115.jpg': ('Men', 'Tshirts', 'White'),\n '28460.jpg': ('Women', 'Shorts', 'Pink'),\n '23088.jpg': ('Men', 'Trousers', 'Grey'),\n ...}"
     },
     "execution_count": 12,
     "metadata": {},
     "output_type": "execute_result"
    }
   ],
   "source": [
    "translation_dict = dict(zip(new_df['image'], list(zip(new_df['gender'], new_df['articleType'], new_df['baseColour']))))\n",
    "translation_dict"
   ],
   "metadata": {
    "collapsed": false,
    "pycharm": {
     "name": "#%%\n"
    }
   }
  },
  {
   "cell_type": "markdown",
   "source": [
    "\n",
    "Split into train and test"
   ],
   "metadata": {
    "collapsed": false,
    "pycharm": {
     "name": "#%% md\n"
    }
   }
  },
  {
   "cell_type": "code",
   "execution_count": 13,
   "outputs": [],
   "source": [
    "from sklearn.model_selection import train_test_split\n",
    "train, test = train_test_split(new_df, test_size = 0.1)"
   ],
   "metadata": {
    "collapsed": false,
    "pycharm": {
     "name": "#%%\n"
    }
   }
  },
  {
   "cell_type": "code",
   "execution_count": 14,
   "outputs": [],
   "source": [
    "train, val = train_test_split(train, test_size = 0.11)"
   ],
   "metadata": {
    "collapsed": false,
    "pycharm": {
     "name": "#%%\n"
    }
   }
  },
  {
   "cell_type": "code",
   "execution_count": 15,
   "outputs": [
    {
     "data": {
      "text/plain": "[['Men', 'Shirts', 'Navy Blue'],\n ['Men', 'Jeans', 'Blue'],\n ['Women', 'Watches', 'Silver'],\n ['Men', 'Track Pants', 'Black'],\n ['Men', 'Tshirts', 'Grey'],\n ['Men', 'Tshirts', 'Grey'],\n ['Men', 'Shirts', 'Green'],\n ['Women', 'Shirts', 'Purple'],\n ['Men', 'Socks', 'Navy Blue'],\n ['Men', 'Watches', 'Black'],\n ['Men', 'Casual Shoes', 'Black'],\n ['Women', 'Belts', 'Black'],\n ['Men', 'Flip Flops', 'Black'],\n ['Women', 'Handbags', 'Blue'],\n ['Boys', 'Flip Flops', 'Navy Blue'],\n ['Men', 'Shirts', 'Purple'],\n ['Men', 'Watches', 'Black'],\n ['Girls', 'Tops', 'White'],\n ['Women', 'Bra', 'Beige'],\n ['Women', 'Handbags', 'Brown'],\n ['Men', 'Watches', 'Black'],\n ['Men', 'Sandals', 'Black'],\n ['Men', 'Sweatshirts', 'Grey'],\n ['Men', 'Deodorant', 'White'],\n ['Men', 'Formal Shoes', 'Black'],\n ['Men', 'Tshirts', 'Navy Blue'],\n ['Women', 'Lipstick', 'Brown'],\n ['Women', 'Handbags', 'Brown'],\n ['Men', 'Shirts', 'Navy Blue'],\n ['Boys', 'Tshirts', 'Green'],\n ['Men', 'Shirts', 'Brown'],\n ['Men', 'Casual Shoes', 'White'],\n ['Women', 'Flats', 'Black'],\n ['Women', 'Kurtas', 'Green'],\n ['Women', 'Handbags', 'White'],\n ['Women', 'Tshirts', 'Pink'],\n ['Men', 'Belts', 'Black'],\n ['Women', 'Flats', 'Brown'],\n ['Women', 'Kurtas', 'Beige'],\n ['Men', 'Sports Shoes', 'White'],\n ['Men', 'Shorts', 'Black'],\n ['Men', 'Briefs', 'Maroon'],\n ['Men', 'Shirts', 'Red'],\n ['Women', 'Belts', 'Black'],\n ['Women', 'Watches', 'White'],\n ['Men', 'Formal Shoes', 'Black'],\n ['Women', 'Kurtas', 'Brown'],\n ['Men', 'Briefs', 'Blue'],\n ['Men', 'Formal Shoes', 'Black'],\n ['Men', 'Tshirts', 'Black'],\n ['Women', 'Tshirts', 'Purple'],\n ['Men', 'Shirts', 'White'],\n ['Men', 'Watches', 'Silver'],\n ['Men', 'Tshirts', 'Red'],\n ['Women', 'Sarees', 'Grey'],\n ['Men', 'Tshirts', 'Black'],\n ['Men', 'Watches', 'Black'],\n ['Women', 'Handbags', 'Beige'],\n ['Men', 'Casual Shoes', 'Black'],\n ['Men', 'Casual Shoes', 'Purple'],\n ['Women', 'Perfume and Body Mist', 'Pink'],\n ['Men', 'Sports Shoes', 'White'],\n ['Men', 'Shorts', 'Blue'],\n ['Men', 'Casual Shoes', 'Red'],\n ['Women', 'Handbags', 'Black'],\n ['Men', 'Shirts', 'Pink'],\n ['Women', 'Tshirts', 'Black'],\n ['Men', 'Sweatshirts', 'Blue'],\n ['Men', 'Tshirts', 'Red'],\n ['Women', 'Heels', 'Black'],\n ['Women', 'Heels', 'Brown'],\n ['Women', 'Tops', 'Green'],\n ['Women', 'Sandals', 'Pink'],\n ['Men', 'Sunglasses', 'Black'],\n ['Men', 'Flip Flops', 'Silver'],\n ['Men', 'Tshirts', 'Pink'],\n ['Men', 'Innerwear Vests', 'Grey'],\n ['Men', 'Flip Flops', 'Black'],\n ['Men', 'Watches', 'White'],\n ['Men', 'Sports Shoes', 'White'],\n ['Men', 'Tshirts', 'Black'],\n ['Women', 'Dresses', 'Blue'],\n ['Men', 'Briefs', 'Red'],\n ['Men', 'Sandals', 'Black'],\n ['Men', 'Tshirts', 'Black'],\n ['Women', 'Perfume and Body Mist', 'Red'],\n ['Girls', 'Tops', 'Black'],\n ['Men', 'Casual Shoes', 'White'],\n ['Men', 'Sports Shoes', 'White'],\n ['Unisex', 'Watches', 'Black'],\n ['Men', 'Casual Shoes', 'Blue'],\n ['Unisex', 'Flip Flops', 'Navy Blue'],\n ['Men', 'Tshirts', 'White'],\n ['Men', 'Sports Shoes', 'Grey'],\n ['Men', 'Sports Shoes', 'Blue'],\n ['Men', 'Shirts', 'Yellow'],\n ['Men', 'Wallets', 'Black'],\n ['Women', 'Heels', 'Grey'],\n ['Women', 'Wallets', 'Beige'],\n ['Men', 'Sandals', 'Brown'],\n ['Men', 'Shirts', 'White'],\n ['Men', 'Briefs', 'White'],\n ['Women', 'Jeans', 'Black'],\n ['Women', 'Flip Flops', 'Red'],\n ['Women', 'Handbags', 'Blue'],\n ['Women', 'Flats', 'Silver'],\n ['Women', 'Kurtas', 'Green'],\n ['Boys', 'Tshirts', 'Blue'],\n ['Unisex', 'Watches', 'White'],\n ['Unisex', 'Sports Shoes', 'Black'],\n ['Men', 'Shirts', 'Green'],\n ['Men', 'Sandals', 'White'],\n ['Men', 'Watches', 'Black'],\n ['Men', 'Sweatshirts', 'Blue'],\n ['Men', 'Tshirts', 'Black'],\n ['Women', 'Perfume and Body Mist', 'Gold'],\n ['Women', 'Clutches', 'Red'],\n ['Men', 'Sandals', 'Beige'],\n ['Women', 'Handbags', 'Brown'],\n ['Men', 'Sandals', 'Black'],\n ['Men', 'Shirts', 'Red'],\n ['Men', 'Briefs', 'Grey'],\n ['Men', 'Tshirts', 'Black'],\n ['Men', 'Shirts', 'Black'],\n ['Unisex', 'Backpacks', 'Black'],\n ['Men', 'Tshirts', 'Black'],\n ['Men', 'Sports Shoes', 'White'],\n ['Men', 'Casual Shoes', 'Black'],\n ['Women', 'Watches', 'White'],\n ['Women', 'Bra', 'Black'],\n ['Men', 'Caps', 'White'],\n ['Women', 'Heels', 'Black'],\n ['Men', 'Tshirts', 'Yellow'],\n ['Men', 'Casual Shoes', 'White'],\n ['Men', 'Watches', 'Silver'],\n ['Men', 'Innerwear Vests', 'White'],\n ['Men', 'Watches', 'Black'],\n ['Men', 'Tshirts', 'Purple'],\n ['Men', 'Tshirts', 'Navy Blue'],\n ['Women', 'Sarees', 'Green'],\n ['Men', 'Casual Shoes', 'Red'],\n ['Women', 'Casual Shoes', 'Green'],\n ['Men', 'Watches', 'Silver'],\n ['Men', 'Watches', 'Gold'],\n ['Men', 'Trousers', 'Black'],\n ['Men', 'Tshirts', 'Navy Blue'],\n ['Men', 'Watches', 'Brown'],\n ['Women', 'Sweatshirts', 'Black'],\n ['Women', 'Flats', 'Brown'],\n ['Women', 'Perfume and Body Mist', 'White'],\n ['Women', 'Handbags', 'White'],\n ['Men', 'Sunglasses', 'Grey'],\n ['Men', 'Shirts', 'Blue'],\n ['Women', 'Earrings', 'Silver'],\n ['Unisex', 'Casual Shoes', 'Black'],\n ['Men', 'Formal Shoes', 'Black'],\n ['Women', 'Belts', 'Grey'],\n ['Women', 'Tops', 'Blue'],\n ['Unisex', 'Casual Shoes', 'Black'],\n ['Men', 'Shirts', 'Black'],\n ['Men', 'Deodorant', 'Black'],\n ['Men', 'Tshirts', 'Black'],\n ['Women', 'Lipstick', 'Brown'],\n ['Women', 'Handbags', 'Brown'],\n ['Women', 'Trousers', 'Blue'],\n ['Women', 'Deodorant', 'Pink'],\n ['Girls', 'Tops', 'Blue'],\n ['Men', 'Formal Shoes', 'Brown'],\n ['Women', 'Kurtas', 'Red'],\n ['Unisex', 'Watches', 'Black'],\n ['Women', 'Tops', 'Beige'],\n ['Women', 'Shorts', 'Pink'],\n ['Men', 'Tshirts', 'Blue'],\n ['Women', 'Handbags', 'Blue'],\n ['Men', 'Tshirts', 'Navy Blue'],\n ['Girls', 'Tops', 'Pink'],\n ['Men', 'Sports Shoes', 'Black'],\n ['Women', 'Tshirts', 'Grey'],\n ['Unisex', 'Backpacks', 'Red'],\n ['Women', 'Jeans', 'Black'],\n ['Men', 'Sports Shoes', 'Black'],\n ['Men', 'Flip Flops', 'Black'],\n ['Women', 'Handbags', 'Brown'],\n ['Men', 'Tshirts', 'Navy Blue'],\n ['Women', 'Watches', 'White'],\n ['Men', 'Track Pants', 'Navy Blue'],\n ['Men', 'Flip Flops', 'Red'],\n ['Women', 'Bra', 'White'],\n ['Men', 'Shorts', 'Black'],\n ['Men', 'Sports Shoes', 'White'],\n ['Men', 'Trousers', 'Grey'],\n ['Women', 'Tshirts', 'Black'],\n ['Men', 'Watches', 'White'],\n ['Men', 'Casual Shoes', 'Black'],\n ['Women', 'Earrings', 'Gold'],\n ['Women', 'Tops', 'Purple'],\n ['Women', 'Jeans', 'Navy Blue'],\n ['Men', 'Sunglasses', 'Gold'],\n ['Men', 'Formal Shoes', 'Black'],\n ['Men', 'Sports Shoes', 'Black'],\n ['Women', 'Tops', 'Blue'],\n ['Men', 'Tshirts', 'White'],\n ['Girls', 'Tops', 'White'],\n ['Women', 'Tops', 'Black'],\n ['Men', 'Deodorant', 'Gold'],\n ['Women', 'Wallets', 'Black'],\n ['Women', 'Tops', 'Pink'],\n ['Women', 'Sports Shoes', 'Pink'],\n ['Men', 'Sandals', 'Black'],\n ['Men', 'Flip Flops', 'Black'],\n ['Men', 'Casual Shoes', 'Brown'],\n ['Unisex', 'Caps', 'White'],\n ['Women', 'Flip Flops', 'Blue'],\n ['Men', 'Flip Flops', 'Brown'],\n ['Women', 'Handbags', 'Beige'],\n ['Women', 'Kurtas', 'Navy Blue'],\n ['Men', 'Sports Shoes', 'White'],\n ['Men', 'Shirts', 'Red'],\n ['Men', 'Casual Shoes', 'White'],\n ['Men', 'Shirts', 'Purple'],\n ['Women', 'Tunics', 'White'],\n ['Women', 'Kurtas', 'Green'],\n ['Women', 'Flats', 'Brown'],\n ['Women', 'Jackets', 'Cream'],\n ['Men', 'Shirts', 'Blue'],\n ['Women', 'Heels', 'Gold'],\n ['Women', 'Tops', 'Purple'],\n ['Women', 'Tops', 'Blue'],\n ['Men', 'Tshirts', 'Yellow'],\n ['Men', 'Tshirts', 'Navy Blue'],\n ['Men', 'Belts', 'Black'],\n ['Women', 'Briefs', 'Brown'],\n ['Men', 'Tshirts', 'White'],\n ['Women', 'Flats', 'Silver'],\n ['Women', 'Tops', 'White'],\n ['Men', 'Briefs', 'Grey'],\n ['Women', 'Lipstick', 'Red'],\n ['Men', 'Perfume and Body Mist', 'Green'],\n ['Girls', 'Tops', 'Pink'],\n ['Unisex', 'Caps', 'Blue'],\n ['Men', 'Tshirts', 'Olive'],\n ['Men', 'Wallets', 'Black'],\n ['Women', 'Tops', 'Yellow'],\n ['Men', 'Tshirts', 'White'],\n ['Women', 'Sports Shoes', 'Purple'],\n ['Women', 'Flip Flops', 'Orange'],\n ['Men', 'Shirts', 'Green'],\n ['Men', 'Tshirts', 'Navy Blue'],\n ['Men', 'Flip Flops', 'Grey'],\n ['Men', 'Sandals', 'Brown'],\n ['Men', 'Sandals', 'Olive'],\n ['Women', 'Tshirts', 'Pink'],\n ['Boys', 'Shirts', 'Blue'],\n ['Women', 'Lipstick', 'Pink'],\n ['Men', 'Shirts', 'Navy Blue'],\n ['Women', 'Handbags', 'White'],\n ['Men', 'Watches', 'Black'],\n ['Men', 'Tshirts', 'White'],\n ['Women', 'Bra', 'Purple'],\n ['Women', 'Tops', 'Olive'],\n ['Men', 'Innerwear Vests', 'Grey'],\n ['Men', 'Shirts', 'Black'],\n ['Women', 'Sarees', 'Beige'],\n ['Women', 'Dresses', 'White'],\n ['Men', 'Tshirts', 'Blue'],\n ['Women', 'Heels', 'Black'],\n ['Women', 'Handbags', 'Brown'],\n ['Women', 'Watches', 'Red'],\n ['Men', 'Watches', 'Black'],\n ['Women', 'Kurtas', 'Cream'],\n ['Women', 'Handbags', 'Orange'],\n ['Men', 'Shirts', 'Black'],\n ['Women', 'Tops', 'White'],\n ['Men', 'Socks', 'Grey'],\n ['Women', 'Watches', 'White'],\n ['Women', 'Perfume and Body Mist', 'Pink'],\n ['Women', 'Perfume and Body Mist', 'Pink'],\n ['Men', 'Tshirts', 'Grey'],\n ['Unisex', 'Sunglasses', 'Brown'],\n ['Men', 'Formal Shoes', 'Black'],\n ['Men', 'Tshirts', 'Pink'],\n ['Unisex', 'Backpacks', 'Black'],\n ['Men', 'Tshirts', 'Blue'],\n ['Men', 'Deodorant', 'Grey'],\n ['Men', 'Track Pants', 'Navy Blue'],\n ['Women', 'Wallets', 'Orange'],\n ['Men', 'Casual Shoes', 'Black'],\n ['Men', 'Tshirts', 'Red'],\n ['Women', 'Sports Shoes', 'Charcoal'],\n ['Men', 'Sunglasses', 'Black'],\n ['Men', 'Shirts', 'Blue'],\n ['Boys', 'Sports Shoes', 'Black'],\n ['Women', 'Tunics', 'Red'],\n ['Men', 'Jeans', 'Blue'],\n ['Men', 'Flip Flops', 'Blue'],\n ['Men', 'Sweaters', 'Blue'],\n ['Men', 'Tshirts', 'White'],\n ['Men', 'Watches', 'Black'],\n ['Men', 'Socks', 'Black'],\n ['Women', 'Perfume and Body Mist', 'Purple'],\n ['Women', 'Trousers', 'Brown'],\n ['Men', 'Casual Shoes', 'Black'],\n ['Men', 'Sandals', 'Black'],\n ['Men', 'Sandals', 'Black'],\n ['Women', 'Clutches', 'Red'],\n ['Women', 'Watches', 'Silver'],\n ['Men', 'Watches', 'Black'],\n ['Men', 'Watches', 'Black'],\n ['Men', 'Tshirts', 'Brown'],\n ['Men', 'Sandals', 'Brown'],\n ['Men', 'Belts', 'White'],\n ['Women', 'Handbags', 'Black'],\n ['Women', 'Jeans', 'Blue'],\n ['Men', 'Trousers', 'Brown'],\n ['Women', 'Tops', 'Blue'],\n ['Boys', 'Tshirts', 'Yellow'],\n ['Girls', 'Tops', 'Red'],\n ['Men', 'Casual Shoes', 'Blue'],\n ['Men', 'Socks', 'Grey'],\n ['Men', 'Tshirts', 'Black'],\n ['Men', 'Watches', 'Black'],\n ['Women', 'Heels', 'White'],\n ['Men', 'Tshirts', 'Grey'],\n ['Men', 'Perfume and Body Mist', 'Black'],\n ['Men', 'Sandals', 'Olive'],\n ['Men', 'Watches', 'White'],\n ['Women', 'Jeans', 'Blue'],\n ['Women', 'Flats', 'Silver'],\n ['Women', 'Jeans', 'Black'],\n ['Women', 'Track Pants', 'Black'],\n ['Men', 'Shirts', 'Grey'],\n ['Men', 'Shirts', 'Navy Blue'],\n ['Women', 'Lipstick', 'Brown'],\n ['Unisex', 'Backpacks', 'Grey'],\n ['Men', 'Sports Shoes', 'White'],\n ['Men', 'Sports Shoes', 'Grey'],\n ['Unisex', 'Backpacks', 'Black'],\n ['Men', 'Shirts', 'Blue'],\n ['Women', 'Flip Flops', 'Pink'],\n ['Men', 'Sunglasses', 'Brown'],\n ['Men', 'Tshirts', 'White'],\n ['Men', 'Innerwear Vests', 'White'],\n ['Men', 'Watches', 'Silver'],\n ['Women', 'Kurtas', 'Yellow'],\n ['Men', 'Sports Shoes', 'Black'],\n ['Men', 'Wallets', 'Black'],\n ['Men', 'Jeans', 'Blue'],\n ['Men', 'Tshirts', 'Black'],\n ['Women', 'Tops', 'Grey'],\n ['Women', 'Sports Shoes', 'Silver'],\n ['Men', 'Tshirts', 'Red'],\n ['Men', 'Casual Shoes', 'Black'],\n ['Men', 'Shirts', 'White'],\n ['Men', 'Tshirts', 'White'],\n ['Women', 'Handbags', 'Multi'],\n ['Men', 'Briefs', 'Black'],\n ['Women', 'Deodorant', 'Pink'],\n ['Men', 'Tshirts', 'Grey'],\n ['Men', 'Tshirts', 'Maroon'],\n ['Men', 'Casual Shoes', 'Maroon'],\n ['Men', 'Tshirts', 'White'],\n ['Men', 'Tshirts', 'Grey'],\n ['Men', 'Shirts', 'Purple'],\n ['Women', 'Tshirts', 'Red'],\n ['Men', 'Watches', 'Black'],\n ['Women', 'Kurtas', 'Black'],\n ['Men', 'Track Pants', 'Blue'],\n ['Men', 'Shirts', 'Red'],\n ['Women', 'Tops', 'Pink'],\n ['Men', 'Innerwear Vests', 'Grey'],\n ['Men', 'Sunglasses', 'Black'],\n ['Men', 'Shirts', 'Red'],\n ['Women', 'Watches', 'Silver'],\n ['Women', 'Belts', 'White'],\n ['Women', 'Handbags', 'Brown'],\n ['Women', 'Handbags', 'Brown'],\n ['Men', 'Belts', 'Black'],\n ['Women', 'Earrings', 'Silver'],\n ['Women', 'Handbags', 'Black'],\n ['Women', 'Shorts', 'Red'],\n ['Men', 'Tshirts', 'Grey'],\n ['Men', 'Sports Shoes', 'White'],\n ['Men', 'Tshirts', 'Black'],\n ['Women', 'Perfume and Body Mist', 'White'],\n ['Women', 'Shirts', 'Blue'],\n ['Men', 'Shirts', 'Green'],\n ['Women', 'Casual Shoes', 'Blue'],\n ['Men', 'Casual Shoes', 'Black'],\n ['Women', 'Flats', 'Black'],\n ['Men', 'Trousers', 'Beige'],\n ['Women', 'Handbags', 'Beige'],\n ['Boys', 'Tshirts', 'Red'],\n ['Men', 'Jeans', 'Black'],\n ['Men', 'Shirts', 'Red'],\n ['Men', 'Tshirts', 'Blue'],\n ['Men', 'Tshirts', 'Brown'],\n ['Women', 'Watches', 'White'],\n ['Women', 'Tops', 'Pink'],\n ['Men', 'Tshirts', 'Blue'],\n ['Men', 'Shirts', 'Blue'],\n ['Women', 'Socks', 'White'],\n ['Men', 'Formal Shoes', 'Black'],\n ['Women', 'Tops', 'Navy Blue'],\n ['Women', 'Kurtas', 'Brown'],\n ['Women', 'Belts', 'Brown'],\n ['Men', 'Sports Shoes', 'Black'],\n ['Women', 'Briefs', 'Red'],\n ['Men', 'Caps', 'Blue'],\n ['Men', 'Tshirts', 'Navy Blue'],\n ['Men', 'Sports Shoes', 'Black'],\n ['Men', 'Tshirts', 'Navy Blue'],\n ['Women', 'Lipstick', 'Brown'],\n ['Women', 'Kurtas', 'Pink'],\n ['Women', 'Tshirts', 'Pink'],\n ['Women', 'Tops', 'Grey'],\n ['Women', 'Clutches', 'Silver'],\n ['Women', 'Wallets', 'Brown'],\n ['Men', 'Socks', 'Green'],\n ['Men', 'Tshirts', 'Blue'],\n ['Unisex', 'Backpacks', 'Black'],\n ['Men', 'Sandals', 'Grey'],\n ['Women', 'Tshirts', 'Pink'],\n ['Men', 'Tshirts', 'White'],\n ['Men', 'Flip Flops', 'Black'],\n ['Unisex', 'Sunglasses', 'Brown'],\n ['Men', 'Formal Shoes', 'Black'],\n ['Women', 'Wallets', 'Blue'],\n ['Men', 'Formal Shoes', 'Black'],\n ['Men', 'Track Pants', 'Charcoal'],\n ['Men', 'Tshirts', 'Black'],\n ['Men', 'Trousers', 'Beige'],\n ['Men', 'Formal Shoes', 'Black'],\n ['Men', 'Shirts', 'Maroon'],\n ['Men', 'Sweatshirts', 'Black'],\n ['Men', 'Caps', 'Red'],\n ['Boys', 'Shirts', 'Blue'],\n ['Unisex', 'Backpacks', 'Black'],\n ['Women', 'Handbags', 'Blue'],\n ['Men', 'Tshirts', 'Navy Blue'],\n ['Men', 'Casual Shoes', 'Brown'],\n ['Men', 'Innerwear Vests', 'Red'],\n ['Women', 'Tshirts', 'Black'],\n ['Men', 'Watches', 'White'],\n ['Women', 'Tunics', 'Black'],\n ['Women', 'Sports Shoes', 'Blue'],\n ['Men', 'Shirts', 'Black'],\n ['Men', 'Innerwear Vests', 'Maroon'],\n ['Women', 'Handbags', 'Black'],\n ['Men', 'Sandals', 'Navy Blue'],\n ['Men', 'Watches', 'Black'],\n ['Women', 'Watches', 'Black'],\n ['Women', 'Heels', 'Black'],\n ['Men', 'Tshirts', 'Pink'],\n ['Men', 'Belts', 'Black'],\n ['Men', 'Sandals', 'Brown'],\n ['Men', 'Tshirts', 'Purple'],\n ['Women', 'Clutches', 'Black'],\n ['Men', 'Tshirts', 'Blue'],\n ['Men', 'Tshirts', 'Maroon'],\n ['Women', 'Kurtas', 'Multi'],\n ['Girls', 'Dresses', 'Black'],\n ['Men', 'Perfume and Body Mist', 'Blue'],\n ['Women', 'Lipstick', 'Purple'],\n ['Women', 'Jeans', 'Black'],\n ['Unisex', 'Caps', 'Blue'],\n ['Men', 'Belts', 'Brown'],\n ['Women', 'Tops', 'Pink'],\n ['Men', 'Wallets', 'Brown'],\n ['Women', 'Bra', 'White'],\n ['Women', 'Handbags', 'Black'],\n ['Women', 'Heels', 'Black'],\n ['Men', 'Shirts', 'White'],\n ['Men', 'Tshirts', 'Black'],\n ['Women', 'Flip Flops', 'Orange'],\n ['Men', 'Sports Shoes', 'White'],\n ['Women', 'Kurtas', 'Blue'],\n ['Women', 'Shorts', 'Brown'],\n ['Men', 'Shirts', 'Blue'],\n ['Women', 'Shirts', 'Green'],\n ['Women', 'Tops', 'Olive'],\n ['Men', 'Sandals', 'Brown'],\n ['Women', 'Perfume and Body Mist', 'Pink'],\n ['Men', 'Casual Shoes', 'Grey'],\n ['Men', 'Flip Flops', 'Yellow'],\n ['Men', 'Casual Shoes', 'Grey'],\n ['Unisex', 'Casual Shoes', 'Black'],\n ['Women', 'Kurtas', 'Black'],\n ['Men', 'Deodorant', 'Black'],\n ['Men', 'Shirts', 'Red'],\n ['Women', 'Handbags', 'Green'],\n ['Women', 'Tunics', 'Pink'],\n ['Women', 'Tunics', 'Purple'],\n ['Women', 'Casual Shoes', 'Beige'],\n ['Men', 'Sports Shoes', 'White'],\n ['Men', 'Caps', 'Blue'],\n ['Women', 'Flats', 'Maroon'],\n ['Women', 'Kurtas', 'Maroon'],\n ['Men', 'Tshirts', 'Orange'],\n ['Women', 'Heels', 'Multi'],\n ['Women', 'Kurtas', 'Brown'],\n ['Women', 'Tshirts', 'Green'],\n ['Men', 'Track Pants', 'Grey'],\n ['Men', 'Sandals', 'Navy Blue'],\n ['Men', 'Flip Flops', 'Blue'],\n ['Men', 'Shirts', 'Blue'],\n ['Men', 'Sports Shoes', 'Black'],\n ['Women', 'Watches', 'White'],\n ['Men', 'Watches', 'Black'],\n ['Men', 'Tshirts', 'Grey'],\n ['Men', 'Trousers', 'Grey'],\n ['Women', 'Earrings', 'Gold'],\n ['Women', 'Tops', 'Yellow'],\n ['Women', 'Flip Flops', 'Pink'],\n ['Women', 'Dresses', 'Grey'],\n ['Men', 'Sports Shoes', 'Blue'],\n ['Men', 'Formal Shoes', 'Brown'],\n ['Men', 'Tshirts', 'Yellow'],\n ['Men', 'Sunglasses', 'Steel'],\n ['Men', 'Tshirts', 'Green'],\n ['Women', 'Shirts', 'Purple'],\n ['Women', 'Trousers', 'Orange'],\n ['Women', 'Kurtas', 'Brown'],\n ['Men', 'Formal Shoes', 'Black'],\n ['Girls', 'Tops', 'Pink'],\n ['Women', 'Bra', 'White'],\n ['Men', 'Tshirts', 'Black'],\n ['Women', 'Shirts', 'Grey'],\n ['Unisex', 'Watches', 'Black'],\n ['Boys', 'Tshirts', 'Red'],\n ['Men', 'Tshirts', 'Black'],\n ['Men', 'Sports Shoes', 'White'],\n ['Women', 'Tshirts', 'Orange'],\n ['Girls', 'Tops', 'White'],\n ['Men', 'Shirts', 'Green'],\n ['Girls', 'Shorts', 'Pink'],\n ['Women', 'Handbags', 'Black'],\n ['Women', 'Tops', 'White'],\n ['Men', 'Casual Shoes', 'White'],\n ['Women', 'Handbags', 'Purple'],\n ['Men', 'Deodorant', 'White'],\n ['Women', 'Kurtas', 'Brown'],\n ['Women', 'Tshirts', 'Black'],\n ['Men', 'Shirts', 'Green'],\n ['Women', 'Handbags', 'Brown'],\n ['Women', 'Lipstick', 'Pink'],\n ['Men', 'Watches', 'Cream'],\n ['Men', 'Track Pants', 'Blue'],\n ['Women', 'Tshirts', 'Grey'],\n ['Women', 'Perfume and Body Mist', 'White'],\n ['Men', 'Watches', 'Grey'],\n ['Women', 'Flats', 'Brown'],\n ['Men', 'Sports Shoes', 'Grey'],\n ['Men', 'Tshirts', 'Navy Blue'],\n ['Women', 'Earrings', 'Silver'],\n ['Women', 'Tops', 'White'],\n ['Men', 'Watches', 'Black'],\n ['Women', 'Belts', 'Navy Blue'],\n ['Women', 'Kurtas', 'Blue'],\n ['Unisex', 'Casual Shoes', 'Black'],\n ['Men', 'Belts', 'Brown'],\n ['Women', 'Deodorant', 'Purple'],\n ['Men', 'Casual Shoes', 'Black'],\n ['Women', 'Tops', 'Navy Blue'],\n ['Men', 'Sports Shoes', 'Black'],\n ['Women', 'Tshirts', 'Grey'],\n ['Men', 'Tshirts', 'Navy Blue'],\n ['Women', 'Clutches', 'Black'],\n ['Men', 'Shirts', 'Black'],\n ['Women', 'Tops', 'White'],\n ['Men', 'Tshirts', 'White'],\n ['Women', 'Flats', 'Brown'],\n ['Men', 'Tshirts', 'Blue'],\n ['Men', 'Trousers', 'Navy Blue'],\n ['Men', 'Casual Shoes', 'Yellow'],\n ['Men', 'Tshirts', 'Black'],\n ['Unisex', 'Caps', 'Black'],\n ['Women', 'Flats', 'Beige'],\n ['Women', 'Bra', 'Black'],\n ['Men', 'Shirts', 'Maroon'],\n ['Women', 'Watches', 'Grey'],\n ['Men', 'Tshirts', 'Grey'],\n ['Men', 'Casual Shoes', 'Navy Blue'],\n ['Men', 'Tshirts', 'Grey'],\n ['Men', 'Watches', 'White'],\n ['Men', 'Briefs', 'Navy Blue'],\n ['Men', 'Watches', 'Steel'],\n ['Men', 'Tshirts', 'Blue'],\n ['Women', 'Clutches', 'Red'],\n ['Women', 'Sports Shoes', 'White'],\n ['Men', 'Watches', 'Black'],\n ['Men', 'Watches', 'Black'],\n ['Men', 'Casual Shoes', 'Charcoal'],\n ['Men', 'Sweatshirts', 'Navy Blue'],\n ['Boys', 'Shirts', 'Red'],\n ['Men', 'Trousers', 'Charcoal'],\n ['Women', 'Clutches', 'Beige'],\n ['Men', 'Watches', 'Olive'],\n ['Women', 'Bra', 'Brown'],\n ['Men', 'Shirts', 'Blue'],\n ['Unisex', 'Backpacks', 'Pink'],\n ['Men', 'Innerwear Vests', 'Beige'],\n ['Men', 'Tshirts', 'Red'],\n ['Women', 'Shirts', 'Blue'],\n ['Women', 'Handbags', 'Pink'],\n ['Men', 'Sports Shoes', 'White'],\n ['Men', 'Watches', 'Blue'],\n ['Men', 'Watches', 'Black'],\n ['Men', 'Formal Shoes', 'Black'],\n ['Men', 'Sandals', 'Black'],\n ['Men', 'Tshirts', 'Green'],\n ['Men', 'Sports Shoes', 'White'],\n ['Men', 'Tshirts', 'Pink'],\n ['Women', 'Wallets', 'Brown'],\n ['Men', 'Tshirts', 'White'],\n ['Men', 'Tshirts', 'White'],\n ['Men', 'Sandals', 'Black'],\n ['Men', 'Tshirts', 'White'],\n ['Men', 'Tshirts', 'Grey'],\n ['Men', 'Sports Shoes', 'Black'],\n ['Women', 'Sunglasses', 'Black'],\n ['Women', 'Sunglasses', 'Black'],\n ['Women', 'Tops', 'Black'],\n ['Women', 'Kurtas', 'Pink'],\n ['Men', 'Watches', 'Black'],\n ['Men', 'Tshirts', 'White'],\n ['Unisex', 'Backpacks', 'Black'],\n ['Boys', 'Tshirts', 'White'],\n ['Men', 'Sandals', 'Olive'],\n ['Women', 'Bra', 'Black'],\n ['Men', 'Sports Shoes', 'Black'],\n ['Men', 'Shirts', 'Blue'],\n ['Men', 'Deodorant', 'Black'],\n ['Men', 'Shirts', 'Beige'],\n ['Women', 'Tops', 'White'],\n ['Men', 'Tshirts', 'Grey'],\n ['Men', 'Belts', 'Brown'],\n ['Women', 'Kurtas', 'Blue'],\n ['Women', 'Jackets', 'Blue'],\n ['Women', 'Handbags', 'Green'],\n ['Women', 'Flip Flops', 'Blue'],\n ['Women', 'Heels', 'Brown'],\n ['Women', 'Shirts', 'Navy Blue'],\n ['Men', 'Tshirts', 'Brown'],\n ['Men', 'Briefs', 'White'],\n ['Women', 'Handbags', 'Black'],\n ['Men', 'Jackets', 'Green'],\n ['Men', 'Perfume and Body Mist', 'Black'],\n ['Women', 'Watches', 'Black'],\n ['Men', 'Briefs', 'Black'],\n ['Women', 'Flats', 'Black'],\n ['Men', 'Wallets', 'Black'],\n ['Men', 'Wallets', 'Black'],\n ['Men', 'Sweaters', 'Grey'],\n ['Men', 'Wallets', 'Brown'],\n ['Men', 'Tshirts', 'Red'],\n ['Men', 'Tshirts', 'Green'],\n ['Men', 'Sports Shoes', 'Black'],\n ['Men', 'Casual Shoes', 'Red'],\n ['Women', 'Handbags', 'Black'],\n ['Women', 'Lipstick', 'Maroon'],\n ['Men', 'Casual Shoes', 'Brown'],\n ['Women', 'Kurtas', 'Red'],\n ['Girls', 'Tshirts', 'Yellow'],\n ['Women', 'Kurtis', 'Multi'],\n ['Men', 'Sports Shoes', 'Blue'],\n ['Unisex', 'Backpacks', 'Blue'],\n ['Men', 'Watches', 'Black'],\n ['Women', 'Handbags', 'Brown'],\n ['Men', 'Shirts', 'Black'],\n ['Men', 'Tshirts', 'Grey'],\n ['Women', 'Handbags', 'Silver'],\n ['Women', 'Dresses', 'Black'],\n ['Women', 'Perfume and Body Mist', 'White'],\n ['Women', 'Sunglasses', 'White'],\n ['Women', 'Tshirts', 'Pink'],\n ['Women', 'Kurtas', 'Blue'],\n ['Men', 'Watches', 'Black'],\n ['Women', 'Kurtas', 'Brown'],\n ['Men', 'Shirts', 'Cream'],\n ['Women', 'Belts', 'Brown'],\n ['Men', 'Shirts', 'Blue'],\n ['Men', 'Belts', 'Black'],\n ['Men', 'Tshirts', 'Blue'],\n ['Men', 'Sunglasses', 'Silver'],\n ['Men', 'Watches', 'White'],\n ['Men', 'Sports Shoes', 'White'],\n ['Men', 'Tshirts', 'Cream'],\n ['Men', 'Briefs', 'Navy Blue'],\n ['Women', 'Handbags', 'Purple'],\n ['Men', 'Caps', 'Black'],\n ['Women', 'Heels', 'Beige'],\n ['Men', 'Sports Shoes', 'White'],\n ['Men', 'Shirts', 'Green'],\n ['Men', 'Shirts', 'Red'],\n ['Men', 'Shirts', 'Green'],\n ['Men', 'Tshirts', 'Red'],\n ['Men', 'Watches', 'Black'],\n ['Men', 'Sports Shoes', 'Black'],\n ['Men', 'Flip Flops', 'Brown'],\n ['Men', 'Tshirts', 'White'],\n ['Men', 'Trousers', 'Black'],\n ['Women', 'Handbags', 'Brown'],\n ['Women', 'Watches', 'White'],\n ['Women', 'Tops', 'Blue'],\n ['Women', 'Perfume and Body Mist', 'White'],\n ['Women', 'Flip Flops', 'Pink'],\n ['Men', 'Belts', 'Brown'],\n ['Men', 'Formal Shoes', 'Black'],\n ['Men', 'Belts', 'Navy Blue'],\n ['Men', 'Sunglasses', 'Silver'],\n ['Women', 'Tops', 'White'],\n ['Men', 'Shirts', 'Green'],\n ['Men', 'Sports Shoes', 'Red'],\n ['Men', 'Shirts', 'White'],\n ['Women', 'Handbags', 'Beige'],\n ['Women', 'Belts', 'Black'],\n ['Men', 'Sports Shoes', 'White'],\n ['Men', 'Ties', 'Blue'],\n ['Women', 'Wallets', 'Red'],\n ['Men', 'Sandals', 'Black'],\n ['Women', 'Heels', 'Brown'],\n ['Women', 'Heels', 'Black'],\n ['Men', 'Wallets', 'Brown'],\n ['Men', 'Tshirts', 'Grey'],\n ['Men', 'Tshirts', 'Red'],\n ['Men', 'Flip Flops', 'Maroon'],\n ['Men', 'Tshirts', 'Red'],\n ['Men', 'Watches', 'Navy Blue'],\n ['Men', 'Shirts', 'Blue'],\n ['Women', 'Flip Flops', 'Blue'],\n ['Men', 'Flip Flops', 'Black'],\n ['Men', 'Casual Shoes', 'Brown'],\n ['Unisex', 'Backpacks', 'Black'],\n ['Men', 'Formal Shoes', 'Black'],\n ['Women', 'Tshirts', 'Navy Blue'],\n ['Boys', 'Jeans', 'Black'],\n ['Men', 'Socks', 'Black'],\n ['Men', 'Jackets', 'White'],\n ['Women', 'Kurtas', 'Green'],\n ['Women', 'Flats', 'Blue'],\n ['Women', 'Flats', 'Gold'],\n ['Women', 'Dresses', 'Blue'],\n ['Men', 'Shirts', 'Black'],\n ['Women', 'Sports Shoes', 'Grey'],\n ['Men', 'Belts', 'White'],\n ['Men', 'Tshirts', 'Brown'],\n ['Men', 'Ties', 'Brown'],\n ['Women', 'Sports Shoes', 'Black'],\n ['Men', 'Tshirts', 'White'],\n ['Men', 'Sweatshirts', 'Grey'],\n ['Men', 'Caps', 'White'],\n ['Women', 'Kurtas', 'White'],\n ['Men', 'Casual Shoes', 'White'],\n ['Women', 'Kurtis', 'Black'],\n ['Women', 'Perfume and Body Mist', 'White'],\n ['Women', 'Belts', 'Blue'],\n ['Women', 'Dresses', 'Yellow'],\n ['Women', 'Shirts', 'Red'],\n ['Men', 'Flip Flops', 'Brown'],\n ['Women', 'Handbags', 'Blue'],\n ['Men', 'Casual Shoes', 'Grey'],\n ['Men', 'Flip Flops', 'Black'],\n ['Men', 'Wallets', 'Black'],\n ['Men', 'Tshirts', 'Cream'],\n ['Women', 'Heels', 'Red'],\n ['Men', 'Tshirts', 'Blue'],\n ['Men', 'Shirts', 'Blue'],\n ['Men', 'Tshirts', 'White'],\n ['Women', 'Flats', 'Black'],\n ['Men', 'Shirts', 'Blue'],\n ['Men', 'Trousers', 'Grey'],\n ['Men', 'Tshirts', 'Black'],\n ['Women', 'Sunglasses', 'Brown'],\n ['Men', 'Jeans', 'Blue'],\n ['Women', 'Handbags', 'Red'],\n ['Women', 'Heels', 'Brown'],\n ['Women', 'Lipstick', 'Pink'],\n ['Men', 'Tshirts', 'White'],\n ['Men', 'Perfume and Body Mist', 'Green'],\n ['Men', 'Sweaters', 'Red'],\n ['Men', 'Briefs', 'White'],\n ['Women', 'Tops', 'Beige'],\n ['Men', 'Shirts', 'Navy Blue'],\n ['Women', 'Tunics', 'Brown'],\n ['Men', 'Socks', 'Black'],\n ['Girls', 'Dresses', 'Navy Blue'],\n ['Unisex', 'Backpacks', 'Black'],\n ['Girls', 'Tops', 'Pink'],\n ['Men', 'Briefs', 'Red'],\n ['Men', 'Tshirts', 'Black'],\n ['Women', 'Perfume and Body Mist', 'Black'],\n ['Men', 'Casual Shoes', 'Black'],\n ['Men', 'Shirts', 'Blue'],\n ['Men', 'Watches', 'Black'],\n ['Women', 'Tops', 'Pink'],\n ['Men', 'Tshirts', 'Blue'],\n ['Women', 'Watches', 'Black'],\n ['Men', 'Sports Shoes', 'White'],\n ['Men', 'Shirts', 'Orange'],\n ['Women', 'Lipstick', 'Red'],\n ['Men', 'Casual Shoes', 'Black'],\n ['Women', 'Heels', 'Cream'],\n ['Women', 'Heels', 'Brown'],\n ['Men', 'Watches', 'Black'],\n ['Men', 'Flip Flops', 'Grey'],\n ['Men', 'Belts', 'Brown'],\n ['Women', 'Earrings', 'Silver'],\n ['Men', 'Watches', 'Black'],\n ['Men', 'Tshirts', 'White'],\n ['Men', 'Sunglasses', 'Black'],\n ['Men', 'Wallets', 'Brown'],\n ['Men', 'Sports Shoes', 'White'],\n ['Women', 'Sweatshirts', 'Pink'],\n ['Women', 'Tops', 'Purple'],\n ['Women', 'Nail Polish', 'Purple'],\n ['Women', 'Handbags', 'Brown'],\n ['Men', 'Tshirts', 'Charcoal'],\n ['Men', 'Casual Shoes', 'Brown'],\n ['Men', 'Watches', 'White'],\n ['Men', 'Sports Shoes', 'Black'],\n ['Women', 'Handbags', 'Pink'],\n ['Men', 'Casual Shoes', 'Red'],\n ['Men', 'Formal Shoes', 'Black'],\n ['Women', 'Earrings', 'Silver'],\n ['Women', 'Watches', 'White'],\n ['Boys', 'Tshirts', 'Blue'],\n ['Men', 'Sports Shoes', 'White'],\n ['Men', 'Watches', 'Black'],\n ['Women', 'Heels', 'Brown'],\n ['Men', 'Watches', 'Blue'],\n ['Women', 'Deodorant', 'White'],\n ['Unisex', 'Backpacks', 'Black'],\n ['Men', 'Sports Shoes', 'Blue'],\n ['Unisex', 'Casual Shoes', 'Red'],\n ['Men', 'Tshirts', 'Grey'],\n ['Men', 'Casual Shoes', 'Black'],\n ['Women', 'Tops', 'Olive'],\n ['Women', 'Heels', 'Maroon'],\n ['Men', 'Jeans', 'White'],\n ['Men', 'Sweatshirts', 'Black'],\n ['Women', 'Casual Shoes', 'Green'],\n ['Women', 'Belts', 'Black'],\n ['Men', 'Wallets', 'Black'],\n ['Men', 'Tshirts', 'Blue'],\n ['Men', 'Tshirts', 'White'],\n ['Men', 'Casual Shoes', 'White'],\n ['Women', 'Sports Shoes', 'White'],\n ['Men', 'Shirts', 'Blue'],\n ['Men', 'Jeans', 'Black'],\n ['Men', 'Tshirts', 'Blue'],\n ['Women', 'Sports Shoes', 'White'],\n ['Men', 'Shirts', 'Pink'],\n ['Men', 'Sports Shoes', 'White'],\n ['Women', 'Bra', 'Maroon'],\n ['Men', 'Formal Shoes', 'Brown'],\n ['Girls', 'Sandals', 'Brown'],\n ['Women', 'Tshirts', 'Purple'],\n ['Men', 'Belts', 'Black'],\n ['Boys', 'Tshirts', 'White'],\n ['Men', 'Watches', 'Black'],\n ['Men', 'Tshirts', 'Yellow'],\n ['Men', 'Trousers', 'Grey'],\n ['Men', 'Shirts', 'White'],\n ['Women', 'Kurtas', 'Pink'],\n ['Women', 'Heels', 'Silver'],\n ['Men', 'Watches', 'Silver'],\n ['Women', 'Dresses', 'Multi'],\n ['Men', 'Sports Shoes', 'Blue'],\n ['Men', 'Sports Shoes', 'Black'],\n ['Women', 'Kurtas', 'Green'],\n ['Men', 'Watches', 'White'],\n ['Men', 'Shirts', 'Black'],\n ['Women', 'Perfume and Body Mist', 'Pink'],\n ['Women', 'Tshirts', 'Blue'],\n ['Women', 'Tshirts', 'Grey'],\n ['Women', 'Earrings', 'Silver'],\n ['Women', 'Tshirts', 'Black'],\n ['Women', 'Handbags', 'Pink'],\n ['Men', 'Formal Shoes', 'Brown'],\n ['Men', 'Casual Shoes', 'Black'],\n ['Unisex', 'Casual Shoes', 'Brown'],\n ['Men', 'Tshirts', 'Red'],\n ['Men', 'Sunglasses', 'Black'],\n ['Women', 'Belts', 'Purple'],\n ['Men', 'Casual Shoes', 'Black'],\n ['Women', 'Clutches', 'Black'],\n ['Women', 'Lipstick', 'Brown'],\n ['Women', 'Kurtas', 'White'],\n ['Men', 'Watches', 'Black'],\n ['Women', 'Sweatshirts', 'Pink'],\n ['Men', 'Casual Shoes', 'Navy Blue'],\n ['Women', 'Shirts', 'Black'],\n ['Boys', 'Tshirts', 'Blue'],\n ['Women', 'Flats', 'Maroon'],\n ['Women', 'Handbags', 'Blue'],\n ['Women', 'Handbags', 'Beige'],\n ['Women', 'Sweatshirts', 'Pink'],\n ['Women', 'Tshirts', 'White'],\n ['Women', 'Handbags', 'White'],\n ['Women', 'Heels', 'Blue'],\n ['Men', 'Shirts', 'Purple'],\n ['Women', 'Tops', 'Black'],\n ['Women', 'Handbags', 'Brown'],\n ['Men', 'Sports Shoes', 'White'],\n ['Men', 'Shirts', 'White'],\n ['Men', 'Casual Shoes', 'Brown'],\n ['Men', 'Tshirts', 'Blue'],\n ['Women', 'Flats', 'White'],\n ['Men', 'Tshirts', 'Black'],\n ['Women', 'Wallets', 'Maroon'],\n ['Men', 'Shirts', 'Maroon'],\n ['Men', 'Casual Shoes', 'Brown'],\n ['Men', 'Jackets', 'Olive'],\n ['Women', 'Clutches', 'Yellow'],\n ['Unisex', 'Sunglasses', 'Brown'],\n ['Men', 'Tshirts', 'Red'],\n ['Women', 'Heels', 'Brown'],\n ['Men', 'Casual Shoes', 'Navy Blue'],\n ['Men', 'Tshirts', 'White'],\n ['Women', 'Sarees', 'Red'],\n ['Women', 'Sports Shoes', 'White'],\n ['Men', 'Tshirts', 'Blue'],\n ['Women', 'Tops', 'Black'],\n ['Unisex', 'Caps', 'Black'],\n ['Women', 'Kurtas', 'Beige'],\n ['Women', 'Shirts', 'Blue'],\n ['Men', 'Tshirts', 'Navy Blue'],\n ['Women', 'Belts', 'Black'],\n ['Men', 'Casual Shoes', 'White'],\n ['Women', 'Clutches', 'Grey'],\n ['Women', 'Tops', 'Black'],\n ['Men', 'Ties', 'Black'],\n ['Men', 'Tshirts', 'Black'],\n ['Men', 'Watches', 'Black'],\n ['Men', 'Casual Shoes', 'Black'],\n ['Men', 'Deodorant', 'White'],\n ['Men', 'Watches', 'Black'],\n ['Women', 'Tops', 'Cream'],\n ['Women', 'Handbags', 'Black'],\n ['Women', 'Kurtis', 'Multi'],\n ['Women', 'Bra', 'Black'],\n ['Men', 'Tshirts', 'Black'],\n ['Men', 'Shirts', 'Blue'],\n ['Men', 'Shirts', 'Black'],\n ['Men', 'Shirts', 'Purple'],\n ['Women', 'Tops', 'Blue'],\n ['Women', 'Dresses', 'Pink'],\n ['Men', 'Perfume and Body Mist', 'White'],\n ['Men', 'Casual Shoes', 'Brown'],\n ['Women', 'Handbags', 'Green'],\n ['Men', 'Sandals', 'Olive'],\n ['Women', 'Clutches', 'Green'],\n ['Women', 'Shirts', 'White'],\n ['Women', 'Caps', 'Blue'],\n ['Men', 'Shirts', 'Blue'],\n ['Men', 'Watches', 'Black'],\n ['Men', 'Wallets', 'Brown'],\n ['Women', 'Wallets', 'Charcoal'],\n ['Men', 'Tshirts', 'Green'],\n ['Men', 'Tshirts', 'Blue'],\n ['Women', 'Handbags', 'Orange'],\n ['Women', 'Tunics', 'Blue'],\n ['Men', 'Watches', 'Silver'],\n ['Men', 'Shirts', 'White'],\n ['Women', 'Kurtas', 'Purple'],\n ['Boys', 'Tshirts', 'White'],\n ['Women', 'Earrings', 'Silver'],\n ['Men', 'Sandals', 'Black'],\n ['Women', 'Bra', 'White'],\n ['Men', 'Socks', 'Black'],\n ['Unisex', 'Backpacks', 'Blue'],\n ['Men', 'Shirts', 'White'],\n ['Women', 'Tunics', 'Pink'],\n ['Men', 'Shirts', 'Maroon'],\n ['Women', 'Deodorant', 'Pink'],\n ['Men', 'Belts', 'Brown'],\n ['Men', 'Tshirts', 'Black'],\n ['Men', 'Tshirts', 'Blue'],\n ['Men', 'Tshirts', 'Black'],\n ['Women', 'Jackets', 'Black'],\n ['Men', 'Shirts', 'White'],\n ['Unisex', 'Backpacks', 'Black'],\n ['Women', 'Earrings', 'Green'],\n ['Women', 'Tops', 'Red'],\n ['Women', 'Kurtas', 'Blue'],\n ['Women', 'Dresses', 'Black'],\n ['Women', 'Watches', 'Silver'],\n ['Men', 'Tshirts', 'Navy Blue'],\n ['Men', 'Casual Shoes', 'Brown'],\n ['Men', 'Sports Shoes', 'Black'],\n ['Men', 'Trousers', 'Black'],\n ['Men', 'Flip Flops', 'Black'],\n ['Women', 'Tshirts', 'Black'],\n ['Unisex', 'Backpacks', 'Black'],\n ['Men', 'Sunglasses', 'Black'],\n ['Women', 'Flip Flops', 'Black'],\n ['Men', 'Sunglasses', 'Black'],\n ['Men', 'Tshirts', 'White'],\n ['Women', 'Shorts', 'Pink'],\n ['Men', 'Trousers', 'Grey'],\n ...]"
     },
     "execution_count": 15,
     "metadata": {},
     "output_type": "execute_result"
    }
   ],
   "source": [
    "from sklearn.preprocessing import OrdinalEncoder\n",
    "\n",
    "enc = OrdinalEncoder()\n",
    "\n",
    "\n",
    "list(translation_dict.values())\n",
    "array_form_values = list(list(value) for value in translation_dict.values())\n",
    "array_form_values"
   ],
   "metadata": {
    "collapsed": false,
    "pycharm": {
     "name": "#%%\n"
    }
   }
  },
  {
   "cell_type": "code",
   "execution_count": 16,
   "outputs": [],
   "source": [
    "encoded_labels = enc.fit_transform(array_form_values)\n",
    "encoded_labels = encoded_labels.astype(int)"
   ],
   "metadata": {
    "collapsed": false,
    "pycharm": {
     "name": "#%%\n"
    }
   }
  },
  {
   "cell_type": "code",
   "execution_count": 17,
   "outputs": [
    {
     "data": {
      "text/plain": "       0   1   2\n0      2  25  11\n1      2  17   2\n2      4  39  17\n3      2  34   1\n4      2  36   8\n...   ..  ..  ..\n38527  2   5  19\n38528  2  11  16\n38529  2  36   2\n38530  4  22   2\n38531  4  39  14\n\n[38532 rows x 3 columns]",
      "text/html": "<div>\n<style scoped>\n    .dataframe tbody tr th:only-of-type {\n        vertical-align: middle;\n    }\n\n    .dataframe tbody tr th {\n        vertical-align: top;\n    }\n\n    .dataframe thead th {\n        text-align: right;\n    }\n</style>\n<table border=\"1\" class=\"dataframe\">\n  <thead>\n    <tr style=\"text-align: right;\">\n      <th></th>\n      <th>0</th>\n      <th>1</th>\n      <th>2</th>\n    </tr>\n  </thead>\n  <tbody>\n    <tr>\n      <th>0</th>\n      <td>2</td>\n      <td>25</td>\n      <td>11</td>\n    </tr>\n    <tr>\n      <th>1</th>\n      <td>2</td>\n      <td>17</td>\n      <td>2</td>\n    </tr>\n    <tr>\n      <th>2</th>\n      <td>4</td>\n      <td>39</td>\n      <td>17</td>\n    </tr>\n    <tr>\n      <th>3</th>\n      <td>2</td>\n      <td>34</td>\n      <td>1</td>\n    </tr>\n    <tr>\n      <th>4</th>\n      <td>2</td>\n      <td>36</td>\n      <td>8</td>\n    </tr>\n    <tr>\n      <th>...</th>\n      <td>...</td>\n      <td>...</td>\n      <td>...</td>\n    </tr>\n    <tr>\n      <th>38527</th>\n      <td>2</td>\n      <td>5</td>\n      <td>19</td>\n    </tr>\n    <tr>\n      <th>38528</th>\n      <td>2</td>\n      <td>11</td>\n      <td>16</td>\n    </tr>\n    <tr>\n      <th>38529</th>\n      <td>2</td>\n      <td>36</td>\n      <td>2</td>\n    </tr>\n    <tr>\n      <th>38530</th>\n      <td>4</td>\n      <td>22</td>\n      <td>2</td>\n    </tr>\n    <tr>\n      <th>38531</th>\n      <td>4</td>\n      <td>39</td>\n      <td>14</td>\n    </tr>\n  </tbody>\n</table>\n<p>38532 rows × 3 columns</p>\n</div>"
     },
     "execution_count": 17,
     "metadata": {},
     "output_type": "execute_result"
    }
   ],
   "source": [
    "enc_labels_df = pd.DataFrame(encoded_labels)\n",
    "enc_labels_df"
   ],
   "metadata": {
    "collapsed": false,
    "pycharm": {
     "name": "#%%\n"
    }
   }
  },
  {
   "cell_type": "code",
   "execution_count": 18,
   "outputs": [
    {
     "data": {
      "text/plain": "{'15970.jpg': (2, 25, 11),\n '39386.jpg': (2, 17, 2),\n '59263.jpg': (4, 39, 17),\n '21379.jpg': (2, 34, 1),\n '53759.jpg': (2, 36, 8),\n '1855.jpg': (2, 36, 8),\n '30805.jpg': (2, 25, 7),\n '26960.jpg': (4, 25, 15),\n '29114.jpg': (2, 27, 11),\n '30039.jpg': (2, 39, 1),\n '9204.jpg': (2, 5, 1),\n '48123.jpg': (4, 1, 1),\n '18653.jpg': (2, 11, 1),\n '47957.jpg': (4, 13, 2),\n '46885.jpg': (0, 11, 11),\n '12369.jpg': (2, 25, 15),\n '29928.jpg': (2, 39, 1),\n '42419.jpg': (1, 33, 19),\n '51832.jpg': (4, 2, 0),\n '47359.jpg': (4, 13, 3),\n '17429.jpg': (2, 39, 1),\n '12967.jpg': (2, 23, 1),\n '13089.jpg': (2, 31, 8),\n '18461.jpg': (2, 7, 19),\n '9036.jpg': (2, 12, 1),\n '7990.jpg': (2, 36, 11),\n '56019.jpg': (4, 20, 3),\n '21977.jpg': (4, 13, 3),\n '37812.jpg': (2, 25, 11),\n '4729.jpg': (0, 36, 7),\n '56825.jpg': (2, 25, 3),\n '39988.jpg': (2, 5, 19),\n '59051.jpg': (4, 10, 1),\n '20099.jpg': (4, 18, 7),\n '58183.jpg': (4, 13, 19),\n '3954.jpg': (4, 36, 14),\n '18839.jpg': (2, 1, 1),\n '2886.jpg': (4, 10, 3),\n '28690.jpg': (4, 18, 0),\n '3168.jpg': (2, 28, 19),\n '18005.jpg': (2, 26, 1),\n '17871.jpg': (2, 3, 9),\n '9452.jpg': (2, 25, 16),\n '38402.jpg': (4, 1, 1),\n '44984.jpg': (4, 39, 19),\n '10268.jpg': (2, 12, 1),\n '45856.jpg': (4, 18, 3),\n '32138.jpg': (2, 3, 2),\n '59435.jpg': (2, 12, 1),\n '5891.jpg': (2, 36, 1),\n '38630.jpg': (4, 36, 15),\n '4943.jpg': (2, 25, 19),\n '11188.jpg': (2, 39, 17),\n '10866.jpg': (2, 36, 16),\n '59607.jpg': (4, 24, 8),\n '15528.jpg': (2, 36, 1),\n '45258.jpg': (2, 39, 1),\n '42841.jpg': (4, 13, 0),\n '22198.jpg': (2, 5, 1),\n '29570.jpg': (2, 5, 15),\n '43993.jpg': (4, 22, 14),\n '6628.jpg': (2, 28, 19),\n '54924.jpg': (2, 26, 2),\n '26538.jpg': (2, 5, 16),\n '35913.jpg': (4, 13, 1),\n '9660.jpg': (2, 25, 14),\n '2288.jpg': (4, 36, 1),\n '23876.jpg': (2, 31, 2),\n '18237.jpg': (2, 36, 16),\n '54118.jpg': (4, 14, 1),\n '2872.jpg': (4, 14, 3),\n '49653.jpg': (4, 33, 7),\n '8574.jpg': (4, 23, 14),\n '16957.jpg': (2, 29, 1),\n '19123.jpg': (2, 11, 17),\n '13419.jpg': (2, 36, 14),\n '17885.jpg': (2, 15, 8),\n '43369.jpg': (2, 11, 1),\n '44970.jpg': (2, 39, 19),\n '33822.jpg': (2, 28, 19),\n '5865.jpg': (2, 36, 1),\n '39716.jpg': (4, 8, 2),\n '25349.jpg': (2, 3, 16),\n '11940.jpg': (2, 23, 1),\n '29584.jpg': (2, 36, 1),\n '43967.jpg': (4, 22, 16),\n '34009.jpg': (1, 33, 1),\n '19311.jpg': (2, 5, 19),\n '42089.jpg': (2, 28, 19),\n '22950.jpg': (3, 39, 1),\n '49461.jpg': (2, 5, 2),\n '8746.jpg': (3, 11, 11),\n '9694.jpg': (2, 36, 19),\n '23882.jpg': (2, 28, 8),\n '34835.jpg': (2, 28, 2),\n '15984.jpg': (2, 25, 20),\n '41268.jpg': (2, 38, 1),\n '11518.jpg': (4, 14, 8),\n '14856.jpg': (4, 38, 0),\n '33648.jpg': (2, 23, 3),\n '59297.jpg': (2, 25, 19),\n '28032.jpg': (2, 3, 19),\n '26994.jpg': (4, 17, 1),\n '49839.jpg': (4, 11, 16),\n '31923.jpg': (4, 13, 2),\n '2618.jpg': (4, 10, 17),\n '54588.jpg': (4, 18, 7),\n '8322.jpg': (0, 36, 2),\n '13841.jpg': (3, 39, 19),\n '12993.jpg': (3, 28, 1),\n '7158.jpg': (2, 25, 7),\n '18495.jpg': (2, 23, 19),\n '8110.jpg': (2, 39, 1),\n '19547.jpg': (2, 31, 2),\n '7964.jpg': (2, 36, 1),\n '36934.jpg': (4, 22, 6),\n '20851.jpg': (4, 6, 16),\n '41866.jpg': (2, 23, 0),\n '58177.jpg': (4, 13, 3),\n '44528.jpg': (2, 23, 1),\n '16392.jpg': (2, 25, 16),\n '50587.jpg': (2, 3, 8),\n '17240.jpg': (2, 36, 1),\n '6617.jpg': (2, 25, 1),\n '12732.jpg': (3, 0, 1),\n '3365.jpg': (2, 36, 1),\n '42042.jpg': (2, 28, 19),\n '23849.jpg': (2, 5, 1),\n '43190.jpg': (4, 39, 19),\n '30462.jpg': (4, 2, 1),\n '18208.jpg': (2, 4, 19),\n '54127.jpg': (4, 14, 1),\n '10065.jpg': (2, 36, 20),\n '24250.jpg': (2, 5, 19),\n '32335.jpg': (2, 39, 17),\n '25382.jpg': (2, 15, 19),\n '56670.jpg': (2, 39, 1),\n '5092.jpg': (2, 36, 15),\n '10859.jpg': (2, 36, 11),\n '59638.jpg': (4, 24, 7),\n '15517.jpg': (2, 5, 16),\n '4140.jpg': (4, 5, 7),\n '36795.jpg': (2, 39, 17),\n '40527.jpg': (2, 39, 6),\n '10257.jpg': (2, 35, 1),\n '24062.jpg': (2, 36, 11),\n '45869.jpg': (2, 39, 3),\n '11385.jpg': (4, 31, 1),\n '53130.jpg': (4, 10, 3),\n '44187.jpg': (4, 22, 19),\n '21510.jpg': (4, 13, 19),\n '51667.jpg': (2, 29, 8),\n '22395.jpg': (2, 25, 2),\n '35322.jpg': (4, 9, 17),\n '6425.jpg': (3, 5, 1),\n '23247.jpg': (2, 12, 1),\n '17072.jpg': (4, 1, 8),\n '31782.jpg': (4, 33, 2),\n '42270.jpg': (3, 5, 1),\n '12500.jpg': (2, 25, 1),\n '26735.jpg': (2, 7, 1),\n '30650.jpg': (2, 36, 1),\n '56026.jpg': (4, 20, 3),\n '21948.jpg': (4, 13, 3),\n '32563.jpg': (4, 35, 2),\n '58980.jpg': (4, 7, 14),\n '40143.jpg': (1, 33, 2),\n '10633.jpg': (2, 12, 3),\n '24406.jpg': (4, 18, 16),\n '4716.jpg': (3, 39, 1),\n '21174.jpg': (4, 33, 0),\n '15341.jpg': (4, 26, 14),\n '14293.jpg': (2, 36, 2),\n '47366.jpg': (4, 13, 2),\n '6041.jpg': (2, 36, 11),\n '23623.jpg': (1, 33, 14),\n '17416.jpg': (2, 28, 1),\n '9835.jpg': (4, 36, 8),\n '29319.jpg': (3, 0, 16),\n '7193.jpg': (4, 17, 1),\n '12958.jpg': (2, 28, 1),\n '30234.jpg': (2, 11, 1),\n '9009.jpg': (4, 13, 3),\n '3533.jpg': (2, 36, 11),\n '26351.jpg': (4, 39, 19),\n '17624.jpg': (2, 34, 11),\n '35574.jpg': (2, 11, 16),\n '51031.jpg': (4, 2, 19),\n '13284.jpg': (2, 26, 1),\n '54543.jpg': (2, 28, 19),\n '26163.jpg': (2, 35, 8),\n '3701.jpg': (4, 36, 1),\n '29917.jpg': (2, 39, 19),\n '32751.jpg': (2, 5, 1),\n '56214.jpg': (4, 9, 6),\n '10401.jpg': (4, 33, 15),\n '40371.jpg': (4, 17, 11),\n '21346.jpg': (2, 29, 6),\n '45603.jpg': (2, 12, 1),\n '4524.jpg': (2, 28, 1),\n '37223.jpg': (4, 33, 2),\n '53766.jpg': (2, 36, 19),\n '25520.jpg': (1, 33, 19),\n '32597.jpg': (4, 33, 1),\n '58974.jpg': (2, 7, 6),\n '33445.jpg': (4, 38, 1),\n '57100.jpg': (4, 33, 14),\n '36137.jpg': (4, 28, 14),\n '41859.jpg': (2, 23, 1),\n '21180.jpg': (2, 11, 1),\n '39943.jpg': (2, 5, 3),\n '58148.jpg': (3, 4, 19),\n '5630.jpg': (4, 11, 2),\n '44517.jpg': (2, 11, 3),\n '47392.jpg': (4, 13, 0),\n '50325.jpg': (4, 18, 11),\n '8913.jpg': (2, 28, 19),\n '16530.jpg': (2, 25, 16),\n '22705.jpg': (2, 5, 19),\n '7167.jpg': (2, 25, 15),\n '46240.jpg': (4, 37, 19),\n '27277.jpg': (4, 18, 7),\n '13042.jpg': (4, 10, 3),\n '6889.jpg': (4, 16, 5),\n '12190.jpg': (2, 25, 2),\n '55657.jpg': (4, 14, 6),\n '19578.jpg': (4, 33, 15),\n '27879.jpg': (4, 33, 2),\n '6287.jpg': (2, 36, 20),\n '7355.jpg': (2, 36, 11),\n '46072.jpg': (2, 1, 1),\n '28831.jpg': (4, 3, 3),\n '43500.jpg': (2, 36, 19),\n '2627.jpg': (4, 10, 17),\n '13270.jpg': (4, 33, 19),\n '18698.jpg': (2, 3, 8),\n '55465.jpg': (4, 20, 16),\n '26197.jpg': (2, 22, 7),\n '31120.jpg': (1, 33, 14),\n '25712.jpg': (3, 4, 2),\n '11527.jpg': (2, 36, 12),\n '14869.jpg': (2, 38, 1),\n '40385.jpg': (4, 33, 20),\n '15187.jpg': (2, 36, 19),\n '5402.jpg': (4, 28, 15),\n '44725.jpg': (4, 11, 13),\n '14055.jpg': (2, 25, 7),\n '20260.jpg': (2, 36, 11),\n '7731.jpg': (2, 11, 8),\n '22153.jpg': (2, 23, 3),\n '43958.jpg': (2, 23, 12),\n '28469.jpg': (4, 36, 14),\n '34036.jpg': (0, 25, 2),\n '55001.jpg': (4, 20, 14),\n '8779.jpg': (2, 25, 11),\n '3391.jpg': (4, 13, 19),\n '43164.jpg': (2, 39, 1),\n '2243.jpg': (2, 36, 19),\n '30496.jpg': (4, 2, 15),\n '39729.jpg': (4, 33, 12),\n '25376.jpg': (2, 15, 8),\n '11143.jpg': (2, 25, 1),\n '56684.jpg': (4, 24, 0),\n '4988.jpg': (4, 8, 19),\n '44341.jpg': (2, 36, 2),\n '14431.jpg': (4, 14, 1),\n '20604.jpg': (4, 13, 3),\n '45293.jpg': (4, 39, 16),\n '36761.jpg': (2, 39, 1),\n '33021.jpg': (4, 18, 5),\n '25144.jpg': (4, 13, 13),\n '11371.jpg': (2, 25, 1),\n '41401.jpg': (4, 33, 19),\n '14603.jpg': (2, 27, 8),\n '37481.jpg': (4, 39, 19),\n '44173.jpg': (4, 22, 14),\n '25978.jpg': (4, 22, 14),\n '4386.jpg': (2, 36, 8),\n '51693.jpg': (3, 29, 3),\n '16154.jpg': (2, 12, 1),\n '29789.jpg': (2, 36, 14),\n '19920.jpg': (3, 0, 1),\n '7503.jpg': (2, 36, 2),\n '46624.jpg': (2, 7, 8),\n '34204.jpg': (2, 34, 11),\n '17086.jpg': (4, 38, 13),\n '50741.jpg': (2, 5, 1),\n '13426.jpg': (2, 36, 16),\n '43356.jpg': (4, 28, 4),\n '28207.jpg': (2, 29, 1),\n '13846.jpg': (2, 25, 2),\n '12994.jpg': (0, 28, 1),\n '46278.jpg': (4, 37, 16),\n '16508.jpg': (2, 17, 2),\n '18492.jpg': (2, 11, 2),\n '19540.jpg': (2, 30, 2),\n '7963.jpg': (2, 36, 19),\n '8117.jpg': (2, 39, 1),\n '49230.jpg': (2, 27, 1),\n '36933.jpg': (4, 22, 15),\n '57138.jpg': (4, 35, 3),\n '20856.jpg': (2, 5, 1),\n '41861.jpg': (2, 23, 1),\n '5608.jpg': (2, 23, 1),\n '58170.jpg': (4, 6, 16),\n '39375.jpg': (4, 39, 17),\n '59290.jpg': (2, 39, 1),\n '52678.jpg': (2, 39, 1),\n '20258.jpg': (2, 36, 3),\n '47198.jpg': (2, 23, 3),\n '27841.jpg': (2, 1, 19),\n '31924.jpg': (4, 13, 1),\n '26993.jpg': (4, 17, 2),\n '13248.jpg': (2, 35, 3),\n '43538.jpg': (4, 33, 2),\n '8325.jpg': (0, 36, 20),\n '31118.jpg': (1, 33, 16),\n '19772.jpg': (2, 5, 2),\n '46876.jpg': (2, 27, 8),\n '5862.jpg': (2, 36, 1),\n '39711.jpg': (2, 39, 1),\n '14409.jpg': (4, 14, 19),\n '58726.jpg': (2, 36, 8),\n '44379.jpg': (2, 22, 1),\n '11947.jpg': (2, 23, 12),\n '36759.jpg': (2, 39, 19),\n '51499.jpg': (4, 17, 2),\n '29583.jpg': (4, 10, 17),\n '7709.jpg': (4, 17, 1),\n '28451.jpg': (4, 34, 1),\n '43960.jpg': (2, 25, 8),\n '8741.jpg': (2, 25, 11),\n '55039.jpg': (4, 20, 3),\n '19316.jpg': (3, 0, 8),\n '34832.jpg': (2, 28, 19),\n '23885.jpg': (2, 28, 8),\n '19918.jpg': (3, 0, 1),\n '22359.jpg': (2, 25, 2),\n '19124.jpg': (4, 11, 14),\n '16950.jpg': (2, 29, 3),\n '2049.jpg': (2, 36, 19),\n '17882.jpg': (2, 15, 19),\n '44977.jpg': (2, 39, 17),\n '33019.jpg': (4, 18, 20),\n '41439.jpg': (2, 28, 1),\n '52812.jpg': (2, 38, 1),\n '11349.jpg': (2, 17, 2),\n '24892.jpg': (2, 36, 1),\n '58514.jpg': (4, 33, 8),\n '33825.jpg': (4, 28, 17),\n '38637.jpg': (2, 36, 16),\n '5896.jpg': (2, 5, 1),\n '4944.jpg': (2, 25, 19),\n '10861.jpg': (2, 36, 19),\n '42846.jpg': (4, 13, 10),\n '47508.jpg': (2, 3, 1),\n '43994.jpg': (4, 7, 14),\n '17278.jpg': (2, 36, 8),\n '31588.jpg': (2, 36, 9),\n '49492.jpg': (2, 5, 9),\n '18230.jpg': (2, 36, 19),\n '23871.jpg': (2, 36, 8),\n '9667.jpg': (2, 25, 15),\n '3953.jpg': (4, 36, 16),\n '29745.jpg': (2, 39, 1),\n '28697.jpg': (4, 18, 1),\n '12538.jpg': (2, 34, 2),\n '8587.jpg': (2, 25, 16),\n '42248.jpg': (4, 33, 14),\n '17876.jpg': (2, 15, 8),\n '30668.jpg': (2, 29, 1),\n '9455.jpg': (2, 25, 16),\n '44983.jpg': (4, 39, 17),\n '38405.jpg': (4, 1, 19),\n '53934.jpg': (4, 13, 3),\n '25188.jpg': (4, 13, 3),\n '24866.jpg': (2, 1, 1),\n '53108.jpg': (4, 9, 17),\n '59432.jpg': (4, 13, 1),\n '32903.jpg': (4, 26, 16),\n '6079.jpg': (2, 36, 8),\n '12960.jpg': (2, 28, 19),\n '29321.jpg': (2, 36, 1),\n '18466.jpg': (4, 22, 19),\n '26369.jpg': (4, 25, 2),\n '33489.jpg': (2, 25, 7),\n '59056.jpg': (4, 5, 2),\n '15379.jpg': (2, 5, 1),\n '45409.jpg': (4, 10, 1),\n '56822.jpg': (2, 35, 0),\n '58184.jpg': (4, 13, 0),\n '40947.jpg': (0, 36, 16),\n '39381.jpg': (2, 17, 1),\n '15977.jpg': (2, 25, 16),\n '32769.jpg': (2, 36, 2),\n '10439.jpg': (2, 36, 3),\n '59264.jpg': (4, 39, 19),\n '14099.jpg': (4, 33, 14),\n '1852.jpg': (2, 36, 2),\n '30802.jpg': (2, 25, 2),\n '29113.jpg': (4, 27, 19),\n '7399.jpg': (2, 12, 1),\n '26967.jpg': (4, 33, 11),\n '27089.jpg': (4, 18, 3),\n '48124.jpg': (4, 1, 3),\n '9203.jpg': (2, 28, 1),\n '51835.jpg': (4, 3, 16),\n '3739.jpg': (2, 4, 2),\n '19786.jpg': (2, 36, 11),\n '44948.jpg': (2, 28, 1),\n '24091.jpg': (2, 36, 11),\n '57563.jpg': (4, 20, 3),\n '33026.jpg': (4, 18, 14),\n '41406.jpg': (4, 36, 14),\n '11376.jpg': (4, 33, 8),\n '25143.jpg': (4, 6, 17),\n '20431.jpg': (4, 38, 3),\n '14604.jpg': (2, 27, 7),\n '4381.jpg': (2, 36, 2),\n '46623.jpg': (3, 0, 1),\n '19927.jpg': (2, 23, 8),\n '7504.jpg': (4, 36, 14),\n '22366.jpg': (2, 36, 19),\n '3998.jpg': (2, 11, 1),\n '51694.jpg': (3, 29, 3),\n '16153.jpg': (2, 12, 1),\n '17081.jpg': (4, 38, 2),\n '50746.jpg': (2, 12, 1),\n '34203.jpg': (2, 34, 4),\n '13421.jpg': (2, 36, 1),\n '27614.jpg': (2, 35, 0),\n '22154.jpg': (2, 12, 1),\n '16361.jpg': (2, 25, 9),\n '46411.jpg': (2, 31, 1),\n '7736.jpg': (2, 4, 16),\n '34031.jpg': (0, 25, 2),\n '22968.jpg': (3, 0, 1),\n '3396.jpg': (4, 13, 2),\n '31543.jpg': (2, 36, 11),\n '19329.jpg': (2, 5, 3),\n '13613.jpg': (2, 15, 16),\n '2244.jpg': (4, 36, 1),\n '43163.jpg': (2, 39, 19),\n '33214.jpg': (4, 37, 1),\n '10096.jpg': (4, 28, 2),\n '11144.jpg': (2, 25, 1),\n '25371.jpg': (2, 15, 9),\n '20603.jpg': (4, 13, 1),\n '11978.jpg': (2, 23, 11),\n '36766.jpg': (2, 39, 1),\n '45294.jpg': (4, 39, 1),\n '34455.jpg': (4, 14, 1),\n '6280.jpg': (2, 36, 14),\n '46075.jpg': (2, 1, 1),\n '35587.jpg': (2, 23, 3),\n '7352.jpg': (2, 36, 15),\n '27042.jpg': (4, 6, 1),\n '2620.jpg': (2, 36, 2),\n '43507.jpg': (2, 36, 9),\n '28836.jpg': (4, 18, 10),\n '31127.jpg': (1, 8, 1),\n '26190.jpg': (2, 22, 2),\n '55462.jpg': (4, 20, 15),\n '11520.jpg': (4, 17, 1),\n '25715.jpg': (3, 4, 2),\n '41250.jpg': (2, 1, 3),\n '40382.jpg': (4, 33, 14),\n '38298.jpg': (2, 38, 3),\n '57335.jpg': (4, 2, 19),\n '52647.jpg': (4, 13, 1),\n '20267.jpg': (4, 14, 1),\n '14052.jpg': (2, 25, 19),\n '53795.jpg': (2, 36, 1),\n '44722.jpg': (4, 11, 13),\n '5405.jpg': (2, 28, 19),\n '39178.jpg': (4, 18, 2),\n '32590.jpg': (4, 26, 3),\n '11712.jpg': (2, 25, 2),\n '25527.jpg': (4, 25, 7),\n '57107.jpg': (4, 33, 12),\n '20869.jpg': (2, 23, 3),\n '58973.jpg': (4, 22, 14),\n '39944.jpg': (2, 5, 8),\n '21187.jpg': (2, 11, 20),\n '36130.jpg': (2, 5, 8),\n '44510.jpg': (3, 5, 1),\n '50322.jpg': (4, 18, 1),\n '28238.jpg': (2, 7, 1),\n '13879.jpg': (2, 25, 16),\n '47395.jpg': (4, 13, 7),\n '46247.jpg': (4, 37, 14),\n '7160.jpg': (4, 37, 15),\n '22702.jpg': (4, 5, 0),\n '8914.jpg': (2, 28, 19),\n '16537.jpg': (2, 4, 2),\n '13045.jpg': (4, 10, 9),\n '27270.jpg': (4, 18, 9),\n '12197.jpg': (2, 36, 13),\n '55650.jpg': (4, 14, 10),\n '31315.jpg': (4, 18, 3),\n '6274.jpg': (4, 36, 7),\n '17623.jpg': (2, 34, 8),\n '46081.jpg': (2, 23, 11),\n '35573.jpg': (2, 11, 2),\n '13283.jpg': (2, 25, 2),\n '54544.jpg': (2, 28, 1),\n '30001.jpg': (4, 39, 19),\n '29910.jpg': (2, 39, 1),\n '3706.jpg': (2, 36, 8),\n '26164.jpg': (2, 35, 8),\n '56213.jpg': (4, 9, 6),\n '40376.jpg': (4, 33, 20),\n '24633.jpg': (4, 11, 14),\n '10406.jpg': (4, 8, 8),\n '4523.jpg': (2, 28, 2),\n '45604.jpg': (2, 12, 3),\n '15174.jpg': (2, 36, 20),\n '21341.jpg': (2, 29, 18),\n '53761.jpg': (2, 36, 7),\n '37224.jpg': (4, 25, 15),\n '32564.jpg': (4, 35, 13),\n '24401.jpg': (4, 18, 3),\n '10634.jpg': (2, 12, 1),\n '40144.jpg': (1, 33, 14),\n '59069.jpg': (4, 2, 19),\n '15346.jpg': (2, 36, 1),\n '21173.jpg': (4, 25, 8),\n '4711.jpg': (3, 39, 1),\n '40978.jpg': (0, 36, 16),\n '14294.jpg': (2, 36, 1),\n '17411.jpg': (2, 28, 19),\n '9832.jpg': (4, 36, 13),\n '23624.jpg': (1, 33, 19),\n '6046.jpg': (2, 25, 7),\n '34693.jpg': (1, 26, 14),\n '47361.jpg': (4, 13, 1),\n '7194.jpg': (4, 33, 19),\n '30233.jpg': (2, 5, 19),\n '48329.jpg': (4, 13, 15),\n '18459.jpg': (2, 7, 19),\n '27284.jpg': (4, 18, 3),\n '3534.jpg': (4, 36, 1),\n '24065.jpg': (2, 25, 7),\n '10250.jpg': (4, 13, 3),\n '57597.jpg': (4, 20, 14),\n '40520.jpg': (2, 39, 5),\n '1607.jpg': (2, 34, 2),\n '11382.jpg': (4, 36, 8),\n '44180.jpg': (4, 22, 19),\n '37472.jpg': (2, 39, 8),\n '53137.jpg': (4, 10, 3),\n '15722.jpg': (2, 28, 8),\n '4375.jpg': (2, 36, 11),\n '35325.jpg': (4, 9, 17),\n '22392.jpg': (4, 33, 19),\n '51660.jpg': (2, 39, 1),\n '17075.jpg': (4, 1, 11),\n '23240.jpg': (4, 18, 2),\n '6422.jpg': (3, 5, 1),\n '18801.jpg': (2, 1, 3),\n '26732.jpg': (4, 7, 15),\n '12507.jpg': (2, 5, 1),\n '31785.jpg': (4, 33, 11),\n '3150.jpg': (2, 28, 1),\n '17849.jpg': (4, 36, 8),\n '29548.jpg': (2, 36, 11),\n '42879.jpg': (4, 6, 1),\n '16395.jpg': (2, 25, 1),\n '51452.jpg': (4, 33, 19),\n '6610.jpg': (2, 36, 19),\n '47537.jpg': (4, 10, 3),\n '17247.jpg': (2, 36, 2),\n '23072.jpg': (2, 35, 11),\n '42045.jpg': (2, 5, 20),\n '3362.jpg': (2, 36, 1),\n '12735.jpg': (3, 4, 1),\n '54120.jpg': (4, 10, 0),\n '30465.jpg': (4, 2, 1),\n '9658.jpg': (2, 25, 9),\n '43197.jpg': (4, 39, 8),\n '38608.jpg': (2, 36, 8),\n '24257.jpg': (2, 5, 11),\n '10062.jpg': (2, 36, 8),\n '56677.jpg': (2, 39, 19),\n '25385.jpg': (2, 3, 11),\n '32332.jpg': (2, 39, 18),\n '5095.jpg': (2, 36, 2),\n '37640.jpg': (4, 6, 16),\n '4147.jpg': (4, 28, 19),\n '36792.jpg': (2, 39, 1),\n '45260.jpg': (2, 39, 1),\n '15510.jpg': (2, 5, 4),\n '21725.jpg': (2, 31, 11),\n '34038.jpg': (0, 25, 16),\n '16368.jpg': (2, 35, 4),\n '42884.jpg': (4, 6, 0),\n '46418.jpg': (2, 39, 12),\n '30498.jpg': (4, 2, 3),\n '8777.jpg': (2, 25, 2),\n '19320.jpg': (3, 0, 14),\n '25378.jpg': (2, 15, 0),\n '4986.jpg': (2, 36, 16),\n '39727.jpg': (4, 25, 2),\n '5854.jpg': (4, 13, 14),\n '11971.jpg': (2, 28, 19),\n '5068.jpg': (2, 39, 2),\n '45893.jpg': (2, 39, 1),\n '44941.jpg': (2, 12, 1),\n '24098.jpg': (2, 23, 1),\n '4388.jpg': (2, 36, 7),\n '28655.jpg': (2, 28, 19),\n '2843.jpg': (2, 36, 14),\n '17088.jpg': (4, 38, 3),\n '3991.jpg': (2, 36, 19),\n '29787.jpg': (2, 36, 19),\n '9497.jpg': (2, 23, 1),\n '13428.jpg': (2, 36, 19),\n '19112.jpg': (2, 36, 8),\n '16966.jpg': (2, 28, 1),\n '49662.jpg': (4, 29, 1),\n '20860.jpg': (4, 29, 1),\n '32599.jpg': (4, 33, 1),\n '39171.jpg': (4, 18, 14),\n '36905.jpg': (2, 39, 1),\n '57932.jpg': (2, 36, 19),\n '58146.jpg': (3, 0, 1),\n '40985.jpg': (0, 36, 19),\n '41857.jpg': (2, 23, 12),\n '59094.jpg': (4, 2, 1),\n '36139.jpg': (2, 28, 1),\n '7169.jpg': (2, 25, 2),\n '28231.jpg': (2, 7, 1),\n '13870.jpg': (2, 25, 0),\n '19576.jpg': (4, 33, 19),\n '7955.jpg': (2, 36, 8),\n '8121.jpg': (2, 1, 3),\n '27279.jpg': (4, 18, 2),\n '6887.jpg': (4, 16, 2),\n '31912.jpg': (4, 13, 7),\n '49808.jpg': (4, 11, 2),\n '22539.jpg': (4, 14, 3),\n '27877.jpg': (4, 25, 11),\n '6289.jpg': (2, 36, 3),\n '28003.jpg': (2, 3, 19),\n '8313.jpg': (4, 13, 1),\n '19744.jpg': (2, 16, 7),\n '26199.jpg': (2, 22, 1),\n '47992.jpg': (4, 39, 1),\n '18696.jpg': (2, 3, 1),\n '2629.jpg': (4, 10, 1),\n '14867.jpg': (2, 38, 1),\n '38291.jpg': (2, 38, 1),\n '11529.jpg': (2, 30, 8),\n '41259.jpg': (2, 38, 3),\n '1890.jpg': (2, 36, 16),\n '15189.jpg': (2, 36, 7),\n '24408.jpg': (2, 28, 1),\n '20894.jpg': (2, 5, 16),\n '21946.jpg': (4, 13, 1),\n '56028.jpg': (4, 20, 9),\n '40971.jpg': (2, 5, 3),\n '59060.jpg': (4, 18, 16),\n '4718.jpg': (1, 36, 20),\n '56814.jpg': (4, 19, 10),\n '12956.jpg': (2, 28, 2),\n '29317.jpg': (3, 0, 2),\n '17418.jpg': (2, 39, 1),\n '47368.jpg': (4, 13, 3),\n '13884.jpg': (2, 25, 1),\n '19582.jpg': (2, 36, 8),\n '9007.jpg': (4, 13, 17),\n '6873.jpg': (4, 8, 1),\n '18450.jpg': (4, 22, 19),\n '29125.jpg': (4, 29, 19),\n '27883.jpg': (4, 36, 14),\n '30834.jpg': (4, 18, 2),\n '29919.jpg': (2, 39, 1),\n '42428.jpg': (4, 18, 3),\n '12358.jpg': (2, 25, 5),\n '48112.jpg': (4, 1, 3),\n '9235.jpg': (2, 25, 2),\n '15941.jpg': (2, 1, 1),\n '53768.jpg': (2, 36, 2),\n '21348.jpg': (2, 29, 17),\n '59252.jpg': (2, 39, 19),\n '6619.jpg': (2, 28, 19),\n '54915.jpg': (2, 36, 5),\n '50589.jpg': (2, 3, 11),\n '42870.jpg': (4, 13, 15),\n '18206.jpg': (2, 4, 1),\n '54129.jpg': (4, 14, 0),\n '23847.jpg': (2, 28, 19),\n '9651.jpg': (2, 25, 7),\n '8783.jpg': (2, 25, 16),\n '4972.jpg': (2, 25, 7),\n '38601.jpg': (2, 36, 16),\n '45269.jpg': (2, 39, 1),\n '11985.jpg': (2, 28, 1),\n '15519.jpg': (2, 11, 3),\n '10857.jpg': (2, 36, 19),\n '10259.jpg': (2, 35, 1),\n '53902.jpg': (4, 13, 3),\n '40529.jpg': (4, 39, 19),\n '59404.jpg': (4, 33, 2),\n '25982.jpg': (4, 22, 19),\n '44189.jpg': (4, 11, 14),\n '24850.jpg': (2, 1, 3),\n '23249.jpg': (2, 12, 1),\n '18808.jpg': (2, 1, 11),\n '51669.jpg': (2, 29, 17),\n '3965.jpg': (4, 33, 19),\n '29773.jpg': (2, 25, 7),\n '17840.jpg': (2, 28, 16),\n '9463.jpg': (2, 25, 19),\n '18034.jpg': (4, 13, 0),\n '16992.jpg': (4, 1, 1),\n '3159.jpg': (2, 28, 19),\n '49696.jpg': (2, 32, 2),\n '14858.jpg': (4, 38, 16),\n '33646.jpg': (2, 23, 1),\n '57303.jpg': (4, 14, 3),\n '11516.jpg': (4, 14, 1),\n '41266.jpg': (2, 38, 3),\n '20251.jpg': (2, 36, 8),\n '14064.jpg': (2, 36, 16),\n '44714.jpg': (2, 11, 9),\n '5433.jpg': (2, 36, 16),\n '52671.jpg': (2, 39, 11),\n '59299.jpg': (2, 25, 2),\n '49837.jpg': (4, 11, 2),\n '16733.jpg': (2, 11, 1),\n '7364.jpg': (2, 5, 3),\n '34463.jpg': (3, 0, 1),\n '47191.jpg': (2, 12, 1),\n '27848.jpg': (4, 36, 11),\n '31111.jpg': (0, 17, 1),\n '12393.jpg': (2, 27, 1),\n '13241.jpg': (2, 16, 19),\n '54586.jpg': (4, 18, 7),\n '27074.jpg': (4, 10, 2),\n '2616.jpg': (4, 10, 6),\n '46271.jpg': (4, 8, 2),\n '7156.jpg': (2, 25, 1),\n '22734.jpg': (4, 28, 8),\n '8922.jpg': (2, 1, 19),\n '16501.jpg': (2, 36, 3),\n '50314.jpg': (2, 32, 3),\n '34651.jpg': (4, 28, 1),\n '6084.jpg': (2, 36, 19),\n '19549.jpg': (2, 31, 8),\n '49239.jpg': (2, 4, 19),\n '31323.jpg': (4, 18, 19),\n '13073.jpg': (2, 5, 19),\n '40186.jpg': (4, 19, 1),\n '58945.jpg': (4, 22, 19),\n '33474.jpg': (4, 1, 2),\n '59897.jpg': (4, 8, 20),\n '11724.jpg': (4, 25, 16),\n '5601.jpg': (2, 11, 3),\n '58179.jpg': (4, 13, 2),\n '39972.jpg': (2, 5, 8),\n '15384.jpg': (2, 11, 1),\n '36106.jpg': (2, 38, 1),\n '34235.jpg': (2, 36, 5),\n '46615.jpg': (4, 14, 16),\n '7532.jpg': (2, 36, 2),\n '22350.jpg': (2, 25, 2),\n '2040.jpg': (2, 36, 19),\n '43367.jpg': (4, 10, 1),\n '13417.jpg': (2, 25, 2),\n '27622.jpg': (2, 35, 8),\n '3192.jpg': (2, 36, 1),\n '16959.jpg': (4, 29, 3),\n '11340.jpg': (2, 17, 2),\n '25175.jpg': (4, 13, 16),\n '10292.jpg': (4, 14, 3),\n '57555.jpg': (4, 20, 14),\n '36562.jpg': (2, 36, 19),\n '44142.jpg': (2, 22, 7),\n '11172.jpg': (2, 30, 16),\n '25347.jpg': (2, 3, 19),\n '39718.jpg': (4, 33, 0),\n '41602.jpg': (2, 25, 11),\n '33222.jpg': (4, 37, 3),\n '24295.jpg': (2, 27, 1),\n '36750.jpg': (1, 8, 11),\n '37682.jpg': (3, 0, 1),\n '34007.jpg': (1, 33, 14),\n '50542.jpg': (2, 3, 16),\n '17285.jpg': (2, 36, 1),\n '43969.jpg': (4, 22, 1),\n '22162.jpg': (2, 5, 1),\n '16357.jpg': (2, 25, 2),\n '46427.jpg': (2, 39, 1),\n '7700.jpg': (4, 33, 14),\n '2272.jpg': (2, 36, 2),\n '43155.jpg': (4, 39, 1),\n '42087.jpg': (2, 28, 19),\n '8748.jpg': (2, 25, 13),\n '55030.jpg': (4, 20, 16),\n '17043.jpg': (2, 5, 1),\n '50784.jpg': (4, 14, 5),\n '2888.jpg': (4, 14, 3),\n '23276.jpg': (2, 39, 1),\n '6414.jpg': (2, 11, 8),\n '18837.jpg': (2, 1, 3),\n '35313.jpg': (4, 9, 17),\n '51656.jpg': (2, 39, 1),\n '16191.jpg': (2, 36, 19),\n '30661.jpg': (2, 29, 1),\n '43393.jpg': (2, 38, 3),\n '26704.jpg': (2, 28, 19),\n '12531.jpg': (4, 31, 14),\n '42241.jpg': (4, 33, 15),\n '56473.jpg': (4, 21, 15),\n '25181.jpg': (4, 13, 3),\n '24053.jpg': (2, 36, 4),\n '10266.jpg': (2, 5, 3),\n '40516.jpg': (2, 39, 19),\n '15714.jpg': (2, 28, 1),\n '21521.jpg': (4, 13, 14),\n '4343.jpg': (2, 5, 16),\n '5291.jpg': (2, 12, 1),\n '53101.jpg': (4, 9, 17),\n '32304.jpg': (4, 39, 19),\n '10054.jpg': (0, 36, 2),\n '4171.jpg': (2, 28, 19),\n '45256.jpg': (2, 39, 1),\n '15526.jpg': (4, 14, 3),\n '21713.jpg': (2, 39, 2),\n '44384.jpg': (4, 7, 19),\n '37676.jpg': (3, 0, 1),\n '6626.jpg': (2, 28, 2),\n '47501.jpg': (3, 5, 16),\n '17271.jpg': (2, 36, 8),\n '22196.jpg': (2, 5, 1),\n '51464.jpg': (4, 33, 12),\n '54116.jpg': (4, 14, 9),\n '30453.jpg': (2, 17, 19),\n '2286.jpg': (2, 31, 1),\n '23878.jpg': (4, 5, 7),\n '48549.jpg': (4, 1, 1),\n '42073.jpg': (2, 38, 1),\n '31581.jpg': (2, 36, 2),\n '3354.jpg': (2, 36, 19),\n '26536.jpg': (2, 5, 19),\n '12703.jpg': (4, 28, 19),\n '10430.jpg': (2, 25, 2),\n '39388.jpg': (2, 17, 1),\n '14090.jpg': (2, 36, 2),\n '53757.jpg': (4, 28, 19),\n '37212.jpg': (2, 25, 14),\n '4515.jpg': (2, 28, 19),\n '51000.jpg': (4, 2, 9),\n '7390.jpg': (2, 12, 3),\n '35545.jpg': (1, 23, 3),\n '6242.jpg': (4, 36, 15),\n '47165.jpg': (2, 1, 1),\n '17615.jpg': (0, 36, 19),\n '29926.jpg': (2, 39, 1),\n '3730.jpg': (2, 36, 20),\n '26152.jpg': (2, 35, 8),\n '12367.jpg': (2, 25, 19),\n '54572.jpg': (4, 18, 14),\n '27080.jpg': (4, 14, 17),\n '30037.jpg': (2, 39, 17),\n '46285.jpg': (4, 8, 10),\n '12969.jpg': (2, 28, 2),\n '35777.jpg': (2, 28, 1),\n '51232.jpg': (4, 18, 7),\n '17427.jpg': (2, 39, 19),\n '9804.jpg': (2, 25, 1),\n '23612.jpg': (4, 22, 14),\n '6070.jpg': (4, 36, 2),\n '26360.jpg': (4, 36, 8),\n '42625.jpg': (4, 9, 17),\n '3502.jpg': (4, 36, 1),\n '30205.jpg': (4, 13, 14),\n '9038.jpg': (2, 12, 3),\n '54740.jpg': (2, 5, 1),\n '13087.jpg': (3, 5, 3),\n '10602.jpg': (2, 36, 16),\n '40172.jpg': (2, 29, 1),\n '33480.jpg': (4, 1, 15),\n '32552.jpg': (2, 5, 1),\n '21979.jpg': (4, 6, 1),\n '56017.jpg': (4, 20, 3),\n '20097.jpg': (4, 18, 19),\n '53565.jpg': (2, 39, 1),\n '15370.jpg': (4, 31, 14),\n '39986.jpg': (2, 5, 11),\n '21145.jpg': (4, 25, 1),\n '4727.jpg': (0, 36, 2),\n '45400.jpg': (4, 10, 9),\n '38434.jpg': (4, 13, 2),\n '53905.jpg': (4, 13, 0),\n '1609.jpg': (4, 31, 14),\n '59403.jpg': (4, 36, 19),\n '21519.jpg': (4, 13, 19),\n '53139.jpg': (4, 14, 2),\n '29774.jpg': (2, 25, 15),\n '3962.jpg': (4, 33, 1),\n '18033.jpg': (4, 13, 3),\n '17847.jpg': (2, 28, 19),\n '9464.jpg': (2, 25, 19),\n '12509.jpg': (2, 5, 3),\n '17249.jpg': (2, 36, 2),\n '47539.jpg': (4, 10, 19),\n '29546.jpg': (2, 36, 1),\n '42877.jpg': (4, 38, 9),\n '9656.jpg': (2, 25, 9),\n '23840.jpg': (2, 5, 3),\n '18201.jpg': (2, 16, 12),\n '35925.jpg': (4, 6, 20),\n '8784.jpg': (3, 29, 3),\n '4975.jpg': (2, 36, 16),\n '56679.jpg': (4, 14, 3),\n '24259.jpg': (2, 5, 11),\n '38606.jpg': (2, 36, 19),\n '59631.jpg': (4, 24, 16),\n '4149.jpg': (4, 28, 19),\n '10850.jpg': (2, 36, 2),\n '26956.jpg': (4, 33, 1),\n '29122.jpg': (3, 4, 1),\n '30833.jpg': (4, 18, 0),\n '27884.jpg': (4, 25, 2),\n '3708.jpg': (2, 36, 11),\n '48115.jpg': (4, 1, 1),\n '18665.jpg': (2, 5, 19),\n '47961.jpg': (4, 6, 8),\n '10408.jpg': (4, 33, 1),\n '15946.jpg': (2, 32, 1),\n '1863.jpg': (2, 36, 1),\n '59255.jpg': (2, 39, 1),\n '20893.jpg': (2, 5, 1),\n '58989.jpg': (2, 7, 19),\n '38050.jpg': (2, 39, 1),\n '41098.jpg': (4, 33, 5),\n '21941.jpg': (4, 13, 1),\n '56813.jpg': (4, 19, 10),\n '59067.jpg': (4, 2, 1),\n '15348.jpg': (2, 36, 1),\n '12951.jpg': (2, 25, 2),\n '6048.jpg': (2, 25, 1),\n '13883.jpg': (2, 25, 15),\n '19585.jpg': (4, 33, 2),\n '6874.jpg': (4, 8, 14),\n '18457.jpg': (2, 22, 19),\n '9000.jpg': (2, 5, 3),\n '48327.jpg': (4, 13, 7),\n '35589.jpg': (2, 23, 12),\n '31915.jpg': (4, 6, 7),\n '27870.jpg': (4, 25, 19),\n '19743.jpg': (4, 4, 2),\n '8314.jpg': (2, 25, 2),\n '47995.jpg': (2, 39, 1),\n '38296.jpg': (2, 38, 3),\n '14860.jpg': (4, 38, 4),\n '39344.jpg': (2, 36, 7),\n '1897.jpg': (2, 36, 2),\n '52649.jpg': (4, 13, 13),\n '57109.jpg': (4, 37, 2),\n '36902.jpg': (2, 39, 17),\n '25529.jpg': (2, 25, 19),\n '39176.jpg': (4, 18, 15),\n '40982.jpg': (0, 36, 19),\n '58141.jpg': (4, 9, 17),\n '57935.jpg': (2, 23, 1),\n '59093.jpg': (4, 2, 19),\n '41850.jpg': (2, 27, 1),\n '21189.jpg': (3, 0, 2),\n '16539.jpg': (2, 25, 19),\n '46249.jpg': (4, 37, 14),\n '13877.jpg': (2, 25, 9),\n '28236.jpg': (4, 7, 14),\n '8126.jpg': (2, 1, 3),\n '19571.jpg': (2, 36, 1),\n '12199.jpg': (2, 36, 2),\n '7952.jpg': (2, 36, 1),\n '6880.jpg': (4, 16, 1),\n '11378.jpg': (2, 25, 19),\n '39512.jpg': (3, 0, 1),\n '52823.jpg': (4, 9, 7),\n '41408.jpg': (4, 33, 16),\n '33028.jpg': (4, 18, 2),\n '25971.jpg': (4, 8, 1),\n '37488.jpg': (4, 39, 17),\n '2844.jpg': (2, 36, 11),\n '50748.jpg': (2, 5, 3),\n '28652.jpg': (2, 28, 1),\n '29780.jpg': (2, 35, 1),\n '3996.jpg': (2, 11, 1),\n '2078.jpg': (4, 36, 1),\n '9490.jpg': (3, 0, 1),\n '49665.jpg': (2, 29, 1),\n '8542.jpg': (4, 11, 1),\n '16961.jpg': (2, 29, 1),\n '19115.jpg': (2, 36, 19),\n '28460.jpg': (4, 26, 14),\n '23088.jpg': (2, 35, 8),\n ...}"
     },
     "execution_count": 18,
     "metadata": {},
     "output_type": "execute_result"
    }
   ],
   "source": [
    "# Check if enc works backwards as well\n",
    "encoded_translation_dict = dict(zip(new_df['image'], zip(enc_labels_df[0], enc_labels_df[1], enc_labels_df[2])))\n",
    "encoded_translation_dict\n"
   ],
   "metadata": {
    "collapsed": false,
    "pycharm": {
     "name": "#%%\n"
    }
   }
  },
  {
   "cell_type": "code",
   "execution_count": 41,
   "outputs": [],
   "source": [
    "## Define FashionDataset class.\n",
    "\n",
    "from torch.utils.data import Dataset, DataLoader\n",
    "from torchvision import datasets, transforms, models\n",
    "from PIL import Image\n",
    "\n",
    "class FashionDataset(Dataset):\n",
    "    def __init__(self, img_path, transform, translation_dict):\n",
    "        self.path = img_path\n",
    "\n",
    "        self.transform = transform\n",
    "        self.translation_dict = translation_dict\n",
    "        # Don't use listdir, because some of the images in the folder are excluded to avoid skews.\n",
    "        self.folder = [x for x in list(translation_dict.keys())]\n",
    "    def __len__(self):\n",
    "        return len(self.translation_dict)\n",
    "    def __getitem__(self, idx):\n",
    "        img_loc = os.path.join(self.path, self.folder[idx])\n",
    "        image = Image.open(img_loc).convert('RGB')\n",
    "        single_img = self.transform(image)\n",
    "\n",
    "        label1 = self.translation_dict[self.folder[idx]][0]\n",
    "        label2 = self.translation_dict[self.folder[idx]][1]\n",
    "        label3 = self.translation_dict[self.folder[idx]][2]\n",
    "\n",
    "\n",
    "        sample = {'image': single_img, 'labels': {'label_gender': label1, 'label_type': label2,\n",
    "                                                  'label_color': label3}}\n",
    "        return sample\n"
   ],
   "metadata": {
    "collapsed": false,
    "pycharm": {
     "name": "#%%\n"
    }
   }
  },
  {
   "cell_type": "code",
   "execution_count": 42,
   "outputs": [],
   "source": [
    "# define transformation (just normalize and resize)\n",
    "# and create dataset\n",
    "IMG_PATH = d + '/Downloads/fashion-dataset/images/' # change this when changing workplace\n",
    "\n",
    "data_transforms = transforms.Compose([\n",
    "    transforms.Resize((224, 224)),\n",
    "    transforms.ToTensor(),\n",
    "    transforms.Normalize((0.5, 0.5, 0.5), (0.5, 0.5, 0.5))\n",
    "])\n",
    "\n",
    "data = FashionDataset(IMG_PATH, transform=data_transforms, translation_dict=encoded_translation_dict)"
   ],
   "metadata": {
    "collapsed": false,
    "pycharm": {
     "name": "#%%\n"
    }
   }
  },
  {
   "cell_type": "code",
   "execution_count": 34,
   "outputs": [
    {
     "name": "stdout",
     "output_type": "stream",
     "text": [
      "38532\n"
     ]
    }
   ],
   "source": [
    "#len(encoded_translation_dict)\n",
    "print(data.__len__())"
   ],
   "metadata": {
    "collapsed": false,
    "pycharm": {
     "name": "#%%\n"
    }
   }
  },
  {
   "cell_type": "code",
   "execution_count": 43,
   "outputs": [],
   "source": [
    "# split data\n",
    "import torch\n",
    "train_len = int(data.__len__()*0.8)\n",
    "val_len = int(data.__len__()*0.1)\n",
    "\n",
    "test_len = data.__len__() - train_len - val_len\n",
    "\n",
    "#print(train_len + val_len + test_len)\n",
    "train_set, val_set, test_set = torch.utils.data.random_split(data, [train_len, val_len, test_len])"
   ],
   "metadata": {
    "collapsed": false,
    "pycharm": {
     "name": "#%%\n"
    }
   }
  },
  {
   "cell_type": "code",
   "execution_count": 44,
   "outputs": [],
   "source": [
    "train_loader = DataLoader(train_set, batch_size = 128, shuffle = True,\n",
    "                          num_workers = 0, drop_last = True)\n",
    "val_loader = DataLoader(val_set, batch_size = 128, shuffle = True,\n",
    "                          num_workers = 0, drop_last = True)\n",
    "test_loader = DataLoader(test_set, batch_size = 32, shuffle = True,\n",
    "                          num_workers = 0, drop_last = True)"
   ],
   "metadata": {
    "collapsed": false,
    "pycharm": {
     "name": "#%%\n"
    }
   }
  },
  {
   "cell_type": "code",
   "execution_count": 45,
   "outputs": [],
   "source": [
    "import torchvision\n",
    "ex1 = data.__getitem__(0)['image']\n",
    "\n",
    "to_img = torchvision.transforms.ToPILImage()\n",
    "\n",
    "ex_img = to_img(ex1)\n",
    "\n",
    "ex_img.show()\n"
   ],
   "metadata": {
    "collapsed": false,
    "pycharm": {
     "name": "#%%\n"
    }
   }
  },
  {
   "cell_type": "code",
   "execution_count": 45,
   "outputs": [],
   "source": [],
   "metadata": {
    "collapsed": false,
    "pycharm": {
     "name": "#%%\n"
    }
   }
  },
  {
   "cell_type": "code",
   "execution_count": 46,
   "outputs": [
    {
     "name": "stdout",
     "output_type": "stream",
     "text": [
      "{'image': tensor([[[[ 1.0000,  1.0000,  1.0000,  ...,  1.0000,  1.0000,  1.0000],\n",
      "          [ 1.0000,  1.0000,  1.0000,  ...,  1.0000,  1.0000,  1.0000],\n",
      "          [ 1.0000,  1.0000,  1.0000,  ...,  1.0000,  1.0000,  1.0000],\n",
      "          ...,\n",
      "          [ 1.0000,  1.0000,  1.0000,  ...,  1.0000,  1.0000,  1.0000],\n",
      "          [ 1.0000,  1.0000,  1.0000,  ...,  1.0000,  1.0000,  1.0000],\n",
      "          [ 1.0000,  1.0000,  1.0000,  ...,  1.0000,  1.0000,  1.0000]],\n",
      "\n",
      "         [[ 1.0000,  1.0000,  1.0000,  ...,  1.0000,  1.0000,  1.0000],\n",
      "          [ 1.0000,  1.0000,  1.0000,  ...,  1.0000,  1.0000,  1.0000],\n",
      "          [ 1.0000,  1.0000,  1.0000,  ...,  1.0000,  1.0000,  1.0000],\n",
      "          ...,\n",
      "          [ 1.0000,  1.0000,  1.0000,  ...,  1.0000,  1.0000,  1.0000],\n",
      "          [ 1.0000,  1.0000,  1.0000,  ...,  1.0000,  1.0000,  1.0000],\n",
      "          [ 1.0000,  1.0000,  1.0000,  ...,  1.0000,  1.0000,  1.0000]],\n",
      "\n",
      "         [[ 1.0000,  1.0000,  1.0000,  ...,  1.0000,  1.0000,  1.0000],\n",
      "          [ 1.0000,  1.0000,  1.0000,  ...,  1.0000,  1.0000,  1.0000],\n",
      "          [ 1.0000,  1.0000,  1.0000,  ...,  1.0000,  1.0000,  1.0000],\n",
      "          ...,\n",
      "          [ 1.0000,  1.0000,  1.0000,  ...,  1.0000,  1.0000,  1.0000],\n",
      "          [ 1.0000,  1.0000,  1.0000,  ...,  1.0000,  1.0000,  1.0000],\n",
      "          [ 1.0000,  1.0000,  1.0000,  ...,  1.0000,  1.0000,  1.0000]]],\n",
      "\n",
      "\n",
      "        [[[ 1.0000,  1.0000,  1.0000,  ...,  1.0000,  1.0000,  1.0000],\n",
      "          [ 1.0000,  1.0000,  1.0000,  ...,  1.0000,  1.0000,  1.0000],\n",
      "          [ 1.0000,  1.0000,  1.0000,  ...,  1.0000,  1.0000,  1.0000],\n",
      "          ...,\n",
      "          [ 1.0000,  1.0000,  1.0000,  ...,  1.0000,  1.0000,  1.0000],\n",
      "          [ 1.0000,  1.0000,  1.0000,  ...,  1.0000,  1.0000,  1.0000],\n",
      "          [ 1.0000,  1.0000,  1.0000,  ...,  1.0000,  1.0000,  1.0000]],\n",
      "\n",
      "         [[ 1.0000,  1.0000,  1.0000,  ...,  1.0000,  1.0000,  1.0000],\n",
      "          [ 1.0000,  1.0000,  1.0000,  ...,  1.0000,  1.0000,  1.0000],\n",
      "          [ 1.0000,  1.0000,  1.0000,  ...,  1.0000,  1.0000,  1.0000],\n",
      "          ...,\n",
      "          [ 1.0000,  1.0000,  1.0000,  ...,  1.0000,  1.0000,  1.0000],\n",
      "          [ 1.0000,  1.0000,  1.0000,  ...,  1.0000,  1.0000,  1.0000],\n",
      "          [ 1.0000,  1.0000,  1.0000,  ...,  1.0000,  1.0000,  1.0000]],\n",
      "\n",
      "         [[ 1.0000,  1.0000,  1.0000,  ...,  1.0000,  1.0000,  1.0000],\n",
      "          [ 1.0000,  1.0000,  1.0000,  ...,  1.0000,  1.0000,  1.0000],\n",
      "          [ 1.0000,  1.0000,  1.0000,  ...,  1.0000,  1.0000,  1.0000],\n",
      "          ...,\n",
      "          [ 1.0000,  1.0000,  1.0000,  ...,  1.0000,  1.0000,  1.0000],\n",
      "          [ 1.0000,  1.0000,  1.0000,  ...,  1.0000,  1.0000,  1.0000],\n",
      "          [ 1.0000,  1.0000,  1.0000,  ...,  1.0000,  1.0000,  1.0000]]],\n",
      "\n",
      "\n",
      "        [[[ 1.0000,  1.0000,  1.0000,  ...,  1.0000,  1.0000,  1.0000],\n",
      "          [ 1.0000,  1.0000,  1.0000,  ...,  1.0000,  1.0000,  1.0000],\n",
      "          [ 1.0000,  1.0000,  1.0000,  ...,  1.0000,  1.0000,  1.0000],\n",
      "          ...,\n",
      "          [ 1.0000,  1.0000,  1.0000,  ...,  1.0000,  1.0000,  1.0000],\n",
      "          [ 1.0000,  1.0000,  1.0000,  ...,  1.0000,  1.0000,  1.0000],\n",
      "          [ 1.0000,  1.0000,  1.0000,  ...,  1.0000,  1.0000,  1.0000]],\n",
      "\n",
      "         [[ 1.0000,  1.0000,  1.0000,  ...,  1.0000,  1.0000,  1.0000],\n",
      "          [ 1.0000,  1.0000,  1.0000,  ...,  1.0000,  1.0000,  1.0000],\n",
      "          [ 1.0000,  1.0000,  1.0000,  ...,  1.0000,  1.0000,  1.0000],\n",
      "          ...,\n",
      "          [ 1.0000,  1.0000,  1.0000,  ...,  1.0000,  1.0000,  1.0000],\n",
      "          [ 1.0000,  1.0000,  1.0000,  ...,  1.0000,  1.0000,  1.0000],\n",
      "          [ 1.0000,  1.0000,  1.0000,  ...,  1.0000,  1.0000,  1.0000]],\n",
      "\n",
      "         [[ 1.0000,  1.0000,  1.0000,  ...,  1.0000,  1.0000,  1.0000],\n",
      "          [ 1.0000,  1.0000,  1.0000,  ...,  1.0000,  1.0000,  1.0000],\n",
      "          [ 1.0000,  1.0000,  1.0000,  ...,  1.0000,  1.0000,  1.0000],\n",
      "          ...,\n",
      "          [ 1.0000,  1.0000,  1.0000,  ...,  1.0000,  1.0000,  1.0000],\n",
      "          [ 1.0000,  1.0000,  1.0000,  ...,  1.0000,  1.0000,  1.0000],\n",
      "          [ 1.0000,  1.0000,  1.0000,  ...,  1.0000,  1.0000,  1.0000]]],\n",
      "\n",
      "\n",
      "        ...,\n",
      "\n",
      "\n",
      "        [[[-0.0980, -0.0980, -0.1529,  ...,  0.5765,  0.5765,  0.5765],\n",
      "          [-0.0667, -0.0588, -0.0902,  ...,  0.5608,  0.5686,  0.5843],\n",
      "          [-0.0353, -0.0353, -0.0667,  ...,  0.5686,  0.5843,  0.6000],\n",
      "          ...,\n",
      "          [-0.4588, -0.4902, -0.5373,  ..., -0.5843, -0.5765, -0.5765],\n",
      "          [-0.4588, -0.4824, -0.5373,  ..., -0.5765, -0.5765, -0.5686],\n",
      "          [-0.4431, -0.4824, -0.5373,  ..., -0.5451, -0.5373, -0.5294]],\n",
      "\n",
      "         [[-0.2784, -0.2784, -0.2941,  ...,  0.6314,  0.6314,  0.6314],\n",
      "          [-0.2549, -0.2471, -0.2549,  ...,  0.6078,  0.6157,  0.6235],\n",
      "          [-0.2392, -0.2392, -0.2549,  ...,  0.6157,  0.6157,  0.6157],\n",
      "          ...,\n",
      "          [-0.4902, -0.5294, -0.5686,  ..., -0.5922, -0.5765, -0.5686],\n",
      "          [-0.4902, -0.5216, -0.5608,  ..., -0.5843, -0.5765, -0.5843],\n",
      "          [-0.4745, -0.5059, -0.5451,  ..., -0.5686, -0.5608, -0.5608]],\n",
      "\n",
      "         [[-0.6000, -0.6000, -0.6000,  ...,  0.5765,  0.5765,  0.5765],\n",
      "          [-0.5922, -0.5843, -0.5922,  ...,  0.5686,  0.5765,  0.5922],\n",
      "          [-0.5765, -0.5765, -0.5922,  ...,  0.5843,  0.5922,  0.5922],\n",
      "          ...,\n",
      "          [-0.7020, -0.7333, -0.7490,  ..., -0.7961, -0.7647, -0.7490],\n",
      "          [-0.7020, -0.7255, -0.7490,  ..., -0.8039, -0.7961, -0.7882],\n",
      "          [-0.6863, -0.7176, -0.7490,  ..., -0.7804, -0.7725, -0.7725]]],\n",
      "\n",
      "\n",
      "        [[[ 1.0000,  1.0000,  1.0000,  ...,  1.0000,  1.0000,  1.0000],\n",
      "          [ 1.0000,  1.0000,  1.0000,  ...,  1.0000,  1.0000,  1.0000],\n",
      "          [ 1.0000,  1.0000,  1.0000,  ...,  1.0000,  1.0000,  1.0000],\n",
      "          ...,\n",
      "          [ 1.0000,  1.0000,  1.0000,  ...,  1.0000,  1.0000,  1.0000],\n",
      "          [ 1.0000,  1.0000,  1.0000,  ...,  1.0000,  1.0000,  1.0000],\n",
      "          [ 1.0000,  1.0000,  1.0000,  ...,  1.0000,  1.0000,  1.0000]],\n",
      "\n",
      "         [[ 1.0000,  1.0000,  1.0000,  ...,  1.0000,  1.0000,  1.0000],\n",
      "          [ 1.0000,  1.0000,  1.0000,  ...,  1.0000,  1.0000,  1.0000],\n",
      "          [ 1.0000,  1.0000,  1.0000,  ...,  1.0000,  1.0000,  1.0000],\n",
      "          ...,\n",
      "          [ 1.0000,  1.0000,  1.0000,  ...,  1.0000,  1.0000,  1.0000],\n",
      "          [ 1.0000,  1.0000,  1.0000,  ...,  1.0000,  1.0000,  1.0000],\n",
      "          [ 1.0000,  1.0000,  1.0000,  ...,  1.0000,  1.0000,  1.0000]],\n",
      "\n",
      "         [[ 1.0000,  1.0000,  1.0000,  ...,  1.0000,  1.0000,  1.0000],\n",
      "          [ 1.0000,  1.0000,  1.0000,  ...,  1.0000,  1.0000,  1.0000],\n",
      "          [ 1.0000,  1.0000,  1.0000,  ...,  1.0000,  1.0000,  1.0000],\n",
      "          ...,\n",
      "          [ 1.0000,  1.0000,  1.0000,  ...,  1.0000,  1.0000,  1.0000],\n",
      "          [ 1.0000,  1.0000,  1.0000,  ...,  1.0000,  1.0000,  1.0000],\n",
      "          [ 1.0000,  1.0000,  1.0000,  ...,  1.0000,  1.0000,  1.0000]]],\n",
      "\n",
      "\n",
      "        [[[ 1.0000,  1.0000,  1.0000,  ...,  1.0000,  1.0000,  1.0000],\n",
      "          [ 1.0000,  1.0000,  1.0000,  ...,  1.0000,  1.0000,  1.0000],\n",
      "          [ 1.0000,  1.0000,  1.0000,  ...,  1.0000,  1.0000,  1.0000],\n",
      "          ...,\n",
      "          [ 1.0000,  1.0000,  1.0000,  ...,  1.0000,  1.0000,  1.0000],\n",
      "          [ 1.0000,  1.0000,  1.0000,  ...,  1.0000,  1.0000,  1.0000],\n",
      "          [ 1.0000,  1.0000,  1.0000,  ...,  1.0000,  1.0000,  1.0000]],\n",
      "\n",
      "         [[ 1.0000,  1.0000,  1.0000,  ...,  1.0000,  1.0000,  1.0000],\n",
      "          [ 1.0000,  1.0000,  1.0000,  ...,  1.0000,  1.0000,  1.0000],\n",
      "          [ 1.0000,  1.0000,  1.0000,  ...,  1.0000,  1.0000,  1.0000],\n",
      "          ...,\n",
      "          [ 1.0000,  1.0000,  1.0000,  ...,  1.0000,  1.0000,  1.0000],\n",
      "          [ 1.0000,  1.0000,  1.0000,  ...,  1.0000,  1.0000,  1.0000],\n",
      "          [ 1.0000,  1.0000,  1.0000,  ...,  1.0000,  1.0000,  1.0000]],\n",
      "\n",
      "         [[ 1.0000,  1.0000,  1.0000,  ...,  1.0000,  1.0000,  1.0000],\n",
      "          [ 1.0000,  1.0000,  1.0000,  ...,  1.0000,  1.0000,  1.0000],\n",
      "          [ 1.0000,  1.0000,  1.0000,  ...,  1.0000,  1.0000,  1.0000],\n",
      "          ...,\n",
      "          [ 1.0000,  1.0000,  1.0000,  ...,  1.0000,  1.0000,  1.0000],\n",
      "          [ 1.0000,  1.0000,  1.0000,  ...,  1.0000,  1.0000,  1.0000],\n",
      "          [ 1.0000,  1.0000,  1.0000,  ...,  1.0000,  1.0000,  1.0000]]]]), 'labels': {'label_gender': tensor([4, 4, 2, 2, 1, 4, 4, 2, 2, 4, 4, 2, 4, 4, 2, 4, 4, 2, 0, 2, 4, 2, 2, 4,\n",
      "        2, 2, 4, 2, 4, 4, 2, 2]), 'label_type': tensor([18, 33, 39, 36, 33,  8, 20, 36, 15, 33, 39, 36, 13, 10, 36, 37, 14, 36,\n",
      "        36, 12,  8,  5, 22, 33, 25, 25, 36,  5, 39,  3, 31, 36]), 'label_color': tensor([10,  5,  1,  8,  1,  2,  3, 15,  1,  8, 19,  2, 14,  3,  2, 19, 19, 16,\n",
      "        19,  1, 11,  3,  1,  8,  7, 19, 20, 16, 19,  5,  8,  3])}}\n"
     ]
    }
   ],
   "source": [
    "sample = next(iter(train_loader))\n",
    "print(sample)"
   ],
   "metadata": {
    "collapsed": false,
    "pycharm": {
     "name": "#%%\n"
    }
   }
  },
  {
   "cell_type": "code",
   "execution_count": 48,
   "outputs": [
    {
     "name": "stderr",
     "output_type": "stream",
     "text": [
      "Downloading: \"https://download.pytorch.org/models/resnet34-b627a593.pth\" to /Users/jaeminko/.cache/torch/hub/checkpoints/resnet34-b627a593.pth\n"
     ]
    },
    {
     "data": {
      "text/plain": "  0%|          | 0.00/83.3M [00:00<?, ?B/s]",
      "application/vnd.jupyter.widget-view+json": {
       "version_major": 2,
       "version_minor": 0,
       "model_id": "769f7e655af9422f93963f86bafc31d1"
      }
     },
     "metadata": {},
     "output_type": "display_data"
    },
    {
     "data": {
      "text/plain": "[Sequential(\n   (0): BasicBlock(\n     (conv1): Conv2d(256, 512, kernel_size=(3, 3), stride=(2, 2), padding=(1, 1), bias=False)\n     (bn1): BatchNorm2d(512, eps=1e-05, momentum=0.1, affine=True, track_running_stats=True)\n     (relu): ReLU(inplace=True)\n     (conv2): Conv2d(512, 512, kernel_size=(3, 3), stride=(1, 1), padding=(1, 1), bias=False)\n     (bn2): BatchNorm2d(512, eps=1e-05, momentum=0.1, affine=True, track_running_stats=True)\n     (downsample): Sequential(\n       (0): Conv2d(256, 512, kernel_size=(1, 1), stride=(2, 2), bias=False)\n       (1): BatchNorm2d(512, eps=1e-05, momentum=0.1, affine=True, track_running_stats=True)\n     )\n   )\n   (1): BasicBlock(\n     (conv1): Conv2d(512, 512, kernel_size=(3, 3), stride=(1, 1), padding=(1, 1), bias=False)\n     (bn1): BatchNorm2d(512, eps=1e-05, momentum=0.1, affine=True, track_running_stats=True)\n     (relu): ReLU(inplace=True)\n     (conv2): Conv2d(512, 512, kernel_size=(3, 3), stride=(1, 1), padding=(1, 1), bias=False)\n     (bn2): BatchNorm2d(512, eps=1e-05, momentum=0.1, affine=True, track_running_stats=True)\n   )\n   (2): BasicBlock(\n     (conv1): Conv2d(512, 512, kernel_size=(3, 3), stride=(1, 1), padding=(1, 1), bias=False)\n     (bn1): BatchNorm2d(512, eps=1e-05, momentum=0.1, affine=True, track_running_stats=True)\n     (relu): ReLU(inplace=True)\n     (conv2): Conv2d(512, 512, kernel_size=(3, 3), stride=(1, 1), padding=(1, 1), bias=False)\n     (bn2): BatchNorm2d(512, eps=1e-05, momentum=0.1, affine=True, track_running_stats=True)\n   )\n ),\n AdaptiveAvgPool2d(output_size=(1, 1)),\n Linear(in_features=512, out_features=1000, bias=True)]"
     },
     "execution_count": 48,
     "metadata": {},
     "output_type": "execute_result"
    }
   ],
   "source": [
    "resnet = models.resnet34(pretrained=True)\n",
    "list(resnet.children())[-3:]"
   ],
   "metadata": {
    "collapsed": false,
    "pycharm": {
     "name": "#%%\n"
    }
   }
  },
  {
   "cell_type": "code",
   "execution_count": 50,
   "outputs": [],
   "source": [
    "model_wo_fc = torch.nn.Sequential(*(list(resnet.children())[:-1]))"
   ],
   "metadata": {
    "collapsed": false,
    "pycharm": {
     "name": "#%%\n"
    }
   }
  },
  {
   "cell_type": "code",
   "execution_count": 51,
   "outputs": [
    {
     "name": "stdout",
     "output_type": "stream",
     "text": [
      "tensor([[[[1.6053]],\n",
      "\n",
      "         [[0.0151]],\n",
      "\n",
      "         [[0.1314]],\n",
      "\n",
      "         ...,\n",
      "\n",
      "         [[0.7581]],\n",
      "\n",
      "         [[0.6744]],\n",
      "\n",
      "         [[1.4668]]],\n",
      "\n",
      "\n",
      "        [[[2.0585]],\n",
      "\n",
      "         [[0.0984]],\n",
      "\n",
      "         [[1.2802]],\n",
      "\n",
      "         ...,\n",
      "\n",
      "         [[0.5553]],\n",
      "\n",
      "         [[0.2978]],\n",
      "\n",
      "         [[1.6059]]],\n",
      "\n",
      "\n",
      "        [[[0.6802]],\n",
      "\n",
      "         [[0.6827]],\n",
      "\n",
      "         [[1.2234]],\n",
      "\n",
      "         ...,\n",
      "\n",
      "         [[3.2624]],\n",
      "\n",
      "         [[0.2657]],\n",
      "\n",
      "         [[0.0909]]],\n",
      "\n",
      "\n",
      "        ...,\n",
      "\n",
      "\n",
      "        [[[1.4898]],\n",
      "\n",
      "         [[0.0546]],\n",
      "\n",
      "         [[0.9322]],\n",
      "\n",
      "         ...,\n",
      "\n",
      "         [[0.0608]],\n",
      "\n",
      "         [[1.4380]],\n",
      "\n",
      "         [[0.2097]]],\n",
      "\n",
      "\n",
      "        [[[1.7961]],\n",
      "\n",
      "         [[1.5309]],\n",
      "\n",
      "         [[0.0932]],\n",
      "\n",
      "         ...,\n",
      "\n",
      "         [[1.0757]],\n",
      "\n",
      "         [[3.5311]],\n",
      "\n",
      "         [[0.0363]]],\n",
      "\n",
      "\n",
      "        [[[2.1392]],\n",
      "\n",
      "         [[0.5603]],\n",
      "\n",
      "         [[2.1709]],\n",
      "\n",
      "         ...,\n",
      "\n",
      "         [[0.4487]],\n",
      "\n",
      "         [[0.0269]],\n",
      "\n",
      "         [[0.6371]]]], grad_fn=<MeanBackward1>)\n"
     ]
    }
   ],
   "source": [
    "print(model_wo_fc(sample['image']))"
   ],
   "metadata": {
    "collapsed": false,
    "pycharm": {
     "name": "#%%\n"
    }
   }
  },
  {
   "cell_type": "code",
   "execution_count": 52,
   "outputs": [],
   "source": [
    "class MultiLabelClassifier(torch.nn.Module):\n",
    "    def __init__(self, n_gender, n_type, n_color):\n",
    "        super().__init__()\n",
    "        self.resnet = models.resnet34(pretrained=True)\n",
    "        self.model_wo_fc = torch.nn.Sequential(*(list(self.resnet.children())[:-1]))\n",
    "\n",
    "        self.gender = torch.nn.Sequential(\n",
    "            torch.nn.Dropout(p=0.2),\n",
    "            torch.nn.Linear(in_features=512, out_features=n_gender)\n",
    "        )\n",
    "        self.type = torch.nn.Sequential(\n",
    "            torch.nn.Dropout(p=0.2),\n",
    "            torch.nn.Linear(in_features=512, out_features=n_type)\n",
    "        )\n",
    "        self.color = torch.nn.Sequential(\n",
    "            torch.nn.Dropout(p=0.2),\n",
    "            torch.nn.Linear(in_features=512, out_features=n_color)\n",
    "        )\n",
    "    def forward(self, x):\n",
    "        x = self.model_wo_fc(x)\n",
    "        x = torch.flatten(x, 1)\n",
    "        return {\n",
    "            'gender': self.gender(x),\n",
    "            'type': self.type(x),\n",
    "            'color': self.color(x)\n",
    "        }\n",
    "\n",
    "\n"
   ],
   "metadata": {
    "collapsed": false,
    "pycharm": {
     "name": "#%%\n"
    }
   }
  },
  {
   "cell_type": "code",
   "execution_count": 53,
   "outputs": [
    {
     "name": "stdout",
     "output_type": "stream",
     "text": [
      "False\n"
     ]
    }
   ],
   "source": [
    "device = torch.device('cuda' if torch.cuda.is_available() else 'cpu')\n",
    "model = MultiLabelClassifier(5, 40, 21).to(device)"
   ],
   "metadata": {
    "collapsed": false,
    "pycharm": {
     "name": "#%%\n"
    }
   }
  }
 ],
 "metadata": {
  "kernelspec": {
   "display_name": "Python 3",
   "language": "python",
   "name": "python3"
  },
  "language_info": {
   "codemirror_mode": {
    "name": "ipython",
    "version": 2
   },
   "file_extension": ".py",
   "mimetype": "text/x-python",
   "name": "python",
   "nbconvert_exporter": "python",
   "pygments_lexer": "ipython2",
   "version": "2.7.6"
  }
 },
 "nbformat": 4,
 "nbformat_minor": 0
}