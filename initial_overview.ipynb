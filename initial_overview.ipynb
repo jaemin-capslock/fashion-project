{
 "cells": [
  {
   "cell_type": "code",
   "execution_count": 1,
   "metadata": {
    "collapsed": true,
    "pycharm": {
     "name": "#%%\n"
    }
   },
   "outputs": [],
   "source": [
    "import os\n",
    "import numpy as np\n",
    "import pandas as pd\n"
   ]
  },
  {
   "cell_type": "code",
   "execution_count": 2,
   "outputs": [
    {
     "name": "stdout",
     "output_type": "stream",
     "text": [
      "/Users/jaeminko\n"
     ]
    }
   ],
   "source": [
    "d = os.path.dirname(os.path.dirname(os.path.abspath('')))\n",
    "print(d)"
   ],
   "metadata": {
    "collapsed": false,
    "pycharm": {
     "name": "#%%\n"
    }
   }
  },
  {
   "cell_type": "code",
   "execution_count": 3,
   "outputs": [
    {
     "data": {
      "text/plain": "      id gender masterCategory subCategory  articleType baseColour  season  \\\n0  15970    Men        Apparel     Topwear       Shirts  Navy Blue    Fall   \n1  39386    Men        Apparel  Bottomwear        Jeans       Blue  Summer   \n2  59263  Women    Accessories     Watches      Watches     Silver  Winter   \n3  21379    Men        Apparel  Bottomwear  Track Pants      Black    Fall   \n4  53759    Men        Apparel     Topwear      Tshirts       Grey  Summer   \n\n     year   usage                             productDisplayName  \n0  2011.0  Casual               Turtle Check Men Navy Blue Shirt  \n1  2012.0  Casual             Peter England Men Party Blue Jeans  \n2  2016.0  Casual                       Titan Women Silver Watch  \n3  2011.0  Casual  Manchester United Men Solid Black Track Pants  \n4  2012.0  Casual                          Puma Men Grey T-shirt  ",
      "text/html": "<div>\n<style scoped>\n    .dataframe tbody tr th:only-of-type {\n        vertical-align: middle;\n    }\n\n    .dataframe tbody tr th {\n        vertical-align: top;\n    }\n\n    .dataframe thead th {\n        text-align: right;\n    }\n</style>\n<table border=\"1\" class=\"dataframe\">\n  <thead>\n    <tr style=\"text-align: right;\">\n      <th></th>\n      <th>id</th>\n      <th>gender</th>\n      <th>masterCategory</th>\n      <th>subCategory</th>\n      <th>articleType</th>\n      <th>baseColour</th>\n      <th>season</th>\n      <th>year</th>\n      <th>usage</th>\n      <th>productDisplayName</th>\n    </tr>\n  </thead>\n  <tbody>\n    <tr>\n      <th>0</th>\n      <td>15970</td>\n      <td>Men</td>\n      <td>Apparel</td>\n      <td>Topwear</td>\n      <td>Shirts</td>\n      <td>Navy Blue</td>\n      <td>Fall</td>\n      <td>2011.0</td>\n      <td>Casual</td>\n      <td>Turtle Check Men Navy Blue Shirt</td>\n    </tr>\n    <tr>\n      <th>1</th>\n      <td>39386</td>\n      <td>Men</td>\n      <td>Apparel</td>\n      <td>Bottomwear</td>\n      <td>Jeans</td>\n      <td>Blue</td>\n      <td>Summer</td>\n      <td>2012.0</td>\n      <td>Casual</td>\n      <td>Peter England Men Party Blue Jeans</td>\n    </tr>\n    <tr>\n      <th>2</th>\n      <td>59263</td>\n      <td>Women</td>\n      <td>Accessories</td>\n      <td>Watches</td>\n      <td>Watches</td>\n      <td>Silver</td>\n      <td>Winter</td>\n      <td>2016.0</td>\n      <td>Casual</td>\n      <td>Titan Women Silver Watch</td>\n    </tr>\n    <tr>\n      <th>3</th>\n      <td>21379</td>\n      <td>Men</td>\n      <td>Apparel</td>\n      <td>Bottomwear</td>\n      <td>Track Pants</td>\n      <td>Black</td>\n      <td>Fall</td>\n      <td>2011.0</td>\n      <td>Casual</td>\n      <td>Manchester United Men Solid Black Track Pants</td>\n    </tr>\n    <tr>\n      <th>4</th>\n      <td>53759</td>\n      <td>Men</td>\n      <td>Apparel</td>\n      <td>Topwear</td>\n      <td>Tshirts</td>\n      <td>Grey</td>\n      <td>Summer</td>\n      <td>2012.0</td>\n      <td>Casual</td>\n      <td>Puma Men Grey T-shirt</td>\n    </tr>\n  </tbody>\n</table>\n</div>"
     },
     "execution_count": 3,
     "metadata": {},
     "output_type": "execute_result"
    }
   ],
   "source": [
    "styles_df = pd.read_csv(d + '/Downloads/fashion-dataset/styles.csv', on_bad_lines='skip')\n",
    "styles_df.head()"
   ],
   "metadata": {
    "collapsed": false,
    "pycharm": {
     "name": "#%%\n"
    }
   }
  },
  {
   "cell_type": "code",
   "execution_count": 4,
   "outputs": [
    {
     "data": {
      "text/plain": "Casual          16769\nSports           2954\nFormal           2235\nEthnic            107\nSmart Casual       54\nParty               2\nTravel              2\nName: usage, dtype: int64"
     },
     "execution_count": 4,
     "metadata": {},
     "output_type": "execute_result"
    }
   ],
   "source": [
    "styles_df[styles_df['gender'] == 'Men']['usage'].value_counts()"
   ],
   "metadata": {
    "collapsed": false,
    "pycharm": {
     "name": "#%%\n"
    }
   }
  },
  {
   "cell_type": "code",
   "execution_count": 6,
   "outputs": [
    {
     "ename": "ValueError",
     "evalue": "operands could not be broadcast together with shapes (46,) (143,) ",
     "output_type": "error",
     "traceback": [
      "\u001B[0;31m---------------------------------------------------------------------------\u001B[0m",
      "\u001B[0;31mValueError\u001B[0m                                Traceback (most recent call last)",
      "\u001B[0;32m/var/folders/dx/2k7pj8y12fbg573svnby_g4h0000gn/T/ipykernel_7572/3629539685.py\u001B[0m in \u001B[0;36m<module>\u001B[0;34m\u001B[0m\n\u001B[1;32m      1\u001B[0m \u001B[0mN_PICS\u001B[0m \u001B[0;34m=\u001B[0m \u001B[0;36m200\u001B[0m\u001B[0;34m\u001B[0m\u001B[0;34m\u001B[0m\u001B[0m\n\u001B[1;32m      2\u001B[0m \u001B[0;34m\u001B[0m\u001B[0m\n\u001B[0;32m----> 3\u001B[0;31m N_CLASSES = np.sum((styles_df['baseColour'].value_counts().to_numpy() > N_PICS ) & \n\u001B[0m\u001B[1;32m      4\u001B[0m                    (styles_df['articleType'].value_counts().to_numpy() > N_PICS))\n\u001B[1;32m      5\u001B[0m \u001B[0;34m\u001B[0m\u001B[0m\n",
      "\u001B[0;31mValueError\u001B[0m: operands could not be broadcast together with shapes (46,) (143,) "
     ]
    }
   ],
   "source": [
    "N_PICS = 200\n",
    "\n",
    "N_CLASSES = np.sum((styles_df['baseColour'].value_counts().to_numpy() > N_PICS ) &\n",
    "                   (styles_df['articleType'].value_counts().to_numpy() > N_PICS))\n",
    "\n",
    "styles_df['baseColour'].value_counts()"
   ],
   "metadata": {
    "collapsed": false,
    "pycharm": {
     "name": "#%%\n"
    }
   }
  },
  {
   "cell_type": "code",
   "execution_count": 12,
   "outputs": [],
   "source": [
    "color_count = styles_df['baseColour'].value_counts()\n",
    "article_count = styles_df['articleType'].value_counts()"
   ],
   "metadata": {
    "collapsed": false,
    "pycharm": {
     "name": "#%%\n"
    }
   }
  },
  {
   "cell_type": "code",
   "execution_count": 16,
   "outputs": [
    {
     "data": {
      "text/plain": "Tshirts                  6870\nShirts                   3160\nCasual Shoes             2753\nWatches                  2504\nSports Shoes             2030\nKurtas                   1714\nHandbags                 1658\nTops                     1600\nHeels                    1243\nSunglasses               1008\nFlip Flops                904\nWallets                   896\nSandals                   861\nBelts                     787\nBriefs                    763\nBackpacks                 720\nSocks                     682\nFormal Shoes              620\nJeans                     606\nPerfume and Body Mist     595\nShorts                    529\nTrousers                  496\nFlats                     473\nDresses                   433\nEarrings                  410\nBra                       400\nSarees                    389\nDeodorant                 340\nTrack Pants               295\nCaps                      281\nSweatshirts               279\nLipstick                  277\nNail Polish               273\nSweaters                  270\nClutches                  266\nJackets                   252\nTies                      251\nInnerwear Vests           227\nKurtis                    218\nTunics                    213\nName: articleType, dtype: int64"
     },
     "execution_count": 16,
     "metadata": {},
     "output_type": "execute_result"
    }
   ],
   "source": [
    "to_remove_color = color_count[color_count <= 200].index\n",
    "to_remove_article = article_count[article_count <= 200].index\n",
    "\n",
    "filtered_df = styles_df[(~styles_df['baseColour'].isin(to_remove_color)) & (~styles_df['articleType'].isin(to_remove_article))]\n",
    "filtered_df['articleType'].value_counts()"
   ],
   "metadata": {
    "collapsed": false,
    "pycharm": {
     "name": "#%%\n"
    }
   }
  },
  {
   "cell_type": "code",
   "execution_count": null,
   "outputs": [],
   "source": [
    "# TODO: Zip label like (Gender, baseColour, articleType) for each data.\n",
    "\n",
    "# Then convert into data - label pair."
   ],
   "metadata": {
    "collapsed": false,
    "pycharm": {
     "name": "#%%\n"
    }
   }
  },
  {
   "cell_type": "code",
   "execution_count": 17,
   "outputs": [
    {
     "name": "stderr",
     "output_type": "stream",
     "text": [
      "/var/folders/dx/2k7pj8y12fbg573svnby_g4h0000gn/T/ipykernel_7572/3390442019.py:1: SettingWithCopyWarning: \n",
      "A value is trying to be set on a copy of a slice from a DataFrame.\n",
      "Try using .loc[row_indexer,col_indexer] = value instead\n",
      "\n",
      "See the caveats in the documentation: https://pandas.pydata.org/pandas-docs/stable/user_guide/indexing.html#returning-a-view-versus-a-copy\n",
      "  filtered_df['image'] = filtered_df.apply(lambda row: str(row['id']) + \".jpg\", axis=1)\n"
     ]
    },
    {
     "data": {
      "text/plain": "          id gender masterCategory subCategory            articleType  \\\n0      15970    Men        Apparel     Topwear                 Shirts   \n1      39386    Men        Apparel  Bottomwear                  Jeans   \n2      59263  Women    Accessories     Watches                Watches   \n3      21379    Men        Apparel  Bottomwear            Track Pants   \n4      53759    Men        Apparel     Topwear                Tshirts   \n...      ...    ...            ...         ...                    ...   \n44419  17036    Men       Footwear       Shoes           Casual Shoes   \n44420   6461    Men       Footwear  Flip Flops             Flip Flops   \n44421  18842    Men        Apparel     Topwear                Tshirts   \n44422  46694  Women  Personal Care   Fragrance  Perfume and Body Mist   \n44423  51623  Women    Accessories     Watches                Watches   \n\n      baseColour  season    year   usage  \\\n0      Navy Blue    Fall  2011.0  Casual   \n1           Blue  Summer  2012.0  Casual   \n2         Silver  Winter  2016.0  Casual   \n3          Black    Fall  2011.0  Casual   \n4           Grey  Summer  2012.0  Casual   \n...          ...     ...     ...     ...   \n44419      White  Summer  2013.0  Casual   \n44420        Red  Summer  2011.0  Casual   \n44421       Blue    Fall  2011.0  Casual   \n44422       Blue  Spring  2017.0  Casual   \n44423       Pink  Winter  2016.0  Casual   \n\n                                    productDisplayName      image  \n0                     Turtle Check Men Navy Blue Shirt  15970.jpg  \n1                   Peter England Men Party Blue Jeans  39386.jpg  \n2                             Titan Women Silver Watch  59263.jpg  \n3        Manchester United Men Solid Black Track Pants  21379.jpg  \n4                                Puma Men Grey T-shirt  53759.jpg  \n...                                                ...        ...  \n44419                        Gas Men Caddy Casual Shoe  17036.jpg  \n44420               Lotto Men's Soccer Track Flip Flop   6461.jpg  \n44421             Puma Men Graphic Stellar Blue Tshirt  18842.jpg  \n44422                   Rasasi Women Blue Lady Perfume  46694.jpg  \n44423  Fossil Women Pink Dial Chronograph Watch ES3050  51623.jpg  \n\n[38546 rows x 11 columns]",
      "text/html": "<div>\n<style scoped>\n    .dataframe tbody tr th:only-of-type {\n        vertical-align: middle;\n    }\n\n    .dataframe tbody tr th {\n        vertical-align: top;\n    }\n\n    .dataframe thead th {\n        text-align: right;\n    }\n</style>\n<table border=\"1\" class=\"dataframe\">\n  <thead>\n    <tr style=\"text-align: right;\">\n      <th></th>\n      <th>id</th>\n      <th>gender</th>\n      <th>masterCategory</th>\n      <th>subCategory</th>\n      <th>articleType</th>\n      <th>baseColour</th>\n      <th>season</th>\n      <th>year</th>\n      <th>usage</th>\n      <th>productDisplayName</th>\n      <th>image</th>\n    </tr>\n  </thead>\n  <tbody>\n    <tr>\n      <th>0</th>\n      <td>15970</td>\n      <td>Men</td>\n      <td>Apparel</td>\n      <td>Topwear</td>\n      <td>Shirts</td>\n      <td>Navy Blue</td>\n      <td>Fall</td>\n      <td>2011.0</td>\n      <td>Casual</td>\n      <td>Turtle Check Men Navy Blue Shirt</td>\n      <td>15970.jpg</td>\n    </tr>\n    <tr>\n      <th>1</th>\n      <td>39386</td>\n      <td>Men</td>\n      <td>Apparel</td>\n      <td>Bottomwear</td>\n      <td>Jeans</td>\n      <td>Blue</td>\n      <td>Summer</td>\n      <td>2012.0</td>\n      <td>Casual</td>\n      <td>Peter England Men Party Blue Jeans</td>\n      <td>39386.jpg</td>\n    </tr>\n    <tr>\n      <th>2</th>\n      <td>59263</td>\n      <td>Women</td>\n      <td>Accessories</td>\n      <td>Watches</td>\n      <td>Watches</td>\n      <td>Silver</td>\n      <td>Winter</td>\n      <td>2016.0</td>\n      <td>Casual</td>\n      <td>Titan Women Silver Watch</td>\n      <td>59263.jpg</td>\n    </tr>\n    <tr>\n      <th>3</th>\n      <td>21379</td>\n      <td>Men</td>\n      <td>Apparel</td>\n      <td>Bottomwear</td>\n      <td>Track Pants</td>\n      <td>Black</td>\n      <td>Fall</td>\n      <td>2011.0</td>\n      <td>Casual</td>\n      <td>Manchester United Men Solid Black Track Pants</td>\n      <td>21379.jpg</td>\n    </tr>\n    <tr>\n      <th>4</th>\n      <td>53759</td>\n      <td>Men</td>\n      <td>Apparel</td>\n      <td>Topwear</td>\n      <td>Tshirts</td>\n      <td>Grey</td>\n      <td>Summer</td>\n      <td>2012.0</td>\n      <td>Casual</td>\n      <td>Puma Men Grey T-shirt</td>\n      <td>53759.jpg</td>\n    </tr>\n    <tr>\n      <th>...</th>\n      <td>...</td>\n      <td>...</td>\n      <td>...</td>\n      <td>...</td>\n      <td>...</td>\n      <td>...</td>\n      <td>...</td>\n      <td>...</td>\n      <td>...</td>\n      <td>...</td>\n      <td>...</td>\n    </tr>\n    <tr>\n      <th>44419</th>\n      <td>17036</td>\n      <td>Men</td>\n      <td>Footwear</td>\n      <td>Shoes</td>\n      <td>Casual Shoes</td>\n      <td>White</td>\n      <td>Summer</td>\n      <td>2013.0</td>\n      <td>Casual</td>\n      <td>Gas Men Caddy Casual Shoe</td>\n      <td>17036.jpg</td>\n    </tr>\n    <tr>\n      <th>44420</th>\n      <td>6461</td>\n      <td>Men</td>\n      <td>Footwear</td>\n      <td>Flip Flops</td>\n      <td>Flip Flops</td>\n      <td>Red</td>\n      <td>Summer</td>\n      <td>2011.0</td>\n      <td>Casual</td>\n      <td>Lotto Men's Soccer Track Flip Flop</td>\n      <td>6461.jpg</td>\n    </tr>\n    <tr>\n      <th>44421</th>\n      <td>18842</td>\n      <td>Men</td>\n      <td>Apparel</td>\n      <td>Topwear</td>\n      <td>Tshirts</td>\n      <td>Blue</td>\n      <td>Fall</td>\n      <td>2011.0</td>\n      <td>Casual</td>\n      <td>Puma Men Graphic Stellar Blue Tshirt</td>\n      <td>18842.jpg</td>\n    </tr>\n    <tr>\n      <th>44422</th>\n      <td>46694</td>\n      <td>Women</td>\n      <td>Personal Care</td>\n      <td>Fragrance</td>\n      <td>Perfume and Body Mist</td>\n      <td>Blue</td>\n      <td>Spring</td>\n      <td>2017.0</td>\n      <td>Casual</td>\n      <td>Rasasi Women Blue Lady Perfume</td>\n      <td>46694.jpg</td>\n    </tr>\n    <tr>\n      <th>44423</th>\n      <td>51623</td>\n      <td>Women</td>\n      <td>Accessories</td>\n      <td>Watches</td>\n      <td>Watches</td>\n      <td>Pink</td>\n      <td>Winter</td>\n      <td>2016.0</td>\n      <td>Casual</td>\n      <td>Fossil Women Pink Dial Chronograph Watch ES3050</td>\n      <td>51623.jpg</td>\n    </tr>\n  </tbody>\n</table>\n<p>38546 rows × 11 columns</p>\n</div>"
     },
     "execution_count": 17,
     "metadata": {},
     "output_type": "execute_result"
    }
   ],
   "source": [
    "filtered_df['image'] = filtered_df.apply(lambda row: str(row['id']) + \".jpg\", axis=1)\n",
    "filtered_df"
   ],
   "metadata": {
    "collapsed": false,
    "pycharm": {
     "name": "#%%\n"
    }
   }
  }
 ],
 "metadata": {
  "kernelspec": {
   "display_name": "Python 3",
   "language": "python",
   "name": "python3"
  },
  "language_info": {
   "codemirror_mode": {
    "name": "ipython",
    "version": 2
   },
   "file_extension": ".py",
   "mimetype": "text/x-python",
   "name": "python",
   "nbconvert_exporter": "python",
   "pygments_lexer": "ipython2",
   "version": "2.7.6"
  }
 },
 "nbformat": 4,
 "nbformat_minor": 0
}